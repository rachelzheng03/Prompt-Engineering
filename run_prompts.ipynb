{
  "cells": [
    {
      "cell_type": "code",
      "execution_count": 62,
      "metadata": {
        "colab": {
          "base_uri": "https://localhost:8080/"
        },
        "id": "2nsKAVFfosb-",
        "outputId": "390b2d29-766e-4e03-efaf-fa28fa6281e3"
      },
      "outputs": [
        {
          "output_type": "stream",
          "name": "stdout",
          "text": [
            "Requirement already satisfied: openai in /usr/local/lib/python3.11/dist-packages (1.75.0)\n",
            "Requirement already satisfied: anyio<5,>=3.5.0 in /usr/local/lib/python3.11/dist-packages (from openai) (4.9.0)\n",
            "Requirement already satisfied: distro<2,>=1.7.0 in /usr/local/lib/python3.11/dist-packages (from openai) (1.9.0)\n",
            "Requirement already satisfied: httpx<1,>=0.23.0 in /usr/local/lib/python3.11/dist-packages (from openai) (0.28.1)\n",
            "Requirement already satisfied: jiter<1,>=0.4.0 in /usr/local/lib/python3.11/dist-packages (from openai) (0.9.0)\n",
            "Requirement already satisfied: pydantic<3,>=1.9.0 in /usr/local/lib/python3.11/dist-packages (from openai) (2.11.3)\n",
            "Requirement already satisfied: sniffio in /usr/local/lib/python3.11/dist-packages (from openai) (1.3.1)\n",
            "Requirement already satisfied: tqdm>4 in /usr/local/lib/python3.11/dist-packages (from openai) (4.67.1)\n",
            "Requirement already satisfied: typing-extensions<5,>=4.11 in /usr/local/lib/python3.11/dist-packages (from openai) (4.13.2)\n",
            "Requirement already satisfied: idna>=2.8 in /usr/local/lib/python3.11/dist-packages (from anyio<5,>=3.5.0->openai) (3.10)\n",
            "Requirement already satisfied: certifi in /usr/local/lib/python3.11/dist-packages (from httpx<1,>=0.23.0->openai) (2025.1.31)\n",
            "Requirement already satisfied: httpcore==1.* in /usr/local/lib/python3.11/dist-packages (from httpx<1,>=0.23.0->openai) (1.0.8)\n",
            "Requirement already satisfied: h11<0.15,>=0.13 in /usr/local/lib/python3.11/dist-packages (from httpcore==1.*->httpx<1,>=0.23.0->openai) (0.14.0)\n",
            "Requirement already satisfied: annotated-types>=0.6.0 in /usr/local/lib/python3.11/dist-packages (from pydantic<3,>=1.9.0->openai) (0.7.0)\n",
            "Requirement already satisfied: pydantic-core==2.33.1 in /usr/local/lib/python3.11/dist-packages (from pydantic<3,>=1.9.0->openai) (2.33.1)\n",
            "Requirement already satisfied: typing-inspection>=0.4.0 in /usr/local/lib/python3.11/dist-packages (from pydantic<3,>=1.9.0->openai) (0.4.0)\n"
          ]
        }
      ],
      "source": [
        "# pip install openai\n",
        "!pip3 install openai"
      ]
    },
    {
      "cell_type": "code",
      "execution_count": 63,
      "metadata": {
        "id": "p0LFh1IWosb_"
      },
      "outputs": [],
      "source": [
        "import os\n",
        "from openai import OpenAI\n",
        "\n",
        "# grab the token from the token.txt file\n",
        "with open(\"token.txt\", \"r\") as f:\n",
        "    GITHUB_TOKEN = f.read().strip()\n",
        "\n",
        "# Set it as an environment variable\n",
        "os.environ[\"GITHUB_TOKEN\"] = GITHUB_TOKEN\n",
        "\n",
        "\n",
        "# To authenticate with the model you will need to generate a personal access token (PAT) in your GitHub settings.\n",
        "client = OpenAI(\n",
        "    base_url=\"https://models.inference.ai.azure.com\",\n",
        "    api_key=os.environ[\"GITHUB_TOKEN\"],\n",
        ")\n",
        "\n"
      ]
    },
    {
      "cell_type": "code",
      "source": [
        "# List of available models\n",
        "model_choices = [\"gpt-4o-mini\" , \"Codestral-2501\", \"gemini-2.0-flash\", \"gpt-4.1-mini\"]"
      ],
      "metadata": {
        "id": "BRoRcrHCaUID"
      },
      "execution_count": 64,
      "outputs": []
    },
    {
      "cell_type": "code",
      "source": [
        "# zero shot, few shot, CoT\n",
        "def run_prompt(task_num, prompt_strat, prompt, max_tokens, temp, model_num):\n",
        "  model = model_choices[model_num]\n",
        "  # Set up conversation history\n",
        "  messages = [\n",
        "      {\"role\": \"user\",\n",
        "        \"content\": prompt},\n",
        "  ]\n",
        "\n",
        "  response = client.chat.completions.create(\n",
        "      model = model,\n",
        "      messages=messages,\n",
        "      max_tokens=max_tokens,\n",
        "      temperature=temp,\n",
        "  )\n",
        "\n",
        "  # Add response to the conversation\n",
        "  reply = response.choices[0].message.content\n",
        "\n",
        "  return {\"task_num\": task_num, \"model\": model, \"prompt strategy\": prompt_strat, \"prompt\": prompt, \"output\": reply}"
      ],
      "metadata": {
        "id": "MH5AP2X9XhJe"
      },
      "execution_count": 7,
      "outputs": []
    },
    {
      "cell_type": "code",
      "source": [
        "def run_prompt_self_consistency(task_num, prompt, max_tokens, temp, model_num, num_attempts):\n",
        "  model = model_choices[model_num]\n",
        "  # Set up conversation history\n",
        "  messages = [\n",
        "      {\"role\": \"user\",\n",
        "        \"content\": prompt},\n",
        "  ]\n",
        "  output = {}\n",
        "  for i in range(num_attempts):\n",
        "    response = client.chat.completions.create(\n",
        "        model = model,\n",
        "        messages=messages,\n",
        "        max_tokens=max_tokens,\n",
        "        temperature=temp,\n",
        "    )\n",
        "\n",
        "    # Add response to the conversation\n",
        "    reply = response.choices[0].message.content\n",
        "    output[f\"output attempt {i+1}\"] = reply\n",
        "\n",
        "  return {\"task_num\": task_num, \"model\": model, \"prompt strategy\": \"self consistency\", \"prompt\": prompt, \"output\": output}"
      ],
      "metadata": {
        "id": "ztgztI6JQmeu"
      },
      "execution_count": 8,
      "outputs": []
    },
    {
      "cell_type": "code",
      "source": [
        "runs = []"
      ],
      "metadata": {
        "id": "3Fml4L-spGF3"
      },
      "execution_count": 28,
      "outputs": []
    },
    {
      "cell_type": "markdown",
      "source": [
        "# **Task 1: Code Summarization (Java)**"
      ],
      "metadata": {
        "id": "zq4cFBu-BLhW"
      }
    },
    {
      "cell_type": "code",
      "source": [
        "code = \"\"\"\n",
        "```java\n",
        "public Map < String , Integer > countWordFrequency ( List < String > words ) {\n",
        "    Map < String , Integer > freqMap = new HashMap < >() ;\n",
        "    for ( String word : words ) {\n",
        "        freqMap . put ( word , freqMap . getOrDefault ( word , 0) + 1) ;\n",
        "    }\n",
        "    return freqMap ;\n",
        "}\n",
        "```\n",
        "\"\"\""
      ],
      "metadata": {
        "id": "mUGvHm0h_CkT"
      },
      "execution_count": null,
      "outputs": []
    },
    {
      "cell_type": "markdown",
      "source": [
        "## Prompting Strategy 1: Zero Shot"
      ],
      "metadata": {
        "id": "vfeLcPHOCoQc"
      }
    },
    {
      "cell_type": "code",
      "source": [
        "prompt = f\"Summarize what this code does in one sentence:\\n{code}\"\n",
        "print(prompt)"
      ],
      "metadata": {
        "colab": {
          "base_uri": "https://localhost:8080/"
        },
        "id": "5gNircaHpctJ",
        "outputId": "114120a2-fcca-42e8-ec17-02158cdd57ef"
      },
      "execution_count": null,
      "outputs": [
        {
          "output_type": "stream",
          "name": "stdout",
          "text": [
            "Summarize what this code does in one sentence:\n",
            "\n",
            "```java\n",
            "public Map < String , Integer > countWordFrequency ( List < String > words ) {\n",
            "    Map < String , Integer > freqMap = new HashMap < >() ;\n",
            "    for ( String word : words ) {\n",
            "        freqMap . put ( word , freqMap . getOrDefault ( word , 0) + 1) ;\n",
            "    }\n",
            "    return freqMap ;\n",
            "}\n",
            "```\n",
            "\n"
          ]
        }
      ]
    },
    {
      "cell_type": "code",
      "execution_count": null,
      "metadata": {
        "colab": {
          "base_uri": "https://localhost:8080/"
        },
        "id": "0pRw6doeoscA",
        "outputId": "c035ba26-4bdd-436e-965d-e5135aecd4db"
      },
      "outputs": [
        {
          "output_type": "stream",
          "name": "stdout",
          "text": [
            "gpt-4o-mini\n",
            "The code defines a method that counts the frequency of each word in a list and returns a map where the keys are the words and the values are their respective counts.\n",
            "\n",
            "\n",
            "Codestral-2501\n",
            "This code defines a method that takes a list of words and returns a map with each word as the key and its frequency in the list as the value.\n",
            "\n",
            "\n"
          ]
        }
      ],
      "source": [
        "for i in range(2):\n",
        "  run_info = run_prompt(1, \"zero shot\", prompt, 768, 0.7, i)\n",
        "  runs.append(run_info)\n",
        "  print(run_info[\"model\"])\n",
        "  print(run_info[\"output\"])\n",
        "  print(\"\\n\")"
      ]
    },
    {
      "cell_type": "markdown",
      "source": [
        "## Prompting Strategy 2: Self Consistency"
      ],
      "metadata": {
        "id": "nNaZgi0oCzIt"
      }
    },
    {
      "cell_type": "code",
      "source": [
        "for i in range(2):\n",
        "  run_info = run_prompt_self_consistency(1, prompt, 768, 0.7, i, 2)\n",
        "  runs.append(run_info)\n",
        "  print(run_info[\"model\"])\n",
        "  print(run_info[\"output\"][\"output attempt 1\"])\n",
        "  print(run_info[\"output\"][\"output attempt 2\"])\n",
        "  print(\"\\n\")"
      ],
      "metadata": {
        "colab": {
          "base_uri": "https://localhost:8080/"
        },
        "id": "jbrD1XJBCa5O",
        "outputId": "45b2ad5c-b34b-44ae-eb3f-7d037c11cd9f"
      },
      "execution_count": null,
      "outputs": [
        {
          "output_type": "stream",
          "name": "stdout",
          "text": [
            "gpt-4o-mini\n",
            "This code defines a method that takes a list of words and returns a map that counts the frequency of each word in the list.\n",
            "This code defines a method that takes a list of words and returns a map containing the frequency count of each word.\n",
            "\n",
            "\n",
            "Codestral-2501\n",
            "This Java method `countWordFrequency` takes a list of strings and returns a map where the keys are the strings and the values are their respective frequencies in the list.\n",
            "The code defines a method that takes a list of words and returns a map where the keys are words and the values are their respective frequencies in the list.\n",
            "\n",
            "\n"
          ]
        }
      ]
    },
    {
      "cell_type": "markdown",
      "source": [
        "# **Task 2: Bug Fixing (Python – Off-by-One)**"
      ],
      "metadata": {
        "id": "LLHGU96AMkXV"
      }
    },
    {
      "cell_type": "code",
      "source": [
        "code = \"\"\"\n",
        "```python\n",
        "def sum_range ( start , end ) :\n",
        "    total = 0\n",
        "    for i in range ( start , end ) :\n",
        "        total += i\n",
        "    return total\n",
        "```\n",
        "\"\"\""
      ],
      "metadata": {
        "id": "uPzUR1DbM3O8"
      },
      "execution_count": 10,
      "outputs": []
    },
    {
      "cell_type": "markdown",
      "source": [
        "## Prompting Strategy 1: Zero Shot"
      ],
      "metadata": {
        "id": "BlA4xO3AobD7"
      }
    },
    {
      "cell_type": "code",
      "source": [
        "prompt = f\"Identify and fix the bug in the following Python function:\\n{code}\"\n",
        "print(prompt)"
      ],
      "metadata": {
        "colab": {
          "base_uri": "https://localhost:8080/"
        },
        "id": "fdI73JuQUQcO",
        "outputId": "09160969-0ab4-41f0-a11e-52ddcdc8fe38"
      },
      "execution_count": null,
      "outputs": [
        {
          "output_type": "stream",
          "name": "stdout",
          "text": [
            "Identify and fix the bug in the following Python function:\n",
            "\n",
            "```python\n",
            "def sum_range ( start , end ) :\n",
            "    total = 0\n",
            "    for i in range ( start , end ) :\n",
            "        total += i\n",
            "    return total\n",
            "```\n",
            "\n"
          ]
        }
      ]
    },
    {
      "cell_type": "code",
      "source": [
        "for i in range(2):\n",
        "  run_info = run_prompt(2, \"zero shot\", prompt, 768, 0.7, i)\n",
        "  runs.append(run_info)\n",
        "  print(run_info[\"model\"])\n",
        "  print(run_info[\"output\"])\n",
        "  print(\"\\n\")"
      ],
      "metadata": {
        "colab": {
          "base_uri": "https://localhost:8080/"
        },
        "id": "R096h7Pdofre",
        "outputId": "65bd9358-a750-4887-db05-8ce3eda2295b"
      },
      "execution_count": null,
      "outputs": [
        {
          "output_type": "stream",
          "name": "stdout",
          "text": [
            "gpt-4o-mini\n",
            "The provided function `sum_range` is intended to calculate the sum of all integers from `start` to `end - 1`. However, if the intention is to include `end` in the summation (i.e., to sum from `start` to `end` inclusive), the range should be modified. \n",
            "\n",
            "Here's the corrected version of the function:\n",
            "\n",
            "```python\n",
            "def sum_range(start, end):\n",
            "    total = 0\n",
            "    for i in range(start, end + 1):  # Change end to end + 1 to include 'end'\n",
            "        total += i\n",
            "    return total\n",
            "```\n",
            "\n",
            "If the original intention was to sum from `start` to `end - 1`, then the function is correct as it is. Please clarify the expected behavior, and choose the appropriate version based on whether you want to include `end` or not.\n",
            "\n",
            "\n",
            "Codestral-2501\n",
            "The bug in the given Python function `sum_range` is related to the range of numbers being summed. The `range` function in Python includes the start value but excludes the end value. Therefore, the function currently calculates the sum of all integers from `start` to `end-1`. If you want to include the `end` value in the sum, you need to adjust the range to include `end`.\n",
            "\n",
            "Here is the corrected function:\n",
            "\n",
            "```python\n",
            "def sum_range(start, end):\n",
            "    total = 0\n",
            "    for i in range(start, end + 1):\n",
            "        total += i\n",
            "    return total\n",
            "```\n",
            "\n",
            "With this change, the function will correctly sum all integers from `start` to `end` inclusive.\n",
            "\n",
            "Let's see an example to verify the correctness:\n",
            "\n",
            "```python\n",
            "print(sum_range(1, 5))  # Output should be 1 + 2 + 3 + 4 + 5 = 15\n",
            "print(sum_range(0, 0))  # Output should be 0\n",
            "print(sum_range(3, 7))  # Output should be 3 + 4 + 5 + 6 + 7 = 25\n",
            "```\n",
            "\n",
            "These examples demonstrate that the function now correctly sums the range of numbers from `start` to `end` inclusive.\n",
            "\n",
            "\n"
          ]
        }
      ]
    },
    {
      "cell_type": "markdown",
      "source": [
        "## Prompting Strategy 2: Prompt Chaining"
      ],
      "metadata": {
        "id": "CKzgLaxwqFNK"
      }
    },
    {
      "cell_type": "code",
      "source": [
        "i = 1 #Codestral 25.01\n",
        "run_info = {\"task_num\": 2,\n",
        "          \"model\": \"\",\n",
        "          \"prompt strategy\": \"prompt chaining\",\n",
        "          \"prompt\": {\"step 1 prompt\": \"\", \"step 2 prompt\": \"\"},\n",
        "          \"output\": {\"response 1\": \"\", \"response 2\": \"\"}}\n",
        "\n",
        "run_info[\"model\"] = model_choices[i]\n",
        "prompt1 = f\"Identify the bug in the following Python function:\\n{code}\\nGive only the identified bug back as an answer.\"\n",
        "run_info[\"prompt\"][\"step 1 prompt\"] = prompt1\n",
        "\n",
        "# Set up conversation history\n",
        "messages = [\n",
        "    {\"role\": \"user\",\n",
        "    \"content\": prompt1}\n",
        "]\n",
        "\n",
        "# Call the model\n",
        "response = client.chat.completions.create(\n",
        "    model=model_choices[i], # Choose the model you want to use\n",
        "    max_tokens=768,\n",
        "    temperature=0.7,\n",
        "    messages=messages\n",
        ")\n",
        "\n",
        "# Add response to the conversation\n",
        "reply = response.choices[0].message.content\n",
        "messages.append({\"role\": \"assistant\", \"content\": reply})\n",
        "response1 = reply\n",
        "run_info[\"output\"][\"response 1\"] = response1\n",
        "\n",
        "# User follows up\n",
        "followup = f\"Fix the bug in the following Python function:\\n{code}\"\n",
        "run_info[\"prompt\"][\"step 2 prompt\"] = followup\n",
        "\n",
        "# Add user message\n",
        "messages.append({\"role\": \"user\", \"content\": followup})\n",
        "\n",
        "# Call again with updated history\n",
        "response = client.chat.completions.create(\n",
        "    model=model_choices[i],\n",
        "    max_tokens=768,\n",
        "    temperature=0.7,\n",
        "    messages=messages\n",
        ")\n",
        "\n",
        "# Add response to the conversation\n",
        "reply = response.choices[0].message.content\n",
        "run_info[\"output\"][\"response 2\"] = reply\n",
        "runs.append(run_info)\n",
        "\n",
        "print(run_info[\"model\"])\n",
        "print(\"PROMPT 1:\")\n",
        "print(run_info[\"prompt\"][\"step 1 prompt\"]+\"\\n\")\n",
        "print(\"RESPONSE 1:\")\n",
        "print(run_info[\"output\"][\"response 1\"]+\"\\n\")\n",
        "print(\"PROMPT 2:\")\n",
        "print(run_info[\"prompt\"][\"step 2 prompt\"]+\"\\n\")\n",
        "print(\"RESPONSE 2:\")\n",
        "print(run_info[\"output\"][\"response 2\"])\n",
        "print(\"\\n\")\n"
      ],
      "metadata": {
        "colab": {
          "base_uri": "https://localhost:8080/"
        },
        "id": "ZSr-WQ42aekl",
        "outputId": "2176043c-0ed2-45af-ff97-642385844702"
      },
      "execution_count": 25,
      "outputs": [
        {
          "output_type": "stream",
          "name": "stdout",
          "text": [
            "Codestral-2501\n",
            "PROMPT 1:\n",
            "Identify the bug in the following Python function:\n",
            "\n",
            "```python\n",
            "def sum_range ( start , end ) :\n",
            "    total = 0\n",
            "    for i in range ( start , end ) :\n",
            "        total += i\n",
            "    return total\n",
            "```\n",
            "\n",
            "Give only the identified bug back as an answer.\n",
            "\n",
            "RESPONSE 1:\n",
            "The bug in the function is that the range function does not include the `end` value.\n",
            "\n",
            "PROMPT 2:\n",
            "Fix the bug in the following Python function:\n",
            "\n",
            "```python\n",
            "def sum_range ( start , end ) :\n",
            "    total = 0\n",
            "    for i in range ( start , end ) :\n",
            "        total += i\n",
            "    return total\n",
            "```\n",
            "\n",
            "\n",
            "RESPONSE 2:\n",
            "You can fix the bug by changing the range function to include the `end` value. You can do this by adding 1 to the `end` value in the range function. Here is the corrected function:\n",
            "\n",
            "```python\n",
            "def sum_range ( start , end ) :\n",
            "    total = 0\n",
            "    for i in range ( start , end + 1 ) :\n",
            "        total += i\n",
            "    return total\n",
            "```\n",
            "\n",
            "\n"
          ]
        }
      ]
    },
    {
      "cell_type": "code",
      "execution_count": 23,
      "metadata": {
        "id": "X19rhq3LoscC",
        "colab": {
          "base_uri": "https://localhost:8080/"
        },
        "outputId": "f782d2dc-82b9-49f5-cfbf-dcefbb81dd95"
      },
      "outputs": [
        {
          "output_type": "stream",
          "name": "stdout",
          "text": [
            "gpt-4.1-mini\n",
            "PROMPT 1:\n",
            "Identify the bug in the following Python function:\n",
            "\n",
            "```python\n",
            "def sum_range ( start , end ) :\n",
            "    total = 0\n",
            "    for i in range ( start , end ) :\n",
            "        total += i\n",
            "    return total\n",
            "```\n",
            "\n",
            "Give only the identified bug back as an answer.\n",
            "\n",
            "RESPONSE 1:\n",
            "The function does not include the `end` value in the sum because `range(start, end)` is exclusive of `end`.\n",
            "\n",
            "PROMPT 2:\n",
            "Fix the bug in the following Python function:\n",
            "\n",
            "```python\n",
            "def sum_range ( start , end ) :\n",
            "    total = 0\n",
            "    for i in range ( start , end ) :\n",
            "        total += i\n",
            "    return total\n",
            "```\n",
            "\n",
            "\n",
            "RESPONSE 2:\n",
            "```python\n",
            "def sum_range(start, end):\n",
            "    total = 0\n",
            "    for i in range(start, end + 1):\n",
            "        total += i\n",
            "    return total\n",
            "```\n",
            "\n",
            "\n"
          ]
        }
      ],
      "source": [
        "i = 3 #gpt-4.1-mini\n",
        "run_info = {\"task_num\": 2,\n",
        "          \"model\": \"\",\n",
        "          \"prompt strategy\": \"prompt chaining\",\n",
        "          \"prompt\": {\"step 1 prompt\": \"\", \"step 2 prompt\": \"\"},\n",
        "          \"output\": {\"response 1\": \"\", \"response 2\": \"\"}}\n",
        "\n",
        "run_info[\"model\"] = model_choices[i]\n",
        "prompt1 = f\"Identify the bug in the following Python function:\\n{code}\\nGive only the identified bug back as an answer.\"\n",
        "run_info[\"prompt\"][\"step 1 prompt\"] = prompt1\n",
        "\n",
        "# Set up conversation history\n",
        "messages = [\n",
        "    {\"role\": \"user\",\n",
        "    \"content\": prompt1}\n",
        "]\n",
        "\n",
        "# Call the model\n",
        "response = client.chat.completions.create(\n",
        "    model=model_choices[i], # Choose the model you want to use\n",
        "    max_tokens=768,\n",
        "    temperature=0.7,\n",
        "    messages=messages\n",
        ")\n",
        "\n",
        "# Add response to the conversation\n",
        "reply = response.choices[0].message.content\n",
        "messages.append({\"role\": \"assistant\", \"content\": reply})\n",
        "response1 = reply\n",
        "run_info[\"output\"][\"response 1\"] = response1\n",
        "\n",
        "# User follows up\n",
        "followup = f\"Fix the bug in the following Python function:\\n{code}\"\n",
        "run_info[\"prompt\"][\"step 2 prompt\"] = followup\n",
        "\n",
        "# Add user message\n",
        "messages.append({\"role\": \"user\", \"content\": followup})\n",
        "\n",
        "# Call again with updated history\n",
        "response = client.chat.completions.create(\n",
        "    model=model_choices[i],\n",
        "    max_tokens=768,\n",
        "    temperature=0.7,\n",
        "    messages=messages\n",
        ")\n",
        "\n",
        "# Add response to the conversation\n",
        "reply = response.choices[0].message.content\n",
        "run_info[\"output\"][\"response 2\"] = reply\n",
        "runs.append(run_info)\n",
        "\n",
        "print(run_info[\"model\"])\n",
        "print(\"PROMPT 1:\")\n",
        "print(run_info[\"prompt\"][\"step 1 prompt\"]+\"\\n\")\n",
        "print(\"RESPONSE 1:\")\n",
        "print(run_info[\"output\"][\"response 1\"]+\"\\n\")\n",
        "print(\"PROMPT 2:\")\n",
        "print(run_info[\"prompt\"][\"step 2 prompt\"]+\"\\n\")\n",
        "print(\"RESPONSE 2:\")\n",
        "print(run_info[\"output\"][\"response 2\"])\n",
        "print(\"\\n\")\n"
      ]
    },
    {
      "cell_type": "markdown",
      "source": [
        "# **Task 3: Bug Classification (C++)**"
      ],
      "metadata": {
        "id": "MWQHWec6TD2G"
      }
    },
    {
      "cell_type": "code",
      "source": [
        "code = \"\"\"\n",
        "```cpp\n",
        "int * getArray (int size ) {\n",
        "    int arr [ size ];\n",
        "    return arr ;\n",
        "}\n",
        "```\n",
        "\"\"\""
      ],
      "metadata": {
        "id": "osOa5Kvvt5V4"
      },
      "execution_count": 29,
      "outputs": []
    },
    {
      "cell_type": "markdown",
      "source": [
        "## Prompting Strategy 1: Zero Shot"
      ],
      "metadata": {
        "id": "WCzDJa68TsGQ"
      }
    },
    {
      "cell_type": "code",
      "source": [
        "prompt = f\"Classify the bug in the following C++ function:\\n{code}\\nDo not include a solution.\"\n",
        "print(prompt)"
      ],
      "metadata": {
        "colab": {
          "base_uri": "https://localhost:8080/"
        },
        "id": "F1YuM_eOXDqJ",
        "outputId": "ecd2262f-c976-45d2-f44c-8cd2c7ae6aad"
      },
      "execution_count": 30,
      "outputs": [
        {
          "output_type": "stream",
          "name": "stdout",
          "text": [
            "Classify the bug in the following C++ function:\n",
            "\n",
            "```cpp\n",
            "int * getArray (int size ) {\n",
            "    int arr [ size ];\n",
            "    return arr ;\n",
            "}\n",
            "```\n",
            "\n",
            "Do not include a solution.\n"
          ]
        }
      ]
    },
    {
      "cell_type": "code",
      "source": [
        "models_task3 = [1,3]\n",
        "for i in models_task3:\n",
        "  run_info = run_prompt(3, \"zero shot\", prompt, 768, 0.7, i)\n",
        "  runs.append(run_info)\n",
        "  print(run_info[\"model\"])\n",
        "  print(run_info[\"output\"])\n",
        "  print(\"\\n\")"
      ],
      "metadata": {
        "colab": {
          "base_uri": "https://localhost:8080/"
        },
        "id": "8LKjgnvKT1tL",
        "outputId": "d03e4a1c-fc96-421f-f495-05de0f43b46b"
      },
      "execution_count": 31,
      "outputs": [
        {
          "output_type": "stream",
          "name": "stdout",
          "text": [
            "Codestral-2501\n",
            "To classify the bug in the given C++ function, consider the following:\n",
            "\n",
            "1. **Array Lifetime**: The array `arr` is created within the function `getArray`. This array has automatic storage duration, meaning it is allocated on the stack and will be destroyed when the function ends.\n",
            "\n",
            "2. **Returning a Pointer**: The function returns a pointer to the local array `arr`. After the function returns, the array `arr` no longer exists, making the returned pointer invalid.\n",
            "\n",
            "3. **Use-After-Free**: Attempting to use the returned pointer will result in undefined behavior because it points to memory that has been deallocated.\n",
            "\n",
            "Therefore, the bug in this function is related to:\n",
            "- **Lifetime of Local Variables**: Returning a pointer to a local array that goes out of scope.\n",
            "- **Invalid Pointer Usage**: Using a pointer to memory that has been deallocated or is no longer valid.\n",
            "\n",
            "This is an example of a common bug in C++ related to the lifetime of local variables and the dangers of returning pointers to such variables.\n",
            "\n",
            "\n",
            "gpt-4.1-mini\n",
            "The bug in the function is a **returning pointer to a local stack-allocated array**, which results in **undefined behavior** due to returning a pointer to memory that goes out of scope once the function exits.\n",
            "\n",
            "\n"
          ]
        }
      ]
    },
    {
      "cell_type": "markdown",
      "source": [
        "## Prompting Strategy 2: Chain of Thought"
      ],
      "metadata": {
        "id": "hywVmCw3TxfJ"
      }
    },
    {
      "cell_type": "code",
      "source": [
        "prompt = f\"Classify the bug in the following C++ function. Think step-by-step:\\n{code}\\nDo not include a solution.\"\n",
        "print(prompt)"
      ],
      "metadata": {
        "id": "Ea0NwQOqXZ7p",
        "colab": {
          "base_uri": "https://localhost:8080/"
        },
        "outputId": "302949f1-e88d-41e2-abaf-e064825a4d04"
      },
      "execution_count": 32,
      "outputs": [
        {
          "output_type": "stream",
          "name": "stdout",
          "text": [
            "Classify the bug in the following C++ function. Think step-by-step:\n",
            "\n",
            "```cpp\n",
            "int * getArray (int size ) {\n",
            "    int arr [ size ];\n",
            "    return arr ;\n",
            "}\n",
            "```\n",
            "\n",
            "Do not include a solution.\n"
          ]
        }
      ]
    },
    {
      "cell_type": "code",
      "source": [
        "for i in models_task3:\n",
        "  run_info = run_prompt(3, \"chain of thought\", prompt, 768, 0.7, i)\n",
        "  runs.append(run_info)\n",
        "  print(run_info[\"model\"])\n",
        "  print(run_info[\"output\"])\n",
        "  print(\"\\n\")"
      ],
      "metadata": {
        "colab": {
          "base_uri": "https://localhost:8080/"
        },
        "id": "BC5ItqtPXN4f",
        "outputId": "d49da030-27bb-4b90-dab0-0080bf04cb58"
      },
      "execution_count": 33,
      "outputs": [
        {
          "output_type": "stream",
          "name": "stdout",
          "text": [
            "Codestral-2501\n",
            "Let's think through the function step-by-step to identify any potential issues:\n",
            "\n",
            "1. **Function Definition**: The function `getArray` is defined to take an integer `size` and return a pointer to an integer.\n",
            "\n",
            "2. **Local Array**: Inside the function, an array `arr` of integers is declared with a size specified by the `size` parameter: `int arr[size];`.\n",
            "\n",
            "3. **Return Statement**: The function returns a pointer to this local array: `return arr;`.\n",
            "\n",
            "Now, let's consider what could go wrong:\n",
            "\n",
            "- **Lifetime of the Local Array**: The array `arr` is a local variable. Local variables in C++ have automatic storage duration, meaning they are allocated on the stack and their lifetime ends when the function returns. Returning a pointer to a local variable that goes out of scope is dangerous because the memory it points to may be reused or deallocated.\n",
            "\n",
            "- **Dangling Pointer**: After the function `getArray` returns, the pointer returned will become a dangling pointer because it points to memory that is no longer valid.\n",
            "\n",
            "- **Memory Leaks**: Since the function does not dynamically allocate memory using `new`, there are no memory leaks to worry about, but returning a pointer to a local array still poses a problem.\n",
            "\n",
            "- **Undefined Behavior**: Accessing the memory through the returned pointer after the function has exited results in undefined behavior, which can lead to crashes or other unpredictable behavior.\n",
            "\n",
            "Would you like to proceed to the next step or focus on a specific aspect of the function?\n",
            "\n",
            "\n",
            "gpt-4.1-mini\n",
            "Let's analyze the code step-by-step:\n",
            "\n",
            "1. The function `getArray` takes an integer `size` as input.\n",
            "2. Inside the function, an array `arr` of `int` with length `size` is declared as a local variable.\n",
            "3. The function returns a pointer to the first element of the array `arr`.\n",
            "\n",
            "The key point here is that `arr` is a local array with automatic storage duration. Once the function returns, the lifetime of `arr` ends, and the memory it occupied becomes invalid.\n",
            "\n",
            "Therefore, returning a pointer to this local array results in a pointer to memory that is no longer valid once the function exits.\n",
            "\n",
            "**Bug classification:** Returning a pointer to a local variable (stack-allocated memory) that goes out of scope, leading to undefined behavior due to a dangling pointer.\n",
            "\n",
            "\n"
          ]
        }
      ]
    },
    {
      "cell_type": "markdown",
      "source": [
        "# **Task 4: Generating Email Validators (Python + Regex)**"
      ],
      "metadata": {
        "id": "6vJAwA2Racbj"
      }
    },
    {
      "cell_type": "code",
      "source": [
        "code = \"\"\"\n",
        "```python\n",
        "def is_valid_email ( email ):\n",
        "  # TODO : Complete using regex\n",
        "  pass\n",
        "```\n",
        "\"\"\""
      ],
      "metadata": {
        "id": "uFCXgDVGaUKH"
      },
      "execution_count": 36,
      "outputs": []
    },
    {
      "cell_type": "markdown",
      "source": [
        "## Prompting Strategy 1: Prompt Chaining"
      ],
      "metadata": {
        "id": "XzwlMhiibVT9"
      }
    },
    {
      "cell_type": "code",
      "source": [
        "models_task4 = [1,3]"
      ],
      "metadata": {
        "id": "FN34PQvHjXkw"
      },
      "execution_count": 37,
      "outputs": []
    },
    {
      "cell_type": "code",
      "source": [
        "for i in models_task4:\n",
        "  run_info = {\"task_num\": 4,\n",
        "            \"model\": \"\",\n",
        "            \"prompt strategy\": \"prompt chaining\",\n",
        "            \"prompt\": {\"step 1 prompt\": \"\", \"step 2 prompt\": \"\"},\n",
        "            \"output\": {\"response 1\": \"\", \"response 2\": \"\"}}\n",
        "\n",
        "  run_info[\"model\"] = model_choices[i]\n",
        "  prompt1 = f\"Give a concise list of criteria for a valid email address\"\n",
        "  run_info[\"prompt\"][\"step 1 prompt\"] = prompt1\n",
        "\n",
        "  # Set up conversation history\n",
        "  messages = [\n",
        "      {\"role\": \"user\",\n",
        "      \"content\": prompt1}\n",
        "  ]\n",
        "\n",
        "  # Call the model\n",
        "  response = client.chat.completions.create(\n",
        "      model=model_choices[i], # Choose the model you want to use\n",
        "      max_tokens=768,\n",
        "      temperature=0.7,\n",
        "      messages=messages\n",
        "  )\n",
        "\n",
        "  # Add response to the conversation\n",
        "  reply = response.choices[0].message.content\n",
        "  messages.append({\"role\": \"assistant\", \"content\": reply})\n",
        "  response1 = reply\n",
        "  run_info[\"output\"][\"response 1\"] = response1\n",
        "\n",
        "  # User follows up\n",
        "  followup = f\"Given the follwing criteria:\\n{reply}\\nComplete the Python function using regex to validate email addresses:\\n{code}\\nPlease respond with only the completed function.\"\n",
        "  run_info[\"prompt\"][\"step 2 prompt\"] = followup\n",
        "\n",
        "  # Add user message\n",
        "  messages.append({\"role\": \"user\", \"content\": followup})\n",
        "\n",
        "  # Call again with updated history\n",
        "  response = client.chat.completions.create(\n",
        "      model=model_choices[i],\n",
        "      max_tokens=768,\n",
        "      temperature=0.7,\n",
        "      messages=messages\n",
        "  )\n",
        "\n",
        "  # Add response to the conversation\n",
        "  reply = response.choices[0].message.content\n",
        "  run_info[\"output\"][\"response 2\"] = reply\n",
        "  runs.append(run_info)\n",
        "\n",
        "  print(run_info[\"model\"])\n",
        "  print(\"PROMPT 1:\")\n",
        "  print(run_info[\"prompt\"][\"step 1 prompt\"]+\"\\n\")\n",
        "  print(\"RESPONSE 1:\")\n",
        "  print(run_info[\"output\"][\"response 1\"]+\"\\n\")\n",
        "  print(\"PROMPT 2:\")\n",
        "  print(run_info[\"prompt\"][\"step 2 prompt\"]+\"\\n\")\n",
        "  print(\"RESPONSE 2:\")\n",
        "  print(run_info[\"output\"][\"response 2\"])\n",
        "  print(\"\\n\")\n"
      ],
      "metadata": {
        "colab": {
          "base_uri": "https://localhost:8080/"
        },
        "id": "TGdZcjoxaDNA",
        "outputId": "c095e725-e0ea-493a-d6a3-a6cf29b33f50"
      },
      "execution_count": 39,
      "outputs": [
        {
          "output_type": "stream",
          "name": "stdout",
          "text": [
            "Codestral-2501\n",
            "PROMPT 1:\n",
            "Give a concise list of criteria for a valid email address\n",
            "\n",
            "RESPONSE 1:\n",
            "Here is a concise list of criteria for a valid email address:\n",
            "\n",
            "1. **Local Part**:\n",
            "   - Can contain letters (a-z, A-Z), digits (0-9), and special characters (!#$%&'*+-/=?^_`{|}~).\n",
            "   - Cannot contain spaces or certain special characters (e.g., commas, colons, semicolons).\n",
            "   - Must be at least one character long.\n",
            "\n",
            "2. **At Symbol (@)**:\n",
            "   - Must be present and separate the local part from the domain part.\n",
            "\n",
            "3. **Domain Part**:\n",
            "   - Must contain at least one dot (.) to separate the domain name from the top-level domain (TLD).\n",
            "   - Can include letters, digits, and hyphens (-).\n",
            "   - Must end with a valid top-level domain (e.g., .com, .org, .net).\n",
            "\n",
            "4. **General Length**:\n",
            "   - The entire email address must be no longer than 254 characters.\n",
            "\n",
            "5. **No Consecutive or Leading/Trailing Dots**:\n",
            "   - The local part and domain part cannot have consecutive dots or start/end with a dot.\n",
            "\n",
            "6. **No Quoted Strings**:\n",
            "   - The local part cannot contain quoted strings (e.g., \"john.doe\"@example.com).\n",
            "\n",
            "7. **No Comments**:\n",
            "   - The email address cannot contain comments, which are enclosed in parentheses (e.g., john(doe)@example.com).\n",
            "\n",
            "Examples of valid email addresses:\n",
            "- john.doe@example.com\n",
            "- jane_doe123@sub.example.co.uk\n",
            "\n",
            "Examples of invalid email addresses:\n",
            "- john..doe@example.com (consecutive dots)\n",
            "- \"john doe\"@example.com (quoted string in local part)\n",
            "- john.doe(@example.com (missing @ symbol)\n",
            "\n",
            "PROMPT 2:\n",
            "Given the follwing criteria:\n",
            "Here is a concise list of criteria for a valid email address:\n",
            "\n",
            "1. **Local Part**:\n",
            "   - Can contain letters (a-z, A-Z), digits (0-9), and special characters (!#$%&'*+-/=?^_`{|}~).\n",
            "   - Cannot contain spaces or certain special characters (e.g., commas, colons, semicolons).\n",
            "   - Must be at least one character long.\n",
            "\n",
            "2. **At Symbol (@)**:\n",
            "   - Must be present and separate the local part from the domain part.\n",
            "\n",
            "3. **Domain Part**:\n",
            "   - Must contain at least one dot (.) to separate the domain name from the top-level domain (TLD).\n",
            "   - Can include letters, digits, and hyphens (-).\n",
            "   - Must end with a valid top-level domain (e.g., .com, .org, .net).\n",
            "\n",
            "4. **General Length**:\n",
            "   - The entire email address must be no longer than 254 characters.\n",
            "\n",
            "5. **No Consecutive or Leading/Trailing Dots**:\n",
            "   - The local part and domain part cannot have consecutive dots or start/end with a dot.\n",
            "\n",
            "6. **No Quoted Strings**:\n",
            "   - The local part cannot contain quoted strings (e.g., \"john.doe\"@example.com).\n",
            "\n",
            "7. **No Comments**:\n",
            "   - The email address cannot contain comments, which are enclosed in parentheses (e.g., john(doe)@example.com).\n",
            "\n",
            "Examples of valid email addresses:\n",
            "- john.doe@example.com\n",
            "- jane_doe123@sub.example.co.uk\n",
            "\n",
            "Examples of invalid email addresses:\n",
            "- john..doe@example.com (consecutive dots)\n",
            "- \"john doe\"@example.com (quoted string in local part)\n",
            "- john.doe(@example.com (missing @ symbol)\n",
            "Complete the Python function using regex to validate email addresses:\n",
            "\n",
            "```python\n",
            "def is_valid_email ( email ):\n",
            "  # TODO : Complete using regex\n",
            "  pass\n",
            "```\n",
            "\n",
            "Please respond with only the completed function.\n",
            "\n",
            "RESPONSE 2:\n",
            "```python\n",
            "import re\n",
            "\n",
            "def is_valid_email(email):\n",
            "    # Define the regex pattern for a valid email address\n",
            "    pattern = r'^[a-zA-Z0-9!#$%&\\'*+\\-/=?^_`{|}~]+(\\.[a-zA-Z0-9!#$%&\\'*+\\-/=?^_`{|}~]+)*@[a-zA-Z0-9](?:[a-zA-Z0-9-]{0,61}[a-zA-Z0-9])?(\\.[a-zA-Z0-9](?:[a-zA-Z0-9-]{0,61}[a-zA-Z0-9])?)+$'\n",
            "\n",
            "    # Match the email against the pattern\n",
            "    if re.match(pattern, email):\n",
            "        return True\n",
            "    else:\n",
            "        return False\n",
            "```\n",
            "\n",
            "\n",
            "gpt-4.1-mini\n",
            "PROMPT 1:\n",
            "Give a concise list of criteria for a valid email address\n",
            "\n",
            "RESPONSE 1:\n",
            "Criteria for a valid email address:\n",
            "\n",
            "1. **Format:** `local-part@domain`\n",
            "2. **Local-part:**\n",
            "   - Contains letters (A-Z, a-z), digits (0-9), and allowed special characters (`!#$%&'*+/=?^_`{|}~-`)\n",
            "   - Dots (`.`) allowed but not at start/end or consecutively\n",
            "3. **Domain:**\n",
            "   - Consists of labels separated by dots (`.`)\n",
            "   - Each label starts and ends with a letter or digit\n",
            "   - Labels may contain hyphens (`-`) but not start/end with them\n",
            "   - Top-level domain (last label) is at least 2 characters, only letters\n",
            "4. **No spaces or unallowed special characters**\n",
            "5. **Overall length:** Typically up to 254 characters maximum\n",
            "\n",
            "Note: This aligns with RFC 5322 and domain name rules.\n",
            "\n",
            "PROMPT 2:\n",
            "Given the follwing criteria:\n",
            "Criteria for a valid email address:\n",
            "\n",
            "1. **Format:** `local-part@domain`\n",
            "2. **Local-part:**\n",
            "   - Contains letters (A-Z, a-z), digits (0-9), and allowed special characters (`!#$%&'*+/=?^_`{|}~-`)\n",
            "   - Dots (`.`) allowed but not at start/end or consecutively\n",
            "3. **Domain:**\n",
            "   - Consists of labels separated by dots (`.`)\n",
            "   - Each label starts and ends with a letter or digit\n",
            "   - Labels may contain hyphens (`-`) but not start/end with them\n",
            "   - Top-level domain (last label) is at least 2 characters, only letters\n",
            "4. **No spaces or unallowed special characters**\n",
            "5. **Overall length:** Typically up to 254 characters maximum\n",
            "\n",
            "Note: This aligns with RFC 5322 and domain name rules.\n",
            "Complete the Python function using regex to validate email addresses:\n",
            "\n",
            "```python\n",
            "def is_valid_email ( email ):\n",
            "  # TODO : Complete using regex\n",
            "  pass\n",
            "```\n",
            "\n",
            "Please respond with only the completed function.\n",
            "\n",
            "RESPONSE 2:\n",
            "```python\n",
            "import re\n",
            "\n",
            "def is_valid_email(email):\n",
            "    pattern = re.compile(\n",
            "        r'^(?!.*\\.\\.)'                              # no consecutive dots in local-part\n",
            "        r'[A-Za-z0-9!#$%&\\'*+/=?^_`{|}~-]+'        # local-part start\n",
            "        r'(?:\\.[A-Za-z0-9!#$%&\\'*+/=?^_`{|}~-]+)*' # local-part continued with dots\n",
            "        r'@'\n",
            "        r'(?:(?:[A-Za-z0-9](?:[A-Za-z0-9-]*[A-Za-z0-9])?\\.)+'  # domain labels\n",
            "        r'[A-Za-z]{2,})$'                           # TLD with at least 2 letters\n",
            "    )\n",
            "    if len(email) > 254:\n",
            "        return False\n",
            "    return bool(pattern.match(email))\n",
            "```\n",
            "\n",
            "\n"
          ]
        }
      ]
    },
    {
      "cell_type": "markdown",
      "source": [
        "## Prompting Strategy 2: Few Shot"
      ],
      "metadata": {
        "id": "HeNdfLikbb7B"
      }
    },
    {
      "cell_type": "code",
      "source": [
        "prompt = f\"\"\"\n",
        "Example 1:\n",
        "Input: x@example.com\n",
        "Output: True\n",
        "\n",
        "Example 2:\n",
        "Input: Abc..123@example.com\n",
        "Output: False\n",
        "\n",
        "Example 3:\n",
        "Input: user.name+tag+sorting@example.com\n",
        "Output: True\n",
        "\n",
        "Example 4:\n",
        "Input: user@.com\n",
        "Output: False\n",
        "\n",
        "Example 5:\n",
        "Input: angh__hgj@domain.com\n",
        "Output: False\n",
        "\n",
        "Complete the Python function using regex to validate email addresses:\\n{code}\\nPlease respond with only the completed function.\n",
        "\"\"\""
      ],
      "metadata": {
        "id": "KeaglGZDbgRc"
      },
      "execution_count": null,
      "outputs": []
    },
    {
      "cell_type": "code",
      "source": [
        "for i in range(2):\n",
        "  run_info=run_prompt(4, \"few shot\", prompt, 768, 0.7, i)\n",
        "  runs.append(run_info)\n",
        "  print(run_info[\"model\"])\n",
        "  print(run_info[\"output\"])\n",
        "  print(\"\\n\")"
      ],
      "metadata": {
        "colab": {
          "base_uri": "https://localhost:8080/"
        },
        "id": "gs5MAd0jhKke",
        "outputId": "f020bd5e-4f08-42fe-b663-fb5ac323e79b"
      },
      "execution_count": null,
      "outputs": [
        {
          "output_type": "stream",
          "name": "stdout",
          "text": [
            "gpt-4o-mini\n",
            "```python\n",
            "import re\n",
            "\n",
            "def is_valid_email(email):\n",
            "    pattern = r'^(?!.*\\.\\.)(?!.*\\.$)(?!.*@.*@)(?!.*@-)(?!.*-@)(?!.*@\\.)(?!.*\\.$)[a-zA-Z0-9._%+-]+@[a-zA-Z0-9.-]+\\.[a-zA-Z]{2,}$'\n",
            "    return re.match(pattern, email) is not None\n",
            "```\n",
            "\n",
            "\n",
            "Codestral-2501\n",
            "```python\n",
            "import re\n",
            "\n",
            "def is_valid_email(email):\n",
            "    # Define the regex pattern for validating an email\n",
            "    pattern = re.compile(\n",
            "        r\"(^[a-zA-Z0-9_.+-]+@[a-zA-Z0-9-]+\\.[a-zA-Z0-9-.]+$)\"\n",
            "    )\n",
            "    return bool(pattern.match(email))\n",
            "```\n",
            "\n",
            "\n"
          ]
        }
      ]
    },
    {
      "cell_type": "markdown",
      "source": [
        "# **Task 5: Generating Flask APIs (Python)**"
      ],
      "metadata": {
        "id": "HP7fW9v3jdRl"
      }
    },
    {
      "cell_type": "code",
      "source": [
        "code = \"\"\"\n",
        "```python\n",
        "from flask import Flask , jsonify\n",
        "\n",
        "app = Flask ( __name__ )\n",
        "\n",
        "@app . route (’/ greet / < username >’)\n",
        "def greet ( username ) :\n",
        "  # TODO : Return a JSON greeting\n",
        "  pass\n",
        "```\n",
        "\"\"\""
      ],
      "metadata": {
        "id": "OhXbV2_AzBCo"
      },
      "execution_count": null,
      "outputs": []
    },
    {
      "cell_type": "markdown",
      "source": [
        "## Prompting Strategy 1: Zero Shot"
      ],
      "metadata": {
        "id": "7HcxW1szjoG4"
      }
    },
    {
      "cell_type": "code",
      "source": [
        "prompt = f\"Create a ‘/greet/<username>‘ endpoint that returns a JSON greeting given the following:\\n{code}\""
      ],
      "metadata": {
        "id": "sLXWq9kUYk-e"
      },
      "execution_count": null,
      "outputs": []
    },
    {
      "cell_type": "code",
      "source": [
        "for i in range(2):\n",
        "  run_info = run_prompt(5, \"zero shot\", prompt, 768, 0.7, i)\n",
        "  runs.append(run_info)\n",
        "  print(run_info[\"model\"])\n",
        "  print(run_info[\"output\"])"
      ],
      "metadata": {
        "colab": {
          "base_uri": "https://localhost:8080/"
        },
        "id": "5Lp5k6bMjt5t",
        "outputId": "502931ad-651a-4a8e-8ef8-d605d942edaf"
      },
      "execution_count": null,
      "outputs": [
        {
          "output_type": "stream",
          "name": "stdout",
          "text": [
            "gpt-4o-mini\n",
            "To create a `/greet/<username>` endpoint in your Flask application that returns a JSON greeting, you'll need to follow these steps:\n",
            "\n",
            "1. **Import Required Libraries**: You already have the necessary imports for Flask and `jsonify`.\n",
            "\n",
            "2. **Define the Route**: You need to ensure the route is defined correctly, handling the URL parameter for the username.\n",
            "\n",
            "3. **Create the JSON Response**: Inside the `greet` function, you'll create a dictionary with a greeting message that includes the username, and then return it as a JSON response.\n",
            "\n",
            "4. **Run the Application**: Ensure the Flask app runs if it is executed as the main module.\n",
            "\n",
            "Here’s how you can implement this:\n",
            "\n",
            "```python\n",
            "from flask import Flask, jsonify\n",
            "\n",
            "app = Flask(__name__)\n",
            "\n",
            "@app.route('/greet/<username>')\n",
            "def greet(username):\n",
            "    # Create a JSON response with a greeting message\n",
            "    response = {\n",
            "        'greeting': f'Hello, {username}!'\n",
            "    }\n",
            "    return jsonify(response)\n",
            "\n",
            "if __name__ == '__main__':\n",
            "    app.run(debug=True)\n",
            "```\n",
            "\n",
            "### Explanation of the Code:\n",
            "\n",
            "- **Flask App Initialization**: `app = Flask(__name__)` initializes the Flask application.\n",
            "  \n",
            "- **Route Definition**: `@app.route('/greet/<username>')` defines a route that captures a username from the URL.\n",
            "\n",
            "- **Greeting Function**: Inside the `greet` function:\n",
            "  - A dictionary is created containing a greeting message that incorporates the username.\n",
            "  - `jsonify(response)` converts the dictionary to a JSON response.\n",
            "\n",
            "- **Running the App**: The block `if __name__ == '__main__':` ensures that the Flask app runs when the script is executed directly. `app.run(debug=True)` starts the server in debug mode, which helps during development by providing detailed error messages and automatic reloads.\n",
            "\n",
            "### Testing the Endpoint:\n",
            "\n",
            "You can test the endpoint using a web browser or a tool like `curl` or Postman by navigating to `http://127.0.0.1:5000/greet/<username>`, replacing `<username>` with an actual name, such as `Alice`. You should receive a JSON response like this:\n",
            "\n",
            "```json\n",
            "{\n",
            "    \"greeting\": \"Hello, Alice!\"\n",
            "}\n",
            "``` \n",
            "\n",
            "This implementation provides a simple and effective way to greet users using a RESTful API.\n",
            "Codestral-2501\n",
            "To create a `/greet/<username>` endpoint that returns a JSON greeting, we need to follow these steps:\n",
            "\n",
            "1. Define the route in the Flask application.\n",
            "2. Create a function that handles the request and generates the JSON response.\n",
            "3. Use the `jsonify` function from Flask to create the JSON response.\n",
            "\n",
            "Here is the complete code:\n",
            "\n",
            "```python\n",
            "from flask import Flask, jsonify\n",
            "\n",
            "app = Flask(__name__)\n",
            "\n",
            "@app.route('/greet/<username>')\n",
            "def greet(username):\n",
            "    # Create a greeting message\n",
            "    greeting_message = f\"Hello, {username}! Welcome to our service.\"\n",
            "    # Use jsonify to create a JSON response\n",
            "    return jsonify({\"message\": greeting_message})\n",
            "\n",
            "if __name__ == '__main__':\n",
            "    app.run(debug=True)\n",
            "```\n",
            "\n",
            "### Explanation:\n",
            "\n",
            "1. **Importing Required Modules**:\n",
            "   - `Flask` is imported to create the Flask application.\n",
            "   - `jsonify` is imported to create JSON responses.\n",
            "\n",
            "2. **Creating the Flask Application**:\n",
            "   - `app = Flask(__name__)` initializes the Flask application.\n",
            "\n",
            "3. **Defining the Route**:\n",
            "   - `@app.route('/greet/<username>')` sets up the route. The `<username>` part indicates that this part of the URL will be captured as a variable named `username`.\n",
            "\n",
            "4. **Greet Function**:\n",
            "   - The `greet` function takes `username` as a parameter.\n",
            "   - It creates a greeting message using an f-string.\n",
            "   - `jsonify({\"message\": greeting_message})` creates a JSON response with the greeting message.\n",
            "\n",
            "5. **Running the Application**:\n",
            "   - `if __name__ == '__main__':` ensures that the app runs only if the script is executed directly.\n",
            "   - `app.run(debug=True)` starts the Flask development server with debug mode enabled.\n",
            "\n",
            "With this setup, when you access the URL `/greet/John`, the response will be:\n",
            "\n",
            "```json\n",
            "{\n",
            "    \"message\": \"Hello, John! Welcome to our service.\"\n",
            "}\n",
            "```\n"
          ]
        }
      ]
    },
    {
      "cell_type": "markdown",
      "source": [
        "## Prompting Strategy 2: Chain of Thought"
      ],
      "metadata": {
        "id": "F8QTaEAajtIO"
      }
    },
    {
      "cell_type": "code",
      "source": [
        "prompt = f\"Create a ‘/greet/<username>‘ endpoint that returns a JSON greeting given the following:\\n{code}\\nThink step-by-step.\"\n",
        "for i in range(2):\n",
        "  run_info = run_prompt(5, \"chain of thought\", prompt, 768, 0.7, i)\n",
        "  runs.append(run_info)\n",
        "  print(run_info[\"model\"])\n",
        "  print(run_info[\"output\"])"
      ],
      "metadata": {
        "colab": {
          "base_uri": "https://localhost:8080/"
        },
        "id": "qHJjvb6Tjsc1",
        "outputId": "c6842288-b766-4000-8201-f83b8b08c6e0"
      },
      "execution_count": null,
      "outputs": [
        {
          "output_type": "stream",
          "name": "stdout",
          "text": [
            "gpt-4o-mini\n",
            "To create a `/greet/<username>` endpoint that returns a JSON greeting in a Flask application, we can follow these steps:\n",
            "\n",
            "1. **Import Necessary Libraries**: We already have `Flask` and `jsonify` imported.\n",
            "2. **Define the Route**: We need to ensure the route is correctly formatted and remove any unnecessary spaces or incorrect characters.\n",
            "3. **Create the Greeting Message**: We will create a message using the `username` passed in the URL.\n",
            "4. **Return the JSON Response**: We need to use `jsonify` to return the greeting in JSON format.\n",
            "\n",
            "Here's the complete implementation of the `/greet/<username>` endpoint:\n",
            "\n",
            "```python\n",
            "from flask import Flask, jsonify\n",
            "\n",
            "app = Flask(__name__)\n",
            "\n",
            "@app.route('/greet/<username>')\n",
            "def greet(username):\n",
            "    # Create a greeting message\n",
            "    greeting_message = f\"Hello, {username}!\"\n",
            "    \n",
            "    # Return the greeting as a JSON response\n",
            "    return jsonify({'greeting': greeting_message})\n",
            "\n",
            "if __name__ == '__main__':\n",
            "    app.run(debug=True)\n",
            "```\n",
            "\n",
            "### Explanation of the Code:\n",
            "- **Route Definition**: The route is defined with `@app.route('/greet/<username>')`, where `<username>` is a variable that will capture the username from the URL.\n",
            "- **Greeting Message**: Inside the `greet` function, we use an f-string to create a personalized greeting message using the `username`.\n",
            "- **JSON Response**: We return the greeting message wrapped in a dictionary and pass it to `jsonify`, which converts it to a JSON response.\n",
            "- **Running the App**: The `if __name__ == '__main__':` block ensures that the Flask app runs when the script is executed directly.\n",
            "\n",
            "### Testing the Endpoint:\n",
            "You can test the endpoint by running the Flask application and then visiting `http://127.0.0.1:5000/greet/YourUsername` in your web browser or using a tool like Postman. It should return a JSON response like:\n",
            "\n",
            "```json\n",
            "{\n",
            "  \"greeting\": \"Hello, YourUsername!\"\n",
            "}\n",
            "```\n",
            "\n",
            "Make sure to replace `YourUsername` with any username you wish to test.\n",
            "Codestral-2501\n",
            "Sure! Let's break down the task step-by-step to create the `/greet/<username>` endpoint in your Flask application.\n",
            "\n",
            "### Step 1: Set Up the Flask Application\n",
            "You've already set up the basic structure of your Flask application. Here’s what you have so far:\n",
            "\n",
            "```python\n",
            "from flask import Flask, jsonify\n",
            "\n",
            "app = Flask(__name__)\n",
            "```\n",
            "\n",
            "### Step 2: Define the Route\n",
            "You need to define the route `/greet/<username>`. This route will accept a username as a part of the URL.\n",
            "\n",
            "### Step 3: Create the View Function\n",
            "The view function should return a JSON greeting message. We'll use the `jsonify` function from Flask to create a JSON response.\n",
            "\n",
            "### Step 4: Return the JSON Greeting\n",
            "Inside the view function, you'll construct the greeting message and return it as a JSON response.\n",
            "\n",
            "### Complete Code\n",
            "Here is the complete code with the `/greet/<username>` endpoint implemented:\n",
            "\n",
            "```python\n",
            "from flask import Flask, jsonify\n",
            "\n",
            "app = Flask(__name__)\n",
            "\n",
            "@app.route('/greet/<username>')\n",
            "def greet(username):\n",
            "    # Create a greeting message\n",
            "    message = f\"Hello, {username}!\"\n",
            "\n",
            "    # Return the message as a JSON response\n",
            "    return jsonify(greeting=message)\n",
            "\n",
            "if __name__ == '__main__':\n",
            "    app.run(debug=True)\n",
            "```\n",
            "\n",
            "### Explanation\n",
            "1. **Importing Required Modules**: You import `Flask` and `jsonify` from the `flask` module.\n",
            "2. **Creating the Flask App**: You create an instance of the Flask class and assign it to the variable `app`.\n",
            "3. **Defining the Route**: The `@app.route('/greet/<username>')` decorator defines the route. The `<username>` part is a variable part of the URL.\n",
            "4. **View Function (`greet`)**: This function takes the `username` as an argument. It constructs a greeting message using an f-string and returns it as a JSON response using `jsonify`.\n",
            "\n",
            "### Running the Application\n",
            "To run the application, save the code to a file (e.g., `app.py`) and execute it using Python:\n",
            "\n",
            "```sh\n",
            "python app.py\n",
            "```\n",
            "\n",
            "You can then access the `/greet/<username>` endpoint by navigating to `http://127.0.0.1:5000/greet/your_username` in your web browser or using a tool like `curl` or Postman.\n",
            "\n",
            "For example:\n",
            "- Accessing `http://127.0.0.1:5000/greet/Alice` will return:\n",
            "  ```json\n",
            "  {\n",
            "    \"greeting\": \"Hello, Alice!\"\n",
            "  }\n",
            "  ```\n",
            "\n",
            "That's it! You've successfully created a `/greet/<username>` endpoint that returns a JSON greeting.\n"
          ]
        }
      ]
    },
    {
      "cell_type": "markdown",
      "source": [
        "# **Task 6: SQL Schema Design**"
      ],
      "metadata": {
        "id": "3ILbKpblj5Rf"
      }
    },
    {
      "cell_type": "markdown",
      "source": [
        "## Prompting Strategy 1: Zero Shot"
      ],
      "metadata": {
        "id": "dofkMlLgCZgN"
      }
    },
    {
      "cell_type": "code",
      "source": [
        "prompt = \"\"\"\n",
        "Write the schema for a review app with users, books, and reviews:\n",
        "-- TODO : Design schema with appropriate keys and constraints\n",
        "-- Tables : users (id , name ), books (id , title ), reviews (id , user_id , book_id ,\n",
        "rating )\n",
        "Respond with only the schema.\n",
        "\"\"\""
      ],
      "metadata": {
        "id": "4V7-qhl-kAyy"
      },
      "execution_count": null,
      "outputs": []
    },
    {
      "cell_type": "code",
      "source": [
        "for i in range(2):\n",
        "  run_info = run_prompt(6, \"zero shot\", prompt, 768, 0.7, i)\n",
        "  runs.append(run_info)\n",
        "  print(run_info[\"model\"])\n",
        "  print(run_info[\"output\"])\n",
        "  print(\"\\n\")"
      ],
      "metadata": {
        "colab": {
          "base_uri": "https://localhost:8080/"
        },
        "id": "Na5_9BjxY6Le",
        "outputId": "6fc5753a-4b16-4f0a-bc18-84135c045965"
      },
      "execution_count": null,
      "outputs": [
        {
          "output_type": "stream",
          "name": "stdout",
          "text": [
            "gpt-4o-mini\n",
            "```sql\n",
            "CREATE TABLE users (\n",
            "    id SERIAL PRIMARY KEY,\n",
            "    name VARCHAR(255) NOT NULL\n",
            ");\n",
            "\n",
            "CREATE TABLE books (\n",
            "    id SERIAL PRIMARY KEY,\n",
            "    title VARCHAR(255) NOT NULL\n",
            ");\n",
            "\n",
            "CREATE TABLE reviews (\n",
            "    id SERIAL PRIMARY KEY,\n",
            "    user_id INT NOT NULL,\n",
            "    book_id INT NOT NULL,\n",
            "    rating INT CHECK (rating >= 1 AND rating <= 5),\n",
            "    FOREIGN KEY (user_id) REFERENCES users(id) ON DELETE CASCADE,\n",
            "    FOREIGN KEY (book_id) REFERENCES books(id) ON DELETE CASCADE\n",
            ");\n",
            "```\n",
            "\n",
            "\n",
            "Codestral-2501\n",
            "```sql\n",
            "CREATE TABLE users (\n",
            "    id SERIAL PRIMARY KEY,\n",
            "    name VARCHAR(255) NOT NULL\n",
            ");\n",
            "\n",
            "CREATE TABLE books (\n",
            "    id SERIAL PRIMARY KEY,\n",
            "    title VARCHAR(255) NOT NULL\n",
            ");\n",
            "\n",
            "CREATE TABLE reviews (\n",
            "    id SERIAL PRIMARY KEY,\n",
            "    user_id INT NOT NULL,\n",
            "    book_id INT NOT NULL,\n",
            "    rating INT CHECK (rating >= 1 AND rating <= 5),\n",
            "    FOREIGN KEY (user_id) REFERENCES users(id) ON DELETE CASCADE,\n",
            "    FOREIGN KEY (book_id) REFERENCES books(id) ON DELETE CASCADE\n",
            ");\n",
            "```\n",
            "\n",
            "\n"
          ]
        }
      ]
    },
    {
      "cell_type": "markdown",
      "source": [
        "## Prompting Strategy 2: Self Consistency"
      ],
      "metadata": {
        "id": "6MH-6YArELGu"
      }
    },
    {
      "cell_type": "code",
      "source": [
        "for i in range(2):\n",
        "  run_info = run_prompt_self_consistency(6, prompt, 768, 0.7, i, 2)\n",
        "  runs.append(run_info)\n",
        "  print(run_info[\"model\"])\n",
        "  print(run_info[\"output\"][\"output attempt 1\"])\n",
        "  print(run_info[\"output\"][\"output attempt 2\"])\n",
        "  print(\"\\n\")"
      ],
      "metadata": {
        "colab": {
          "base_uri": "https://localhost:8080/"
        },
        "id": "rL5Ae0UHEI9Q",
        "outputId": "5bd60179-2a17-43c2-d2f7-be1946980b6a"
      },
      "execution_count": null,
      "outputs": [
        {
          "output_type": "stream",
          "name": "stdout",
          "text": [
            "gpt-4o-mini\n",
            "```sql\n",
            "CREATE TABLE users (\n",
            "    id SERIAL PRIMARY KEY,\n",
            "    name VARCHAR(100) NOT NULL\n",
            ");\n",
            "\n",
            "CREATE TABLE books (\n",
            "    id SERIAL PRIMARY KEY,\n",
            "    title VARCHAR(255) NOT NULL\n",
            ");\n",
            "\n",
            "CREATE TABLE reviews (\n",
            "    id SERIAL PRIMARY KEY,\n",
            "    user_id INT NOT NULL,\n",
            "    book_id INT NOT NULL,\n",
            "    rating INT CHECK (rating >= 1 AND rating <= 5),\n",
            "    FOREIGN KEY (user_id) REFERENCES users(id) ON DELETE CASCADE,\n",
            "    FOREIGN KEY (book_id) REFERENCES books(id) ON DELETE CASCADE\n",
            ");\n",
            "```\n",
            "```sql\n",
            "CREATE TABLE users (\n",
            "    id SERIAL PRIMARY KEY,\n",
            "    name VARCHAR(255) NOT NULL\n",
            ");\n",
            "\n",
            "CREATE TABLE books (\n",
            "    id SERIAL PRIMARY KEY,\n",
            "    title VARCHAR(255) NOT NULL\n",
            ");\n",
            "\n",
            "CREATE TABLE reviews (\n",
            "    id SERIAL PRIMARY KEY,\n",
            "    user_id INT NOT NULL,\n",
            "    book_id INT NOT NULL,\n",
            "    rating INT CHECK (rating BETWEEN 1 AND 5),\n",
            "    FOREIGN KEY (user_id) REFERENCES users(id) ON DELETE CASCADE,\n",
            "    FOREIGN KEY (book_id) REFERENCES books(id) ON DELETE CASCADE,\n",
            "    UNIQUE (user_id, book_id)  -- Ensures a user can only review a book once\n",
            ");\n",
            "```\n",
            "\n",
            "\n",
            "Codestral-2501\n",
            "```sql\n",
            "CREATE TABLE users (\n",
            "    id SERIAL PRIMARY KEY,\n",
            "    name VARCHAR(255) NOT NULL\n",
            ");\n",
            "\n",
            "CREATE TABLE books (\n",
            "    id SERIAL PRIMARY KEY,\n",
            "    title VARCHAR(255) NOT NULL\n",
            ");\n",
            "\n",
            "CREATE TABLE reviews (\n",
            "    id SERIAL PRIMARY KEY,\n",
            "    user_id INT NOT NULL,\n",
            "    book_id INT NOT NULL,\n",
            "    rating INT CHECK (rating >= 1 AND rating <= 5),\n",
            "    FOREIGN KEY (user_id) REFERENCES users(id) ON DELETE CASCADE,\n",
            "    FOREIGN KEY (book_id) REFERENCES books(id) ON DELETE CASCADE,\n",
            "    UNIQUE (user_id, book_id)\n",
            ");\n",
            "```\n",
            "```sql\n",
            "CREATE TABLE users (\n",
            "    id SERIAL PRIMARY KEY,\n",
            "    name VARCHAR(255) NOT NULL\n",
            ");\n",
            "\n",
            "CREATE TABLE books (\n",
            "    id SERIAL PRIMARY KEY,\n",
            "    title VARCHAR(255) NOT NULL\n",
            ");\n",
            "\n",
            "CREATE TABLE reviews (\n",
            "    id SERIAL PRIMARY KEY,\n",
            "    user_id INT NOT NULL,\n",
            "    book_id INT NOT NULL,\n",
            "    rating INT CHECK (rating >= 1 AND rating <= 5),\n",
            "    FOREIGN KEY (user_id) REFERENCES users(id) ON DELETE CASCADE,\n",
            "    FOREIGN KEY (book_id) REFERENCES books(id) ON DELETE CASCADE\n",
            ");\n",
            "```\n",
            "\n",
            "\n"
          ]
        }
      ]
    },
    {
      "cell_type": "markdown",
      "source": [
        "# **Task 7: Null Dereference Detection (Java)**"
      ],
      "metadata": {
        "id": "eV0GsXf9JPWQ"
      }
    },
    {
      "cell_type": "code",
      "source": [
        "code = \"\"\"\n",
        "```java\n",
        "public int getLength ( String s ) {\n",
        "  return s . length () ;\n",
        "}\n",
        "```\n",
        "\"\"\""
      ],
      "metadata": {
        "id": "AtIVH3MBIBAR"
      },
      "execution_count": null,
      "outputs": []
    },
    {
      "cell_type": "markdown",
      "source": [
        "## Prompting Strategy 1: Zero Shot"
      ],
      "metadata": {
        "id": "PCMIAfRQJzKP"
      }
    },
    {
      "cell_type": "code",
      "source": [
        "prompt = f\"Identify the most important issues (at most two) in the following Java function:\\n{code}\\nOnly focus on the problems, do not respond with solutions.\""
      ],
      "metadata": {
        "id": "0SV-BwOmZLf_"
      },
      "execution_count": null,
      "outputs": []
    },
    {
      "cell_type": "code",
      "source": [
        "for i in range(2):\n",
        "  run_info = run_prompt(7, \"zero shot\", prompt, 768, 0.7, i)\n",
        "  runs.append(run_info)\n",
        "  print(run_info[\"model\"])\n",
        "  print(run_info[\"output\"])\n",
        "  print(\"\\n\")"
      ],
      "metadata": {
        "colab": {
          "base_uri": "https://localhost:8080/"
        },
        "id": "SUgYY3BeJcSb",
        "outputId": "4b623a8a-0cf9-46f8-e8e0-ec3caeaa097b"
      },
      "execution_count": null,
      "outputs": [
        {
          "output_type": "stream",
          "name": "stdout",
          "text": [
            "gpt-4o-mini\n",
            "1. **Null Pointer Exception**: The function does not handle the case where the input string `s` could be `null`, which would cause a `NullPointerException` when attempting to call `length()`.\n",
            "\n",
            "2. **Lack of Input Validation**: The function does not validate the input before proceeding, which could lead to unexpected behavior if the function is used in a context where input validation is necessary.\n",
            "\n",
            "\n",
            "Codestral-2501\n",
            "The most important issues in the provided Java function are:\n",
            "\n",
            "1. **Lack of Input Validation**: The function does not check if the input string `s` is `null`. Calling the `length()` method on a `null` string will result in a `NullPointerException`.\n",
            "\n",
            "2. **Inconsistent Naming Convention**: The function name `getLength` uses camelCase, which is a common naming convention in Java. However, the method name `length` in the `String` class is in lowercase, which might be slightly inconsistent if the intention is to mirror the behavior of the `String` class closely.\n",
            "\n",
            "\n"
          ]
        }
      ]
    },
    {
      "cell_type": "markdown",
      "source": [
        "## Prompting Strategy 2: Self Consistency"
      ],
      "metadata": {
        "id": "tiT3I0DHMb1U"
      }
    },
    {
      "cell_type": "code",
      "source": [
        "for i in range(2):\n",
        "  run_info = run_prompt_self_consistency(7, prompt, 768, 0.7, i, 2)\n",
        "  runs.append(run_info)\n",
        "  print(run_info[\"model\"])\n",
        "  print(run_info[\"output\"][\"output attempt 1\"])\n",
        "  print(run_info[\"output\"][\"output attempt 2\"])\n",
        "  print(\"\\n\")"
      ],
      "metadata": {
        "colab": {
          "base_uri": "https://localhost:8080/"
        },
        "id": "A3cY_3OBKR4t",
        "outputId": "78f87e08-7e46-4319-bdb4-bf16a0b73084"
      },
      "execution_count": null,
      "outputs": [
        {
          "output_type": "stream",
          "name": "stdout",
          "text": [
            "gpt-4o-mini\n",
            "1. **Null Pointer Exception**: The function does not handle the case where the input string `s` is `null`, which would lead to a `NullPointerException` when attempting to call `s.length()`.\n",
            "\n",
            "2. **Lack of Input Validation**: The function does not validate the input string, potentially leading to unexpected behavior or results in cases where the input is not suitable (e.g., if the input type is not a string).\n",
            "1. **Null Pointer Exception**: The function does not handle the case where the input string `s` is `null`, which would result in a `NullPointerException` when attempting to call `s.length()`.\n",
            "\n",
            "2. **Lack of Input Validation**: The function does not provide any validation or error handling for empty strings or other potential issues related to the input, such as ensuring that `s` is not modified or that it meets certain criteria if needed.\n",
            "\n",
            "\n",
            "Codestral-2501\n",
            "The most important issues in the given Java function are:\n",
            "\n",
            "1. **Lack of Parameter Validation**: The function does not check whether the input parameter `s` is null. If `s` is null, calling `s.length()` will result in a `NullPointerException`.\n",
            "\n",
            "2. **Potential Confusion with Method Naming**: The method name `getLength` suggests that it returns the length of a string. However, the method signature and body are straightforward and don't indicate any potential confusion. This issue is less critical compared to the null pointer risk.\n",
            "The most important issues in the provided Java function are:\n",
            "\n",
            "1. **Lack of Null Check**: The function does not check whether the input string `s` is `null`. Attempting to call `length()` on a `null` string will result in a `NullPointerException`.\n",
            "\n",
            "2. **Potential Performance Issue**: The function directly calls `s.length()`, which is an `O(1)` operation. However, if the function is part of a larger context where `s` is repeatedly accessed, it might become a performance bottleneck if `s.length()` is called frequently within a loop or in a high-performance section of the code.\n",
            "\n",
            "\n"
          ]
        }
      ]
    },
    {
      "cell_type": "markdown",
      "source": [
        "# **Task 8: CSV Parser Variants (Python)**"
      ],
      "metadata": {
        "id": "NGuZ5eBBQf0U"
      }
    },
    {
      "cell_type": "code",
      "source": [
        "code = \"\"\"\n",
        "```python\n",
        "def parse_csv_line ( line ) :\n",
        "  return line . split (’,’) # Incomplete : doesn ’t handle quoted fields\n",
        "```\n",
        "\"\"\""
      ],
      "metadata": {
        "id": "KubTBsUQQmJz"
      },
      "execution_count": null,
      "outputs": []
    },
    {
      "cell_type": "markdown",
      "source": [
        "## Prompting Strategy 1: Zero Shot"
      ],
      "metadata": {
        "id": "K9aqczw5SADN"
      }
    },
    {
      "cell_type": "code",
      "source": [
        "prompt = f\"Improve the following Python function to support quoted fields:\\n{code}\""
      ],
      "metadata": {
        "id": "M1jxC5ylZqS5"
      },
      "execution_count": null,
      "outputs": []
    },
    {
      "cell_type": "code",
      "source": [
        "for i in range(2):\n",
        "  run_info = run_prompt(8, \"zero shot\", prompt, 768, 0.7, i)\n",
        "  runs.append(run_info)\n",
        "  print(run_info[\"model\"])\n",
        "  print(run_info[\"output\"])\n",
        "  print(\"\\n\")"
      ],
      "metadata": {
        "colab": {
          "base_uri": "https://localhost:8080/"
        },
        "id": "tQC182qdSGJ8",
        "outputId": "23a5a8f6-3f8d-45ff-b4c1-022466bbf419"
      },
      "execution_count": null,
      "outputs": [
        {
          "output_type": "stream",
          "name": "stdout",
          "text": [
            "gpt-4o-mini\n",
            "To improve the `parse_csv_line` function to support quoted fields, you can use the `csv` module from Python's standard library, which is specifically designed to handle CSV parsing, including quoted fields and other complexities. Here’s an improved version of your function:\n",
            "\n",
            "```python\n",
            "import csv\n",
            "from io import StringIO\n",
            "\n",
            "def parse_csv_line(line):\n",
            "    # Use StringIO to treat the string as a file\n",
            "    f = StringIO(line)\n",
            "    reader = csv.reader(f)\n",
            "    return next(reader)  # Read the first (and only) row\n",
            "```\n",
            "\n",
            "### Explanation:\n",
            "1. **`csv.reader`**: This function handles the parsing of CSV lines, taking care of quoted fields, commas within quotes, and other CSV formatting issues.\n",
            "2. **`StringIO`**: This allows us to treat a string as a file, which is necessary because `csv.reader` expects a file-like object.\n",
            "\n",
            "### Example Usage:\n",
            "```python\n",
            "line = 'value1,\"value, with, commas\",value3'\n",
            "parsed = parse_csv_line(line)\n",
            "print(parsed)  # Output: ['value1', 'value, with, commas', 'value3']\n",
            "```\n",
            "\n",
            "This approach is robust and will correctly parse lines with various complexities in CSV formatting.\n",
            "\n",
            "\n",
            "Codestral-2501\n",
            "To support quoted fields in a CSV line, you need to handle cases where fields may contain commas, newline characters, or other special characters. This involves parsing the line character by character and accounting for quoted sections.\n",
            "\n",
            "Here is an improved version of the function that handles quoted fields:\n",
            "\n",
            "```python\n",
            "def parse_csv_line(line):\n",
            "    fields = []\n",
            "    field = []\n",
            "    in_quote = False\n",
            "    escape_next = False\n",
            "\n",
            "    for char in line:\n",
            "        if escape_next:\n",
            "            field.append(char)\n",
            "            escape_next = False\n",
            "        elif char == '\"':\n",
            "            if in_quote:\n",
            "                if field and field[-1] == '\"':  # Handle double quotes\n",
            "                    field.append(char)\n",
            "                else:\n",
            "                    in_quote = False\n",
            "            else:\n",
            "                in_quote = True\n",
            "        elif char == ',' and not in_quote:\n",
            "            fields.append(''.join(field))\n",
            "            field = []\n",
            "        elif char == '\\\\':\n",
            "            escape_next = True\n",
            "        else:\n",
            "            field.append(char)\n",
            "\n",
            "    # Append the last field\n",
            "    fields.append(''.join(field))\n",
            "\n",
            "    return fields\n",
            "\n",
            "# Example usage:\n",
            "line = 'John Doe,\"123, Main St\",50,\"He said, \"\"Hello!\"\"\",\"New\\nLine\"'\n",
            "print(parse_csv_line(line))\n",
            "```\n",
            "\n",
            "### Explanation:\n",
            "\n",
            "1. **Initialization**:\n",
            "   - `fields` is a list to store the parsed fields.\n",
            "   - `field` is a list to accumulate characters of the current field.\n",
            "   - `in_quote` is a flag to track whether we are inside a quoted section.\n",
            "   - `escape_next` is a flag to handle escaped characters.\n",
            "\n",
            "2. **Character Iteration**:\n",
            "   - If `escape_next` is `True`, the character is appended to `field` and `escape_next` is reset.\n",
            "   - If a double quote (`\"`) is encountered:\n",
            "     - If `in_quote` is `True`, it toggles `in_quote` off, ensuring that the closing quote is part of the field.\n",
            "     - If `in_quote` is `False`, it toggles `in_quote` on.\n",
            "   - If a comma (`,`) is encountered and `in_quote` is `False`, the current `field` is added to `fields`, and `field` is reset.\n",
            "   - If a backslash (`\\`) is encountered, `escape_next` is set to `True` to handle the next character as escaped.\n",
            "   - Otherwise, the character is appended to `field`.\n",
            "\n",
            "3. **Final Field**:\n",
            "   - After the loop, the last field is added to `fields`.\n",
            "\n",
            "This function now properly handles quoted fields, including those containing commas, double quotes, and escaped characters.\n",
            "\n",
            "\n"
          ]
        }
      ]
    },
    {
      "cell_type": "markdown",
      "source": [
        "## Prompting Strategy 2: Chain of Thought"
      ],
      "metadata": {
        "id": "0C_YIQhaSYgK"
      }
    },
    {
      "cell_type": "code",
      "source": [
        "prompt = f\"Improve the following Python function to support quoted fields. Think step-by-step:\\n{code}\""
      ],
      "metadata": {
        "id": "wMpUDaJRZ2Fl"
      },
      "execution_count": null,
      "outputs": []
    },
    {
      "cell_type": "code",
      "source": [
        "for i in range(2):\n",
        "  run_info = run_prompt(8, \"chain of thought\", prompt, 768, 0.7, i)\n",
        "  runs.append(run_info)\n",
        "  print(run_info[\"model\"])\n",
        "  print(run_info[\"output\"])\n",
        "  print(\"\\n\")"
      ],
      "metadata": {
        "colab": {
          "base_uri": "https://localhost:8080/"
        },
        "id": "sEdjrSGBSdPS",
        "outputId": "55eca0f7-6205-4126-f36d-dd151595b877"
      },
      "execution_count": null,
      "outputs": [
        {
          "output_type": "stream",
          "name": "stdout",
          "text": [
            "gpt-4o-mini\n",
            "To improve the `parse_csv_line` function to handle quoted fields, we need to consider the following steps:\n",
            "\n",
            "1. **Understanding Quoted Fields**: In CSV files, fields can be enclosed in quotes. If a field contains a comma, it should be treated as part of the field rather than as a delimiter. For example, the string `\"Doe, John\",25` should be split into `[\"Doe, John\", \"25\"]`.\n",
            "\n",
            "2. **Using Regular Expressions**: To handle the complexity of quoted fields, we can use the `re` module in Python, which allows for more sophisticated string manipulation.\n",
            "\n",
            "3. **Implementing the Function**: We need to create a regex pattern that accounts for:\n",
            "   - Fields enclosed in double quotes (which may contain commas).\n",
            "   - Unquoted fields (which are separated by commas).\n",
            "   - Handling escape quotes if necessary (e.g., `\"\"\"` should be interpreted as a single `\"`).\n",
            "\n",
            "Here’s an updated version of the `parse_csv_line` function:\n",
            "\n",
            "```python\n",
            "import re\n",
            "\n",
            "def parse_csv_line(line):\n",
            "    # Regular expression to match fields in a CSV line.\n",
            "    # This pattern accounts for:\n",
            "    # - Quoted fields: \"field, with, commas\"\n",
            "    # - Unquoted fields: field1,field2\n",
            "    # - Optional spaces around commas\n",
            "    pattern = r'''(\n",
            "        \"([^\"]*)\"         # Match a quoted field (with any content inside)\n",
            "        |                  # OR\n",
            "        ([^,\"]+)          # Match an unquoted field (any content except commas or quotes)\n",
            "    )'''\n",
            "    \n",
            "    # Find all matches in the line\n",
            "    matches = re.findall(pattern, line.strip())\n",
            "    \n",
            "    # Extract the matched groups into a list\n",
            "    result = []\n",
            "    for match in matches:\n",
            "        # Either the first group will be filled (quoted) or the second (unquoted)\n",
            "        quoted_field, unquoted_field = match[1], match[2]\n",
            "        if quoted_field:\n",
            "            # Remove surrounding quotes and return the field\n",
            "            result.append(quoted_field)\n",
            "        elif unquoted_field:\n",
            "            result.append(unquoted_field.strip())\n",
            "    \n",
            "    return result\n",
            "\n",
            "# Example usage\n",
            "line = '\"Doe, John\",25,\"New York, NY\"'\n",
            "parsed_line = parse_csv_line(line)\n",
            "print(parsed_line)  # Output: ['Doe, John', '25', 'New York, NY']\n",
            "```\n",
            "\n",
            "### Explanation of the Code:\n",
            "\n",
            "1. **Regex Pattern**:\n",
            "   - `r'''(...)'''`: This is a raw string that allows multiline regex patterns.\n",
            "   - `(\"([^\"]*)\")`: This captures a quoted field, allowing any character except a quote inside.\n",
            "   - `|` (OR): This allows for matching unquoted fields.\n",
            "   - `([^,\"]+)`: Captures any sequence of characters that are not commas or quotes.\n",
            "\n",
            "2. **Finding Matches**: `re.findall()` is used to return all non-overlapping matches of the pattern in the string.\n",
            "\n",
            "3. **Processing Matches**: The function iterates through the matches and appends the corresponding fields to the result list. If a field is quoted, it is added as is. If it's unquoted, it is stripped of any leading or trailing spaces.\n",
            "\n",
            "This function can now properly parse CSV lines with quoted fields, handling commas within those fields correctly.\n",
            "\n",
            "\n",
            "Codestral-2501\n",
            "To improve the `parse_csv_line` function to handle quoted fields correctly, we need to consider the following steps:\n",
            "\n",
            "1. **Identify Quoted Fields**: Determine when a field is enclosed in quotes.\n",
            "2. **Handle Leading and Trailing Spaces**: Ensure that spaces inside quoted fields are preserved.\n",
            "3. **Handle Embedded Commas**: Allow commas within quoted fields without splitting them.\n",
            "\n",
            "Here's a step-by-step approach to achieve this:\n",
            "\n",
            "### Step 1: Identify Quoted Fields\n",
            "We need to identify fields that are enclosed in quotes. This can be done by iterating through the characters of the line.\n",
            "\n",
            "### Step 2: Handle Leading and Trailing Spaces\n",
            "Quoted fields may have leading and trailing spaces that should be preserved.\n",
            "\n",
            "### Step 3: Handle Embedded Commas\n",
            "Commas inside quoted fields should not be considered as field separators.\n",
            "\n",
            "### Step 4: Implement the Logic\n",
            "We will use a state machine approach to handle the parsing:\n",
            "- **Inside Quoted Field**: When we encounter a quote, we toggle between inside and outside a quoted field.\n",
            "- **Inside Non-Quoted Field**: When we encounter a comma, we split the field.\n",
            "\n",
            "Here is the improved function:\n",
            "\n",
            "```python\n",
            "def parse_csv_line(line):\n",
            "    fields = []\n",
            "    field = []\n",
            "    inside_quotes = False\n",
            "    escape_char = False\n",
            "\n",
            "    for char in line:\n",
            "        if char == '\"' and not escape_char:\n",
            "            # Toggle the inside_quotes state\n",
            "            inside_quotes = not inside_quotes\n",
            "        elif char == ',' and not inside_quotes:\n",
            "            # End of a field\n",
            "            fields.append(''.join(field).strip())\n",
            "            field = []\n",
            "        elif char == '\\\\' and inside_quotes:\n",
            "            # Handle escape character\n",
            "            escape_char = True\n",
            "        else:\n",
            "            # Regular character\n",
            "            field.append(char)\n",
            "            escape_char = False\n",
            "\n",
            "    # Add the last field\n",
            "    fields.append(''.join(field).strip())\n",
            "\n",
            "    return fields\n",
            "\n",
            "# Example usage\n",
            "line = 'John \"Doe, Jr.\", 25, \"New York, NY\"'\n",
            "print(parse_csv_line(line))\n",
            "```\n",
            "\n",
            "### Explanation:\n",
            "1. **Initialization**: We initialize an empty list `fields` to store the parsed fields, an empty list `field` to build the current field, and boolean flags `inside_quotes` and `escape_char`.\n",
            "\n",
            "2. **Iterate through Characters**: We iterate through each character in the line.\n",
            "    - **Quotes**: If we encounter a quote (`\"`), we toggle the `inside_quotes` state unless we are inside an escape sequence.\n",
            "    - **Commas**: If we encounter a comma (`,`) and we are not inside quotes, we end the current field, strip any leading/trailing spaces, and add it to `fields`.\n",
            "    - **Escape Character**: If we encounter an escape character (`\\`), we set the `escape_char` flag to handle the next character as part of the field.\n",
            "    - **Regular Characters**: We add the character to the `field` and reset the `escape_char` flag.\n",
            "\n",
            "3. **Final Field**: After the loop, we add the last field to `fields`.\n",
            "\n",
            "This approach ensures that quoted fields are handled correctly, preserving spaces and embedded commas.\n",
            "\n",
            "\n"
          ]
        }
      ]
    },
    {
      "cell_type": "markdown",
      "source": [
        "# **Task 9: Data Class to API Conversion (Kotlin)**"
      ],
      "metadata": {
        "id": "t6bV7YuLQo1Q"
      }
    },
    {
      "cell_type": "markdown",
      "source": [
        "## Prompting Strategy 1: Zero Shot"
      ],
      "metadata": {
        "id": "SZgxnzvNVfoe"
      }
    },
    {
      "cell_type": "code",
      "source": [
        "prompt = \"\"\"\n",
        "Convert the data class to a REST API using Ktor:\n",
        "data class Product ( val id : Int , val name : String , val price : Double )\n",
        "// TODO : Create GET and POST endpoints using Ktor\n",
        "\"\"\""
      ],
      "metadata": {
        "id": "5FTj3m_nZ8AW"
      },
      "execution_count": 42,
      "outputs": []
    },
    {
      "cell_type": "code",
      "source": [
        "runs = []"
      ],
      "metadata": {
        "id": "Q_Xzw5O5nxYN"
      },
      "execution_count": 43,
      "outputs": []
    },
    {
      "cell_type": "code",
      "source": [
        "models_task9 = [1,3]\n",
        "for i in models_task9:\n",
        "  run_info = run_prompt(9, \"zero shot\", prompt, 1024, 0.7, i)\n",
        "  runs.append(run_info)\n",
        "  print(run_info[\"model\"])\n",
        "  print(run_info[\"output\"])\n",
        "  print(\"\\n\")"
      ],
      "metadata": {
        "colab": {
          "base_uri": "https://localhost:8080/"
        },
        "id": "b5sSa-g6QsF9",
        "outputId": "55fe6d0f-824f-4219-d96f-6b4512bdd3d7"
      },
      "execution_count": 44,
      "outputs": [
        {
          "output_type": "stream",
          "name": "stdout",
          "text": [
            "Codestral-2501\n",
            "To create a REST API using Ktor with a `Product` data class, you'll need to follow several steps. Below is a complete example that includes setting up Ktor, defining the data class, and implementing GET and POST endpoints.\n",
            "\n",
            "First, ensure you have the necessary dependencies in your `build.gradle.kts` file:\n",
            "\n",
            "```kotlin\n",
            "plugins {\n",
            "    kotlin(\"jvm\") version \"1.6.21\"\n",
            "    id(\"io.ktor.plugin\") version \"2.0.0\"\n",
            "}\n",
            "\n",
            "repositories {\n",
            "    mavenCentral()\n",
            "}\n",
            "\n",
            "dependencies {\n",
            "    implementation(\"io.ktor:ktor-server-core:2.0.0\")\n",
            "    implementation(\"io.ktor:ktor-server-netty:2.0.0\")\n",
            "    implementation(\"io.ktor:ktor-server-content-negotiation:2.0.0\")\n",
            "    implementation(\"io.ktor:ktor-serialization-kotlinx-json:2.0.0\")\n",
            "    implementation(\"org.jetbrains.kotlinx:kotlinx-serialization-json:1.3.2\")\n",
            "}\n",
            "```\n",
            "\n",
            "Next, create the `Product` data class and implement the Ktor server with GET and POST endpoints.\n",
            "\n",
            "```kotlin\n",
            "import io.ktor.application.*\n",
            "import io.ktor.features.ContentNegotiation\n",
            "import io.ktor.features.StatusPages\n",
            "import io.ktor.http.*\n",
            "import io.ktor.request.*\n",
            "import io.ktor.response.*\n",
            "import io.ktor.routing.*\n",
            "import io.ktor.serialization.*\n",
            "import io.ktor.server.engine.*\n",
            "import io.ktor.server.netty.*\n",
            "import kotlinx.serialization.Serializable\n",
            "import kotlinx.serialization.json.Json\n",
            "\n",
            "@Serializable\n",
            "data class Product(\n",
            "    val id: Int,\n",
            "    val name: String,\n",
            "    val price: Double\n",
            ")\n",
            "\n",
            "fun main() {\n",
            "    val products = mutableListOf(\n",
            "        Product(1, \"Product 1\", 10.0),\n",
            "        Product(2, \"Product 2\", 20.0)\n",
            "    )\n",
            "\n",
            "    embeddedServer(Netty, port = 8080) {\n",
            "        install(ContentNegotiation) {\n",
            "            json(Json { prettyPrint = true })\n",
            "        }\n",
            "\n",
            "        install(StatusPages) {\n",
            "            exception<Throwable> { cause ->\n",
            "                call.respond(HttpStatusCode.InternalServerError, cause.localizedMessage)\n",
            "            }\n",
            "        }\n",
            "\n",
            "        routing {\n",
            "            get(\"/products\") {\n",
            "                call.respond(products)\n",
            "            }\n",
            "\n",
            "            post(\"/products\") {\n",
            "                val product = call.receive<Product>()\n",
            "                products.add(product)\n",
            "                call.respond(HttpStatusCode.Created, product.id)\n",
            "            }\n",
            "        }\n",
            "    }.start(wait = true)\n",
            "}\n",
            "```\n",
            "\n",
            "### Explanation:\n",
            "\n",
            "1. **Dependencies**: The `build.gradle.kts` file includes the necessary Ktor and serialization dependencies.\n",
            "\n",
            "2. **Product Data Class**: The `Product` data class is annotated with `@Serializable` to enable serialization/deserialization with `kotlinx.serialization`.\n",
            "\n",
            "3. **Main Function**:\n",
            "   - An embedded Netty server is created on port 8080.\n",
            "   - `ContentNegotiation` is installed to handle JSON serialization/deserialization.\n",
            "   - `StatusPages` is installed to handle exceptions.\n",
            "   - Routing is configured to handle GET and POST requests:\n",
            "     - `GET /products`: Responds with the list of products.\n",
            "     - `POST /products`: Receives a new product from the request body, adds it to the list, and responds with the ID of the new product.\n",
            "\n",
            "### Running the Server:\n",
            "\n",
            "To run the server, execute the `main` function. The server will start and listen on port 8080. You can test the endpoints using tools like `curl`, Postman, or any HTTP client.\n",
            "\n",
            "- **GET /products**:\n",
            "  ```sh\n",
            "  curl -X GET http://localhost:8080/products\n",
            "  ```\n",
            "- **POST /products**:\n",
            "  ```sh\n",
            "  curl -X POST -H \"Content-Type: application/json\" -d '{\"id\": 3, \"name\": \"Product 3\", \"price\": 30.0}' http://localhost:8080/products\n",
            "  ```\n",
            "\n",
            "This example provides a basic structure for a REST API using Ktor. You can expand it with additional features like validation, error handling, and more complex business logic as needed.\n",
            "\n",
            "\n",
            "gpt-4.1-mini\n",
            "Certainly! Here's a simple example of how to create a Ktor REST API with GET and POST endpoints for the `Product` data class.\n",
            "\n",
            "```kotlin\n",
            "import io.ktor.application.*\n",
            "import io.ktor.http.*\n",
            "import io.ktor.response.*\n",
            "import io.ktor.request.*\n",
            "import io.ktor.routing.*\n",
            "import io.ktor.features.*\n",
            "import io.ktor.serialization.*\n",
            "import io.ktor.server.engine.*\n",
            "import io.ktor.server.netty.*\n",
            "\n",
            "data class Product(val id: Int, val name: String, val price: Double)\n",
            "\n",
            "fun main() {\n",
            "    // In-memory storage for products\n",
            "    val products = mutableListOf<Product>()\n",
            "\n",
            "    embeddedServer(Netty, port = 8080) {\n",
            "        install(ContentNegotiation) {\n",
            "            json()\n",
            "        }\n",
            "        routing {\n",
            "            route(\"/products\") {\n",
            "                // GET all products\n",
            "                get {\n",
            "                    call.respond(products)\n",
            "                }\n",
            "\n",
            "                // POST a new product\n",
            "                post {\n",
            "                    val product = call.receive<Product>()\n",
            "                    products.add(product)\n",
            "                    call.respond(HttpStatusCode.Created, product)\n",
            "                }\n",
            "\n",
            "                // Optional: GET a product by id\n",
            "                get(\"{id}\") {\n",
            "                    val id = call.parameters[\"id\"]?.toIntOrNull()\n",
            "                    if (id == null) {\n",
            "                        call.respond(HttpStatusCode.BadRequest, \"Missing or invalid id\")\n",
            "                        return@get\n",
            "                    }\n",
            "                    val product = products.find { it.id == id }\n",
            "                    if (product == null) {\n",
            "                        call.respond(HttpStatusCode.NotFound, \"Product not found\")\n",
            "                    } else {\n",
            "                        call.respond(product)\n",
            "                    }\n",
            "                }\n",
            "            }\n",
            "        }\n",
            "    }.start(wait = true)\n",
            "}\n",
            "```\n",
            "\n",
            "### Explanation:\n",
            "- The app listens on port 8080.\n",
            "- The `products` list holds the products in memory.\n",
            "- `GET /products` returns all products.\n",
            "- `POST /products` accepts a Product JSON and adds it to the list.\n",
            "- `GET /products/{id}` returns a product by its id (optional but commonly useful).\n",
            "- `ContentNegotiation` with `json` is installed to handle JSON serialization/deserialization.\n",
            "\n",
            "### Usage example:\n",
            "\n",
            "**POST** `/products` with JSON body:\n",
            "\n",
            "```json\n",
            "{\n",
            "  \"id\": 1,\n",
            "  \"name\": \"Laptop\",\n",
            "  \"price\": 999.99\n",
            "}\n",
            "```\n",
            "\n",
            "**GET** `/products` returns:\n",
            "\n",
            "```json\n",
            "[\n",
            "  {\n",
            "    \"id\": 1,\n",
            "    \"name\": \"Laptop\",\n",
            "    \"price\": 999.99\n",
            "  }\n",
            "]\n",
            "```\n",
            "\n",
            "Let me know if you want me to include other HTTP methods or use a persistent database!\n",
            "\n",
            "\n"
          ]
        }
      ]
    },
    {
      "cell_type": "markdown",
      "source": [
        "## Prompting Strategy 2: Chain of Thought"
      ],
      "metadata": {
        "id": "y9PLWAGbcq82"
      }
    },
    {
      "cell_type": "code",
      "source": [
        "prompt = \"\"\"\n",
        "Convert the data class to a REST API using Ktor. Think step-by-step:\n",
        "data class Product ( val id : Int , val name : String , val price : Double )\n",
        "// TODO : Create GET and POST endpoints using Ktor\n",
        "\"\"\""
      ],
      "metadata": {
        "id": "dBGKbYysaEAd"
      },
      "execution_count": 45,
      "outputs": []
    },
    {
      "cell_type": "code",
      "source": [
        "for i in models_task9:\n",
        "  run_info = run_prompt(9, \"chain of thought\", prompt, 1024, 0.7, i)\n",
        "  runs.append(run_info)\n",
        "  print(run_info[\"model\"])\n",
        "  print(run_info[\"output\"])\n",
        "  print(\"\\n\")"
      ],
      "metadata": {
        "colab": {
          "base_uri": "https://localhost:8080/"
        },
        "id": "wgIJV8R4cdZr",
        "outputId": "249ed532-6b2b-45e7-8d72-ff79832ca44e"
      },
      "execution_count": 46,
      "outputs": [
        {
          "output_type": "stream",
          "name": "stdout",
          "text": [
            "Codestral-2501\n",
            "Sure! To create a REST API using Ktor for the `Product` data class, we'll need to follow several steps. We'll use Ktor, which is a framework for building asynchronous servers and clients in connected systems. Here’s a step-by-step guide:\n",
            "\n",
            "### Step 1: Add Dependencies\n",
            "First, ensure you have the necessary dependencies in your `build.gradle.kts` file:\n",
            "```kotlin\n",
            "dependencies {\n",
            "    implementation(\"io.ktor:ktor-server-core:2.0.0\")\n",
            "    implementation(\"io.ktor:ktor-server-netty:2.0.0\")\n",
            "    implementation(\"io.ktor:ktor-server-auth:2.0.0\")\n",
            "    implementation(\"io.ktor:ktor-server-content-negotiation:2.0.0\")\n",
            "    implementation(\"io.ktor:ktor-serialization-kotlinx-json:2.0.0\")\n",
            "    implementation(\"io.ktor:ktor-server-status-pages:2.0.0\")\n",
            "    implementation(\"io.ktor:ktor-client-core:2.0.0\")\n",
            "    implementation(\"io.ktor:ktor-client-serialization:2.0.0\")\n",
            "}\n",
            "```\n",
            "\n",
            "### Step 2: Create the Data Class\n",
            "Define your `Product` data class:\n",
            "```kotlin\n",
            "data class Product(\n",
            "    val id: Int,\n",
            "    val name: String,\n",
            "    val price: Double\n",
            ")\n",
            "```\n",
            "\n",
            "### Step 3: Set Up Ktor Application\n",
            "Create a Ktor application and configure it to handle JSON serialization:\n",
            "```kotlin\n",
            "import io.ktor.application.*\n",
            "import io.ktor.features.*\n",
            "import io.ktor.http.*\n",
            "import io.ktor.response.*\n",
            "import io.ktor.routing.*\n",
            "import io.ktor.serialization.*\n",
            "import io.ktor.server.engine.*\n",
            "import io.ktor.server.netty.*\n",
            "\n",
            "fun main() {\n",
            "    embeddedServer(Netty, port = 8080) {\n",
            "        install(ContentNegotiation) {\n",
            "            json()\n",
            "        }\n",
            "\n",
            "        routing {\n",
            "            // Define routes here\n",
            "        }\n",
            "    }.start(wait = true)\n",
            "}\n",
            "```\n",
            "\n",
            "### Step 4: Implement In-Memory Storage\n",
            "For simplicity, we'll use an in-memory list to store our products:\n",
            "```kotlin\n",
            "val products = mutableListOf<Product>()\n",
            "```\n",
            "\n",
            "### Step 5: Create GET Endpoint\n",
            "Create an endpoint to retrieve the list of products:\n",
            "```kotlin\n",
            "routing {\n",
            "    get(\"/products\") {\n",
            "        call.respond(products)\n",
            "    }\n",
            "}\n",
            "```\n",
            "\n",
            "### Step 6: Create POST Endpoint\n",
            "Create an endpoint to add a new product:\n",
            "```kotlin\n",
            "routing {\n",
            "    post(\"/products\") {\n",
            "        val product = call.receive<Product>()\n",
            "        products.add(product)\n",
            "        call.respond(HttpStatusCode.Created, product)\n",
            "    }\n",
            "}\n",
            "```\n",
            "\n",
            "### Step 7: Complete the Ktor Application\n",
            "Combine all the steps into a complete Ktor application:\n",
            "```kotlin\n",
            "import io.ktor.application.*\n",
            "import io.ktor.features.*\n",
            "import io.ktor.http.*\n",
            "import io.ktor.response.*\n",
            "import io.ktor.request.*\n",
            "import io.ktor.routing.*\n",
            "import io.ktor.serialization.*\n",
            "import io.ktor.server.engine.*\n",
            "import io.ktor.server.netty.*\n",
            "\n",
            "data class Product(\n",
            "    val id: Int,\n",
            "    val name: String,\n",
            "    val price: Double\n",
            ")\n",
            "\n",
            "val products = mutableListOf<Product>()\n",
            "\n",
            "fun main() {\n",
            "    embeddedServer(Netty, port = 8080) {\n",
            "        install(ContentNegotiation) {\n",
            "            json()\n",
            "        }\n",
            "\n",
            "        routing {\n",
            "            get(\"/products\") {\n",
            "                call.respond(products)\n",
            "            }\n",
            "\n",
            "            post(\"/products\") {\n",
            "                val product = call.receive<Product>()\n",
            "                products.add(product)\n",
            "                call.respond(HttpStatusCode.Created, product)\n",
            "            }\n",
            "        }\n",
            "    }.start(wait = true)\n",
            "}\n",
            "```\n",
            "\n",
            "### Step 8: Test Your API\n",
            "Run your application and test the API using tools like `curl`, Postman, or any HTTP client.\n",
            "\n",
            "- **GET Request**:\n",
            "    ```sh\n",
            "    curl -X GET http://localhost:8080/products\n",
            "    ```\n",
            "\n",
            "- **POST Request**:\n",
            "    ```sh\n",
            "    curl -X POST http://localhost:8080/products -H \"Content-Type: application/json\" -d '{\"id\": 1, \"name\": \"Sample Product\", \"price\": 19.99}'\n",
            "    ```\n",
            "\n",
            "With these steps, you have created a simple REST API using Ktor that can handle GET and POST requests for the `Product` data class.\n",
            "\n",
            "\n",
            "gpt-4.1-mini\n",
            "Sure! Let's convert your Kotlin `data class` into a simple REST API using Ktor that supports both GET and POST endpoints step-by-step.\n",
            "\n",
            "---\n",
            "\n",
            "### Step 1: Setup Ktor project\n",
            "\n",
            "Make sure you have a Ktor project set up with the necessary dependencies. Here's an example of what your `build.gradle.kts` might include:\n",
            "\n",
            "```kotlin\n",
            "plugins {\n",
            "    kotlin(\"jvm\") version \"1.8.10\"\n",
            "    application\n",
            "    id(\"io.ktor.plugin\") version \"2.3.0\"\n",
            "}\n",
            "\n",
            "repositories {\n",
            "    mavenCentral()\n",
            "}\n",
            "\n",
            "dependencies {\n",
            "    implementation(\"io.ktor:ktor-server-core:2.3.0\")\n",
            "    implementation(\"io.ktor:ktor-server-netty:2.3.0\")\n",
            "    implementation(\"io.ktor:ktor-server-content-negotiation:2.3.0\")\n",
            "    implementation(\"io.ktor:ktor-serialization-kotlinx-json:2.3.0\")\n",
            "    testImplementation(\"io.ktor:ktor-server-tests:2.3.0\")\n",
            "    testImplementation(kotlin(\"test\"))\n",
            "}\n",
            "\n",
            "application {\n",
            "    mainClass.set(\"io.ktor.server.netty.EngineMain\")\n",
            "}\n",
            "```\n",
            "\n",
            "---\n",
            "\n",
            "### Step 2: Define your `Product` data class\n",
            "\n",
            "```kotlin\n",
            "data class Product(val id: Int, val name: String, val price: Double)\n",
            "```\n",
            "\n",
            "---\n",
            "\n",
            "### Step 3: Create a simple in-memory storage for Products\n",
            "\n",
            "For demonstration, we'll store products in a mutable list.\n",
            "\n",
            "```kotlin\n",
            "val products = mutableListOf<Product>()\n",
            "```\n",
            "\n",
            "---\n",
            "\n",
            "### Step 4: Configure Ktor Application with routes\n",
            "\n",
            "We'll create GET and POST endpoints:\n",
            "\n",
            "- **GET /products** - returns all products\n",
            "- **POST /products** - accepts a Product in the request body and adds it to the list\n",
            "\n",
            "---\n",
            "\n",
            "### Step 5: Complete Ktor Application code\n",
            "\n",
            "```kotlin\n",
            "import io.ktor.server.engine.*\n",
            "import io.ktor.server.netty.*\n",
            "import io.ktor.server.application.*\n",
            "import io.ktor.server.plugins.contentnegotiation.*\n",
            "import io.ktor.serialization.kotlinx.json.*\n",
            "import io.ktor.server.response.*\n",
            "import io.ktor.server.request.*\n",
            "import io.ktor.server.routing.*\n",
            "import kotlinx.serialization.Serializable\n",
            "import kotlinx.serialization.json.Json\n",
            "\n",
            "@Serializable\n",
            "data class Product(val id: Int, val name: String, val price: Double)\n",
            "\n",
            "fun main() {\n",
            "    embeddedServer(Netty, port = 8080) {\n",
            "        install(ContentNegotiation) {\n",
            "            json(Json {\n",
            "                prettyPrint = true\n",
            "                isLenient = true\n",
            "            })\n",
            "        }\n",
            "        routing {\n",
            "            val products = mutableListOf<Product>()\n",
            "\n",
            "            get(\"/products\") {\n",
            "                call.respond(products)\n",
            "            }\n",
            "\n",
            "            post(\"/products\") {\n",
            "                val product = call.receive<Product>()\n",
            "                products.add(product)\n",
            "                call.respond(product)\n",
            "            }\n",
            "        }\n",
            "    }.start(wait = true)\n",
            "}\n",
            "```\n",
            "\n",
            "---\n",
            "\n",
            "### Explanation:\n",
            "\n",
            "- We use `ContentNegotiation` with `kotlinx.serialization` for JSON handling.\n",
            "- The `GET /products` endpoint returns the current list of products.\n",
            "- The `POST /products` endpoint reads a `Product` from the request body and adds it to the list, then returns the added product.\n",
            "- The server runs on port 8080.\n",
            "\n",
            "---\n",
            "\n",
            "### Step 6: Test your API\n",
            "\n",
            "**Example POST request:**\n",
            "\n",
            "```bash\n",
            "curl -X POST http://localhost:8080/products \\\n",
            "-H \"Content-Type: application/json\" \\\n",
            "-d '{\"id\":1,\"name\":\"Apple\",\"price\":0.99}'\n",
            "```\n",
            "\n",
            "**Example GET request:**\n",
            "\n",
            "```bash\n",
            "curl http://localhost:8080/products\n",
            "```\n",
            "\n",
            "Expected response:\n",
            "\n",
            "```json\n",
            "[\n",
            "  {\n",
            "    \"id\": 1,\n",
            "    \"name\": \"Apple\",\n",
            "    \"price\": 0.99\n",
            "  }\n",
            "]\n",
            "```\n",
            "\n",
            "---\n",
            "\n",
            "Let me know if you want me to help with more features like PUT, DELETE or persistence!\n",
            "\n",
            "\n"
          ]
        }
      ]
    },
    {
      "cell_type": "code",
      "source": [
        "with open(\"task9_runs.json\", \"w\") as f:\n",
        "  json.dump(runs, f, indent=4)"
      ],
      "metadata": {
        "id": "_slLpuMQn-NF"
      },
      "execution_count": 47,
      "outputs": []
    },
    {
      "cell_type": "markdown",
      "source": [
        "# **Task 10: Function Summarization (Python)**"
      ],
      "metadata": {
        "id": "d7wCoAaUQt6R"
      }
    },
    {
      "cell_type": "code",
      "source": [
        "code = \"\"\"\n",
        "```python\n",
        "def reverse_words ( sentence ) :\n",
        "  return ’ ’. join ( sentence . split () [:: -1])\n",
        "```\n",
        "\"\"\""
      ],
      "metadata": {
        "id": "3kV1z1sKdI-F"
      },
      "execution_count": null,
      "outputs": []
    },
    {
      "cell_type": "markdown",
      "source": [
        "## Prompting Strategy 1: Zero Shot"
      ],
      "metadata": {
        "id": "3Zad3slFdaRe"
      }
    },
    {
      "cell_type": "code",
      "source": [
        "prompt = f\"Summarize what this code does in one sentence:\\n{code}\""
      ],
      "metadata": {
        "id": "o_P8HyoyaKHS"
      },
      "execution_count": null,
      "outputs": []
    },
    {
      "cell_type": "code",
      "source": [
        "for i in range(2):\n",
        "  run_info = run_prompt(10, \"zero shot\", prompt, 768, 0.7, i)\n",
        "  runs.append(run_info)\n",
        "  print(run_info[\"model\"])\n",
        "  print(run_info[\"output\"])\n",
        "  print(\"\\n\")"
      ],
      "metadata": {
        "colab": {
          "base_uri": "https://localhost:8080/"
        },
        "id": "APr5xUOPe1J8",
        "outputId": "e9719fd9-7bf9-4c9a-e513-f09db2c4e575"
      },
      "execution_count": null,
      "outputs": [
        {
          "output_type": "stream",
          "name": "stdout",
          "text": [
            "gpt-4o-mini\n",
            "The code defines a function that takes a sentence as input and returns the sentence with its words reversed.\n",
            "\n",
            "\n",
            "Codestral-2501\n",
            "This code defines a function that reverses the order of words in a given sentence.\n",
            "\n",
            "\n"
          ]
        }
      ]
    },
    {
      "cell_type": "markdown",
      "source": [
        "## Prompting Strategy 2: Self Consistency"
      ],
      "metadata": {
        "id": "15QmyhAKddGO"
      }
    },
    {
      "cell_type": "code",
      "source": [
        "for i in range(2):\n",
        "  run_info = run_prompt_self_consistency(10, prompt, 768, 0.7, i, 2)\n",
        "  runs.append(run_info)\n",
        "  print(run_info[\"model\"])\n",
        "  print(run_info[\"output\"][\"output attempt 1\"])\n",
        "  print(run_info[\"output\"][\"output attempt 2\"])\n",
        "  print(\"\\n\")"
      ],
      "metadata": {
        "colab": {
          "base_uri": "https://localhost:8080/"
        },
        "id": "PZJ6XVuTfUiN",
        "outputId": "ed2882f7-7f0a-431b-9782-5e1e073b73bf"
      },
      "execution_count": null,
      "outputs": [
        {
          "output_type": "stream",
          "name": "stdout",
          "text": [
            "gpt-4o-mini\n",
            "The code defines a function that takes a sentence as input and returns the sentence with its words reversed.\n",
            "The code defines a function that reverses the order of words in a given sentence.\n",
            "\n",
            "\n",
            "Codestral-2501\n",
            "This code defines a function that reverses the order of words in a given sentence.\n",
            "This code defines a function that reverses the order of words in a given sentence.\n",
            "\n",
            "\n"
          ]
        }
      ]
    },
    {
      "cell_type": "markdown",
      "source": [
        "# **Task 11: Prompt from Code Comments (Python)**"
      ],
      "metadata": {
        "id": "gTnkgbpQdH8d"
      }
    },
    {
      "cell_type": "code",
      "source": [
        "code = \"\"\"\n",
        "# This function checks if a number is prime\n",
        "def is_prime ( n ) :\n",
        "  if n <= 1:\n",
        "    return False\n",
        "  for i in range (2 , int( n **0.5) +1) :\n",
        "    if n % i == 0:\n",
        "      return False\n",
        "  return True\n",
        "\"\"\""
      ],
      "metadata": {
        "id": "zwRZB0t8dO_E"
      },
      "execution_count": null,
      "outputs": []
    },
    {
      "cell_type": "markdown",
      "source": [
        "## Prompting Strategy 1: Zero Shot"
      ],
      "metadata": {
        "id": "u_dbrM_si1Tm"
      }
    },
    {
      "cell_type": "code",
      "source": [
        "runs = runs[:40]"
      ],
      "metadata": {
        "id": "mlCp-p_RuPKt"
      },
      "execution_count": null,
      "outputs": []
    },
    {
      "cell_type": "code",
      "source": [
        "prompt = f\"Write a concise prompt to generate the given Python function:\\n{code}\""
      ],
      "metadata": {
        "id": "nGORN-5kaU4v"
      },
      "execution_count": null,
      "outputs": []
    },
    {
      "cell_type": "code",
      "source": [
        "for i in range(2):\n",
        "  run_info = run_prompt(11, \"zero shot\", prompt, 768, 0.7, i)\n",
        "  runs.append(run_info)\n",
        "  print(run_info[\"model\"])\n",
        "  print(run_info[\"output\"])\n",
        "  print(\"\\n\")"
      ],
      "metadata": {
        "colab": {
          "base_uri": "https://localhost:8080/"
        },
        "id": "JZqTrY1JhwKG",
        "outputId": "f937c96c-f8c3-46ca-cfff-17ee473e819a"
      },
      "execution_count": null,
      "outputs": [
        {
          "output_type": "stream",
          "name": "stdout",
          "text": [
            "gpt-4o-mini\n",
            "Generate a Python function named `is_prime` that checks if a given integer `n` is a prime number. The function should return `False` for numbers less than or equal to 1, and for any number that is divisible by any integer from 2 up to the square root of `n`. It should return `True` if the number is prime.\n",
            "\n",
            "\n",
            "Codestral-2501\n",
            "Generate a Python function to check if a number is prime.\n",
            "\n",
            "\n"
          ]
        }
      ]
    },
    {
      "cell_type": "markdown",
      "source": [
        "## Prompting Strategy 2: Self Consistency"
      ],
      "metadata": {
        "id": "b8wtulVWi5_2"
      }
    },
    {
      "cell_type": "code",
      "source": [
        "for i in range(2):\n",
        "  run_info = run_prompt_self_consistency(11, prompt, 768, 0.7, i, 2)\n",
        "  runs.append(run_info)\n",
        "  print(run_info[\"model\"])\n",
        "  print(run_info[\"output\"][\"output attempt 1\"])\n",
        "  print(run_info[\"output\"][\"output attempt 2\"])\n",
        "  print(\"\\n\")"
      ],
      "metadata": {
        "colab": {
          "base_uri": "https://localhost:8080/"
        },
        "id": "a_fpgr44i_Bm",
        "outputId": "1c1390b1-8839-42b4-f98b-eb40ede1f3d3"
      },
      "execution_count": null,
      "outputs": [
        {
          "output_type": "stream",
          "name": "stdout",
          "text": [
            "gpt-4o-mini\n",
            "Create a Python function named `is_prime` that takes a single integer `n` as input and returns `True` if `n` is a prime number and `False` otherwise. The function should handle cases where `n` is less than or equal to 1 by returning `False`, and for other values, it should check for divisibility from 2 up to the square root of `n`.\n",
            "Generate a Python function named `is_prime` that checks if a given number `n` is a prime number. The function should return `False` if `n` is less than or equal to 1. For numbers greater than 1, it should iterate from 2 to the square root of `n`, returning `False` if any number divides `n` evenly. If no divisors are found, it should return `True`.\n",
            "\n",
            "\n",
            "Codestral-2501\n",
            "Generate a Python function that checks if a number is prime.\n",
            "Generate a Python function that checks if a given number is prime.\n",
            "\n",
            "\n"
          ]
        }
      ]
    },
    {
      "cell_type": "markdown",
      "source": [
        "# **Task 12: Fixing Factorial Bug (Python)**"
      ],
      "metadata": {
        "id": "Pl1rANS_kOMh"
      }
    },
    {
      "cell_type": "code",
      "source": [
        "code = \"\"\"\n",
        "```python\n",
        "def factorial ( n ) :\n",
        "  result = 1\n",
        "  for i in range (1 , n ) :\n",
        "    result *= i\n",
        "  return result\n",
        "```\n",
        "\"\"\""
      ],
      "metadata": {
        "id": "ORIAQqQ_EiPD"
      },
      "execution_count": null,
      "outputs": []
    },
    {
      "cell_type": "markdown",
      "source": [
        "## Prompting Strategy 1: Zero Shot"
      ],
      "metadata": {
        "id": "4_EpRp4PEtUg"
      }
    },
    {
      "cell_type": "code",
      "source": [
        "prompt = f\"Fix the bug when input is 0 in the following Python function:\\n{code}\\nOnly reply with the fixed function.\""
      ],
      "metadata": {
        "id": "ujlLbLuNahCM"
      },
      "execution_count": null,
      "outputs": []
    },
    {
      "cell_type": "code",
      "source": [
        "print(prompt)"
      ],
      "metadata": {
        "colab": {
          "base_uri": "https://localhost:8080/"
        },
        "id": "je6mtJ_B9gPZ",
        "outputId": "d5f06ecf-1e67-4018-df16-c0723b1c9352"
      },
      "execution_count": null,
      "outputs": [
        {
          "output_type": "stream",
          "name": "stdout",
          "text": [
            "Fix the bug when input is 0 in the following Python function:\n",
            "\n",
            "```python\n",
            "def sum_range ( start , end ) :\n",
            "    total = 0\n",
            "    for i in range ( start , end ) :\n",
            "        total += i\n",
            "    return total\n",
            "```\n",
            "\n",
            "Only reply with the fixed function.\n"
          ]
        }
      ]
    },
    {
      "cell_type": "code",
      "source": [
        "for i in range(2):\n",
        "  run_info = run_prompt(12, \"zero shot\", prompt, 768, 0.7, i)\n",
        "  runs.append(run_info)\n",
        "  print(run_info[\"model\"])\n",
        "  print(run_info[\"output\"])\n",
        "  print(\"\\n\")"
      ],
      "metadata": {
        "colab": {
          "base_uri": "https://localhost:8080/"
        },
        "id": "9lviq2_WExjk",
        "outputId": "7182c099-4092-41c5-ef4e-03253cc9acbe"
      },
      "execution_count": null,
      "outputs": [
        {
          "output_type": "stream",
          "name": "stdout",
          "text": [
            "gpt-4o-mini\n",
            "```python\n",
            "def factorial(n):\n",
            "    if n == 0:\n",
            "        return 1\n",
            "    result = 1\n",
            "    for i in range(1, n + 1):\n",
            "        result *= i\n",
            "    return result\n",
            "```\n",
            "\n",
            "\n",
            "Codestral-2501\n",
            "```python\n",
            "def factorial(n):\n",
            "  result = 1\n",
            "  for i in range(1, n + 1):\n",
            "    result *= i\n",
            "  return result\n",
            "```\n",
            "\n",
            "\n"
          ]
        }
      ]
    },
    {
      "cell_type": "markdown",
      "source": [
        "## Prompting Strategy 2: Few Shot"
      ],
      "metadata": {
        "id": "ypHjgYOaFU2-"
      }
    },
    {
      "cell_type": "code",
      "source": [
        "prompt = f\"\"\"\n",
        "Example 1:\n",
        "Input: 0\n",
        "Output: 1\n",
        "\n",
        "\n",
        "Example 2:\n",
        "Input: 1\n",
        "Output: 1\n",
        "\n",
        "\n",
        "Example 3:\n",
        "Input: 5\n",
        "Output: 120\n",
        "\n",
        "Fix the bug when input is 0 in the following Python function:\\n{code}\\nOnly reply with the fixed function.\n",
        "\"\"\""
      ],
      "metadata": {
        "id": "ZePAtOUtFZo-"
      },
      "execution_count": null,
      "outputs": []
    },
    {
      "cell_type": "code",
      "source": [
        "print(prompt)"
      ],
      "metadata": {
        "colab": {
          "base_uri": "https://localhost:8080/"
        },
        "id": "jLcoGCdX9uQg",
        "outputId": "4bae5015-ae59-430d-cb74-58a9b492078f"
      },
      "execution_count": null,
      "outputs": [
        {
          "output_type": "stream",
          "name": "stdout",
          "text": [
            "\n",
            "Example 1:\n",
            "Input: 0\n",
            "Output: 1\n",
            "\n",
            "\n",
            "Example 2:\n",
            "Input: 1\n",
            "Output: 1\n",
            "\n",
            "\n",
            "Example 3:\n",
            "Input: 5\n",
            "Output: 120\n",
            "\n",
            "Fix the bug when input is 0 in the following Python function:\n",
            "\n",
            "```python\n",
            "def sum_range ( start , end ) :\n",
            "    total = 0\n",
            "    for i in range ( start , end ) :\n",
            "        total += i\n",
            "    return total\n",
            "```\n",
            "\n",
            "Only reply with the fixed function.\n",
            "\n"
          ]
        }
      ]
    },
    {
      "cell_type": "code",
      "source": [
        "for i in range(2):\n",
        "  run_info = run_prompt(12, \"few shot\", prompt, 768, 0.7, i)\n",
        "  runs.append(run_info)\n",
        "  print(run_info[\"model\"])\n",
        "  print(run_info[\"output\"])\n",
        "  print(\"\\n\")"
      ],
      "metadata": {
        "colab": {
          "base_uri": "https://localhost:8080/"
        },
        "id": "6B_K2PMhaosP",
        "outputId": "f788343d-6cf7-4d50-8638-c81e6a51f0d1"
      },
      "execution_count": null,
      "outputs": [
        {
          "output_type": "stream",
          "name": "stdout",
          "text": [
            "gpt-4o-mini\n",
            "```python\n",
            "def factorial(n):\n",
            "    if n == 0:\n",
            "        return 1\n",
            "    result = 1\n",
            "    for i in range(1, n + 1):\n",
            "        result *= i\n",
            "    return result\n",
            "```\n",
            "\n",
            "\n",
            "Codestral-2501\n",
            "```python\n",
            "def factorial(n):\n",
            "    result = 1\n",
            "    for i in range(1, n + 1):\n",
            "        result *= i\n",
            "    return result\n",
            "```\n",
            "\n",
            "\n"
          ]
        }
      ]
    },
    {
      "cell_type": "markdown",
      "source": [
        "# **Task 13: Linked List Node Deletion (C):**"
      ],
      "metadata": {
        "id": "Gzd5LEPmhvQL"
      }
    },
    {
      "cell_type": "code",
      "source": [
        "code = \"\"\"\n",
        "```c\n",
        "struct Node {\n",
        "  int data ;\n",
        "  struct Node * next ;\n",
        "};\n",
        "\n",
        "void deleteNode ( struct Node ** head , int key ) {\n",
        "  // TODO : Implement node deletion\n",
        "}\n",
        "```\n",
        "\"\"\""
      ],
      "metadata": {
        "id": "lGhHywBPhx73"
      },
      "execution_count": 82,
      "outputs": []
    },
    {
      "cell_type": "markdown",
      "source": [
        "## Prompting Strategy 1: Zero Shot"
      ],
      "metadata": {
        "id": "87prVv0oF_XO"
      }
    },
    {
      "cell_type": "code",
      "source": [
        "prompt = f\"Given the following, implement node deletion by value in C:\\n{code}\\nDo not return more functions than was originally provided.\""
      ],
      "metadata": {
        "id": "WE0kMgsjaslY"
      },
      "execution_count": 90,
      "outputs": []
    },
    {
      "cell_type": "code",
      "source": [
        "print(prompt)"
      ],
      "metadata": {
        "colab": {
          "base_uri": "https://localhost:8080/"
        },
        "id": "h4rYXN2b9_0k",
        "outputId": "e97b73bf-bfdf-448a-b3ff-4a10c5822f56"
      },
      "execution_count": 91,
      "outputs": [
        {
          "output_type": "stream",
          "name": "stdout",
          "text": [
            "Given the following, implement node deletion by value in C:\n",
            "\n",
            "```c\n",
            "struct Node {\n",
            "  int data ;\n",
            "  struct Node * next ;\n",
            "};\n",
            "\n",
            "void deleteNode ( struct Node ** head , int key ) {\n",
            "  // TODO : Implement node deletion\n",
            "}\n",
            "```\n",
            "\n",
            "Do not return more functions than was originally provided.\n"
          ]
        }
      ]
    },
    {
      "cell_type": "code",
      "source": [
        "runs = []"
      ],
      "metadata": {
        "id": "QC16z6blXd7p"
      },
      "execution_count": 92,
      "outputs": []
    },
    {
      "cell_type": "code",
      "source": [
        "models_task13 = [1,3]"
      ],
      "metadata": {
        "id": "QQWJ94oJXZRl"
      },
      "execution_count": 93,
      "outputs": []
    },
    {
      "cell_type": "code",
      "source": [
        "for i in models_task13:\n",
        "  run_info = run_prompt(13, \"zero shot\", prompt, 768, 0.7, i)\n",
        "  runs.append(run_info)\n",
        "  print(run_info[\"model\"])\n",
        "  print(run_info[\"output\"])\n",
        "  print(\"\\n\")"
      ],
      "metadata": {
        "colab": {
          "base_uri": "https://localhost:8080/"
        },
        "id": "t067jt_rFteI",
        "outputId": "ed50e47e-bc79-4392-a67e-d2a65ace83e6"
      },
      "execution_count": 94,
      "outputs": [
        {
          "output_type": "stream",
          "name": "stdout",
          "text": [
            "Codestral-2501\n",
            "Certainly! Below is the implementation of the `deleteNode` function to delete a node with a specific value from a singly linked list in C:\n",
            "\n",
            "```c\n",
            "struct Node {\n",
            "  int data;\n",
            "  struct Node *next;\n",
            "};\n",
            "\n",
            "void deleteNode(struct Node** head, int key) {\n",
            "  // Store the head node\n",
            "  struct Node* temp = *head, *prev = NULL;\n",
            "\n",
            "  // If head node itself holds the key to be deleted\n",
            "  if (temp != NULL && temp->data == key) {\n",
            "    *head = temp->next; // Change head\n",
            "    free(temp);         // Free old head\n",
            "    return;\n",
            "  }\n",
            "\n",
            "  // Search for the key to be deleted, keep track of the previous node as we need to change 'prev->next'\n",
            "  while (temp != NULL && temp->data != key) {\n",
            "    prev = temp;\n",
            "    temp = temp->next;\n",
            "  }\n",
            "\n",
            "  // If key was not present in linked list\n",
            "  if (temp == NULL) return;\n",
            "\n",
            "  // Unlink the node from linked list\n",
            "  prev->next = temp->next;\n",
            "\n",
            "  free(temp); // Free memory\n",
            "}\n",
            "```\n",
            "\n",
            "### Explanation:\n",
            "1. **Handle the Head Node**:\n",
            "   - If the node to be deleted is the head node, update the head to the next node and free the old head node.\n",
            "\n",
            "2. **Traverse the List**:\n",
            "   - Use a `temp` pointer to traverse the list and a `prev` pointer to keep track of the previous node.\n",
            "   - Traverse the list until you find the node with the key or reach the end of the list.\n",
            "\n",
            "3. **Delete the Node**:\n",
            "   - If the key is found, update the `next` pointer of the previous node to skip the current node.\n",
            "   - Free the memory of the node to be deleted.\n",
            "\n",
            "4. **Edge Cases**:\n",
            "   - If the key is not found in the list, the function simply returns without making any changes.\n",
            "\n",
            "This implementation ensures that the node with the specified value is correctly removed from the linked list.\n",
            "\n",
            "\n",
            "gpt-4.1-mini\n",
            "```c\n",
            "void deleteNode(struct Node **head, int key) {\n",
            "    if (head == NULL || *head == NULL) return;\n",
            "\n",
            "    struct Node *temp = *head;\n",
            "    struct Node *prev = NULL;\n",
            "\n",
            "    // If head node itself holds the key to be deleted\n",
            "    if (temp != NULL && temp->data == key) {\n",
            "        *head = temp->next; // Changed head\n",
            "        free(temp);         // free old head\n",
            "        return;\n",
            "    }\n",
            "\n",
            "    // Search for the key to be deleted, keep track of the previous node\n",
            "    while (temp != NULL && temp->data != key) {\n",
            "        prev = temp;\n",
            "        temp = temp->next;\n",
            "    }\n",
            "\n",
            "    // If key was not present in linked list\n",
            "    if (temp == NULL) return;\n",
            "\n",
            "    // Unlink the node from linked list\n",
            "    prev->next = temp->next;\n",
            "\n",
            "    free(temp);\n",
            "}\n",
            "```\n",
            "\n",
            "\n"
          ]
        }
      ]
    },
    {
      "cell_type": "markdown",
      "source": [
        "## Prompting Strategy 2: Chain of Thought"
      ],
      "metadata": {
        "id": "9uPCwE9WGdPg"
      }
    },
    {
      "cell_type": "code",
      "source": [
        "prompt = f\"Given the following, implement node deletion by value in C:\\n{code}\\nThink step-by-step. Do not return more functions than was originally provided.\"\n",
        "print(prompt)"
      ],
      "metadata": {
        "id": "mst9YLHfa1DP",
        "colab": {
          "base_uri": "https://localhost:8080/"
        },
        "outputId": "6aa58da1-3876-41d6-9a75-080788ea695b"
      },
      "execution_count": 95,
      "outputs": [
        {
          "output_type": "stream",
          "name": "stdout",
          "text": [
            "Given the following, implement node deletion by value in C:\n",
            "\n",
            "```c\n",
            "struct Node {\n",
            "  int data ;\n",
            "  struct Node * next ;\n",
            "};\n",
            "\n",
            "void deleteNode ( struct Node ** head , int key ) {\n",
            "  // TODO : Implement node deletion\n",
            "}\n",
            "```\n",
            "\n",
            "Think step-by-step. Do not return more functions than was originally provided.\n"
          ]
        }
      ]
    },
    {
      "cell_type": "code",
      "source": [
        "for i in models_task13:\n",
        "  run_info = run_prompt(13, \"chain of thought\", prompt, 768, 0.7, i)\n",
        "  runs.append(run_info)\n",
        "  print(run_info[\"model\"])\n",
        "  print(run_info[\"output\"])\n",
        "  print(\"\\n\")"
      ],
      "metadata": {
        "colab": {
          "base_uri": "https://localhost:8080/"
        },
        "id": "pT-tXzhgF9qI",
        "outputId": "934f4545-05ea-41c1-fd8b-67f9a961e1f8"
      },
      "execution_count": 96,
      "outputs": [
        {
          "output_type": "stream",
          "name": "stdout",
          "text": [
            "Codestral-2501\n",
            "Sure, let's implement the `deleteNode` function step-by-step. The goal is to delete a node with a specific value from a linked list.\n",
            "\n",
            "### Steps to Implement `deleteNode`\n",
            "\n",
            "1. **Handle Empty List**: If the list is empty (i.e., `head` is `NULL`), there is nothing to delete.\n",
            "2. **Delete Head Node**: If the node to be deleted is the head node, update the head to point to the next node.\n",
            "3. **Traverse the List**: Traverse the list to find the node to be deleted. Keep track of the previous node to update its `next` pointer.\n",
            "4. **Update Links**: Once the node to be deleted is found, update the `next` pointer of the previous node to skip the node to be deleted.\n",
            "5. **Free Memory**: Free the memory of the node to be deleted to avoid memory leaks.\n",
            "\n",
            "Here is the implementation of the `deleteNode` function:\n",
            "\n",
            "```c\n",
            "#include <stdio.h>\n",
            "#include <stdlib.h>\n",
            "\n",
            "struct Node {\n",
            "  int data;\n",
            "  struct Node *next;\n",
            "};\n",
            "\n",
            "void deleteNode(struct Node **head, int key) {\n",
            "  // Check if the list is empty\n",
            "  if (*head == NULL) {\n",
            "    printf(\"The list is empty.\\n\");\n",
            "    return;\n",
            "  }\n",
            "\n",
            "  // Check if the node to be deleted is the head node\n",
            "  struct Node *temp = *head;\n",
            "  if (temp->data == key) {\n",
            "    *head = temp->next; // Update head to the next node\n",
            "    free(temp);          // Free the old head node\n",
            "    return;\n",
            "  }\n",
            "\n",
            "  // Traverse the list to find the node to be deleted\n",
            "  struct Node *prev = NULL;\n",
            "  while (temp != NULL && temp->data != key) {\n",
            "    prev = temp;\n",
            "    temp = temp->next;\n",
            "  }\n",
            "\n",
            "  // If the key was not found in the list\n",
            "  if (temp == NULL) {\n",
            "    printf(\"The key %d is not present in the list.\\n\", key);\n",
            "    return;\n",
            "  }\n",
            "\n",
            "  // Update the next pointer of the previous node\n",
            "  prev->next = temp->next;\n",
            "\n",
            "  // Free the node to be deleted\n",
            "  free(temp);\n",
            "}\n",
            "\n",
            "// Function to print the list (for testing purposes)\n",
            "void printList(struct Node *node) {\n",
            "  while (node != NULL) {\n",
            "    printf(\"%d -> \", node->data);\n",
            "    node = node->next;\n",
            "  }\n",
            "  printf(\"NULL\\n\");\n",
            "}\n",
            "\n",
            "// Helper function to create a new node (for testing purposes)\n",
            "struct Node* createNode(int data) {\n",
            "  struct Node* newNode = (struct Node*)malloc(sizeof(struct Node));\n",
            "  newNode->data = data;\n",
            "  newNode->next = NULL;\n",
            "  return newNode;\n",
            "}\n",
            "\n",
            "int main() {\n",
            "  // Create a sample list: 1 -> 2 -> 3 -> 4\n",
            "  struct Node *head = createNode(1);\n",
            "  head->next = createNode(2);\n",
            "  head->next->next = createNode(3);\n",
            "  head->next->next->next = createNode(4);\n",
            "\n",
            "  printf(\"Original list: \");\n",
            "  printList(head);\n",
            "\n",
            "  // Delete node with key 3\n",
            "  deleteNode(&head, 3);\n",
            "  printf(\"After deleting 3: \");\n",
            "  printList(head);\n",
            "\n",
            "  // Delete head node with key 1\n",
            "  deleteNode(&head, 1);\n",
            "  printf(\"After deleting 1: \");\n",
            "  printList(head);\n",
            "\n",
            "  // Delete a non-existing node with key 5\n",
            "  deleteNode(&head, 5);\n",
            "  printf(\"After trying to delete 5: \");\n",
            "  printList(head);\n",
            "\n",
            "  // Free the remaining nodes\n",
            "  while (head != NULL\n",
            "\n",
            "\n",
            "gpt-4.1-mini\n",
            "To delete a node by value (`key`) from a singly linked list in C, you need to consider the following steps carefully:\n",
            "\n",
            "1. **Check if the list is empty**. If `*head` is `NULL`, there's nothing to delete.\n",
            "2. **Check if the head node contains the key**. If yes, remove it and update the head pointer.\n",
            "3. **Traverse the list to find the node to delete**. Keep track of the previous node, so you can update its `next` pointer when you find the node.\n",
            "4. **If the node is found**, adjust the previous node's `next` pointer to skip the deleted node.\n",
            "5. **Free the memory** of the deleted node.\n",
            "6. If the node is not found, do nothing.\n",
            "\n",
            "Here is the implementation:\n",
            "\n",
            "```c\n",
            "void deleteNode(struct Node **head, int key) {\n",
            "    if (head == NULL || *head == NULL) {\n",
            "        // List is empty, nothing to delete\n",
            "        return;\n",
            "    }\n",
            "\n",
            "    struct Node *temp = *head;\n",
            "    struct Node *prev = NULL;\n",
            "\n",
            "    // If head node itself holds the key\n",
            "    if (temp->data == key) {\n",
            "        *head = temp->next;  // Change head\n",
            "        free(temp);          // Free old head\n",
            "        return;\n",
            "    }\n",
            "\n",
            "    // Search for the key to be deleted, keep track of previous node\n",
            "    while (temp != NULL && temp->data != key) {\n",
            "        prev = temp;\n",
            "        temp = temp->next;\n",
            "    }\n",
            "\n",
            "    // If key was not present in linked list\n",
            "    if (temp == NULL) {\n",
            "        return;\n",
            "    }\n",
            "\n",
            "    // Unlink the node from linked list\n",
            "    prev->next = temp->next;\n",
            "\n",
            "    free(temp);  // Free memory\n",
            "}\n",
            "```\n",
            "\n",
            "This function deletes the first occurrence of `key` in the linked list. If the key is not present, it does nothing.\n",
            "\n",
            "\n"
          ]
        }
      ]
    },
    {
      "cell_type": "markdown",
      "source": [
        "# **Task 14: Recursive Function Completion (Python)**"
      ],
      "metadata": {
        "id": "2kOIG4JNGywb"
      }
    },
    {
      "cell_type": "code",
      "source": [
        "code = \"\"\"\n",
        "```python\n",
        "def fibonacci ( n ) :\n",
        "  # TODO : Base cases and recursive call\n",
        "  pass\n",
        "```\n",
        "\"\"\""
      ],
      "metadata": {
        "id": "WWGSPfd1Ireu"
      },
      "execution_count": null,
      "outputs": []
    },
    {
      "cell_type": "markdown",
      "source": [
        "## Prompting Strategy 1: Zero Shot"
      ],
      "metadata": {
        "id": "Yiw-eOYlI0HT"
      }
    },
    {
      "cell_type": "code",
      "source": [
        "prompt = f\"Complete the recursive Python function to return the n-th Fibonacci number:\\n{code}\\nReturn only the completed function.\""
      ],
      "metadata": {
        "id": "jV2Wsgiaa6DR"
      },
      "execution_count": null,
      "outputs": []
    },
    {
      "cell_type": "code",
      "source": [
        "print(prompt)"
      ],
      "metadata": {
        "colab": {
          "base_uri": "https://localhost:8080/"
        },
        "id": "ylkBXDyQ-9BN",
        "outputId": "cd06661a-4ae7-461c-bb7c-bfa0063b165d"
      },
      "execution_count": null,
      "outputs": [
        {
          "output_type": "stream",
          "name": "stdout",
          "text": [
            "Complete the recursive Python function to return the n-th Fibonacci number:\n",
            "\n",
            "```python\n",
            "def fibonacci ( n ) :\n",
            "  # TODO : Base cases and recursive call\n",
            "  pass\n",
            "```\n",
            "\n",
            "Return only the completed function.\n"
          ]
        }
      ]
    },
    {
      "cell_type": "code",
      "source": [
        "for i in range(2):\n",
        "  run_info = run_prompt(14, \"zero shot\", prompt, 768, 0.7, i)\n",
        "  runs.append(run_info)\n",
        "  print(run_info[\"model\"])\n",
        "  print(run_info[\"output\"])\n",
        "  print(\"\\n\")"
      ],
      "metadata": {
        "colab": {
          "base_uri": "https://localhost:8080/"
        },
        "id": "d82XR8flJJQ7",
        "outputId": "8e6d9a40-f02f-41c7-ee8b-fa4a35c91321"
      },
      "execution_count": null,
      "outputs": [
        {
          "output_type": "stream",
          "name": "stdout",
          "text": [
            "gpt-4o-mini\n",
            "```python\n",
            "def fibonacci(n):\n",
            "    if n <= 0:\n",
            "        return 0\n",
            "    elif n == 1:\n",
            "        return 1\n",
            "    else:\n",
            "        return fibonacci(n - 1) + fibonacci(n - 2)\n",
            "```\n",
            "\n",
            "\n",
            "Codestral-2501\n",
            "```python\n",
            "def fibonacci(n):\n",
            "    if n <= 0:\n",
            "        return 0\n",
            "    elif n == 1:\n",
            "        return 1\n",
            "    else:\n",
            "        return fibonacci(n - 1) + fibonacci(n - 2)\n",
            "```\n",
            "\n",
            "\n"
          ]
        }
      ]
    },
    {
      "cell_type": "markdown",
      "source": [
        "## Prompting Strategy 2: Few Shot"
      ],
      "metadata": {
        "id": "7NcCYV7PJAbR"
      }
    },
    {
      "cell_type": "code",
      "source": [
        "prompt = f\"\"\"\n",
        "Example 1:\n",
        "Input: 1\n",
        "Output: 0\n",
        "\n",
        "\n",
        "Example 2:\n",
        "Input: 5\n",
        "Output: 3\n",
        "\n",
        "\n",
        "Example 3:\n",
        "Input: 9\n",
        "Output: 21\n",
        "\n",
        "\n",
        "Complete the recursive Python function to return the n-th Fibonacci number:\\n{code}\\nReturn only the completed function.\n",
        "\"\"\"\n",
        "for i in range(2):\n",
        "  run_info = run_prompt(14, \"few shot\", prompt, 768, 0.7, i)\n",
        "  runs.append(run_info)\n",
        "  print(run_info[\"model\"])\n",
        "  print(run_info[\"output\"])\n",
        "  print(\"\\n\")"
      ],
      "metadata": {
        "colab": {
          "base_uri": "https://localhost:8080/"
        },
        "id": "GpdfzF1PJt0w",
        "outputId": "89afb934-ae28-4bb5-fc99-ce67667ee9ae"
      },
      "execution_count": null,
      "outputs": [
        {
          "output_type": "stream",
          "name": "stdout",
          "text": [
            "gpt-4o-mini\n",
            "```python\n",
            "def fibonacci(n):\n",
            "    # Base cases\n",
            "    if n == 0:\n",
            "        return 0\n",
            "    elif n == 1:\n",
            "        return 1\n",
            "    # Recursive call\n",
            "    return fibonacci(n - 1) + fibonacci(n - 2)\n",
            "```\n",
            "\n",
            "\n",
            "Codestral-2501\n",
            "Here is the completed recursive Python function to return the n-th Fibonacci number:\n",
            "\n",
            "```python\n",
            "def fibonacci(n):\n",
            "    # Base cases\n",
            "    if n == 0:\n",
            "        return 0\n",
            "    elif n == 1:\n",
            "        return 1\n",
            "    else:\n",
            "        # Recursive call\n",
            "        return fibonacci(n - 1) + fibonacci(n - 2)\n",
            "```\n",
            "\n",
            "This function uses recursion to compute the n-th Fibonacci number. The base cases are set for `n == 0` and `n == 1`, which return 0 and 1 respectively. For other values of `n`, the function calls itself with `n - 1` and `n - 2` and adds the results.\n",
            "\n",
            "\n"
          ]
        }
      ]
    },
    {
      "cell_type": "markdown",
      "source": [
        "# **Task 15: Constructor Completion (Python)**"
      ],
      "metadata": {
        "id": "lflqxKc-G-MU"
      }
    },
    {
      "cell_type": "code",
      "source": [
        "code = \"\"\"\n",
        "```python\n",
        "class Person :\n",
        "  def __init__ ( self ) :\n",
        "    # TODO : Add name , age , and optional email\n",
        "    pass\n",
        "\"\"\""
      ],
      "metadata": {
        "id": "QyS8oE-ZKSNP"
      },
      "execution_count": null,
      "outputs": []
    },
    {
      "cell_type": "markdown",
      "source": [
        "## Prompting Strategy 1: Zero Shot"
      ],
      "metadata": {
        "id": "FOL9RILcI7P1"
      }
    },
    {
      "cell_type": "code",
      "source": [
        "prompt = f\"Complete the following class constructor:\\n{code}\\nReply with only the completed code.\"\n",
        "print(prompt)"
      ],
      "metadata": {
        "colab": {
          "base_uri": "https://localhost:8080/"
        },
        "id": "ZG9cY5nb_p2x",
        "outputId": "1339e8b4-a28e-453b-862c-c9ac42251ba7"
      },
      "execution_count": null,
      "outputs": [
        {
          "output_type": "stream",
          "name": "stdout",
          "text": [
            "Complete the following class constructor:\n",
            "\n",
            "```python\n",
            "class Person :\n",
            "  def __init__ ( self ) :\n",
            "    # TODO : Add name , age , and optional email\n",
            "    pass\n",
            "\n",
            "Reply with only the completed code.\n"
          ]
        }
      ]
    },
    {
      "cell_type": "code",
      "source": [
        "\n",
        "for i in range(2):\n",
        "  run_info = run_prompt(15, \"zero shot\", prompt, 768, 0.7, i)\n",
        "  runs.append(run_info)\n",
        "  print(run_info[\"model\"])\n",
        "  print(run_info[\"output\"])\n",
        "  print(\"\\n\")"
      ],
      "metadata": {
        "colab": {
          "base_uri": "https://localhost:8080/",
          "height": 547
        },
        "id": "VDbabHDzKagH",
        "outputId": "f5e82995-bfb2-4b60-acdc-4e6c889ef604"
      },
      "execution_count": null,
      "outputs": [
        {
          "output_type": "stream",
          "name": "stdout",
          "text": [
            "Complete the following class constructor:\n",
            "\n",
            "```python\n",
            "class Person :\n",
            "  def __init__ ( self ) :\n",
            "    # TODO : Add name , age , and optional email\n",
            "    pass\n",
            "\n",
            "Reply with only the completed code.\n"
          ]
        },
        {
          "output_type": "error",
          "ename": "RateLimitError",
          "evalue": "Error code: 429 - {'error': {'code': 'RateLimitReached', 'message': 'Rate limit of 150 per 86400s exceeded for UserByModelByDay. Please wait 72800 seconds before retrying.', 'details': 'Rate limit of 150 per 86400s exceeded for UserByModelByDay. Please wait 72800 seconds before retrying.'}}",
          "traceback": [
            "\u001b[0;31m---------------------------------------------------------------------------\u001b[0m",
            "\u001b[0;31mRateLimitError\u001b[0m                            Traceback (most recent call last)",
            "\u001b[0;32m<ipython-input-139-571c43bb823e>\u001b[0m in \u001b[0;36m<cell line: 0>\u001b[0;34m()\u001b[0m\n\u001b[1;32m      2\u001b[0m \u001b[0mprint\u001b[0m\u001b[0;34m(\u001b[0m\u001b[0mprompt\u001b[0m\u001b[0;34m)\u001b[0m\u001b[0;34m\u001b[0m\u001b[0;34m\u001b[0m\u001b[0m\n\u001b[1;32m      3\u001b[0m \u001b[0;32mfor\u001b[0m \u001b[0mi\u001b[0m \u001b[0;32min\u001b[0m \u001b[0mrange\u001b[0m\u001b[0;34m(\u001b[0m\u001b[0;36m2\u001b[0m\u001b[0;34m)\u001b[0m\u001b[0;34m:\u001b[0m\u001b[0;34m\u001b[0m\u001b[0;34m\u001b[0m\u001b[0m\n\u001b[0;32m----> 4\u001b[0;31m   \u001b[0mrun_info\u001b[0m \u001b[0;34m=\u001b[0m \u001b[0mrun_prompt\u001b[0m\u001b[0;34m(\u001b[0m\u001b[0;36m15\u001b[0m\u001b[0;34m,\u001b[0m \u001b[0;34m\"zero shot\"\u001b[0m\u001b[0;34m,\u001b[0m \u001b[0mprompt\u001b[0m\u001b[0;34m,\u001b[0m \u001b[0;36m768\u001b[0m\u001b[0;34m,\u001b[0m \u001b[0;36m0.7\u001b[0m\u001b[0;34m,\u001b[0m \u001b[0mi\u001b[0m\u001b[0;34m)\u001b[0m\u001b[0;34m\u001b[0m\u001b[0;34m\u001b[0m\u001b[0m\n\u001b[0m\u001b[1;32m      5\u001b[0m   \u001b[0mruns\u001b[0m\u001b[0;34m.\u001b[0m\u001b[0mappend\u001b[0m\u001b[0;34m(\u001b[0m\u001b[0mrun_info\u001b[0m\u001b[0;34m)\u001b[0m\u001b[0;34m\u001b[0m\u001b[0;34m\u001b[0m\u001b[0m\n\u001b[1;32m      6\u001b[0m   \u001b[0mprint\u001b[0m\u001b[0;34m(\u001b[0m\u001b[0mrun_info\u001b[0m\u001b[0;34m[\u001b[0m\u001b[0;34m\"model\"\u001b[0m\u001b[0;34m]\u001b[0m\u001b[0;34m)\u001b[0m\u001b[0;34m\u001b[0m\u001b[0;34m\u001b[0m\u001b[0m\n",
            "\u001b[0;32m<ipython-input-3-36526d7d8c12>\u001b[0m in \u001b[0;36mrun_prompt\u001b[0;34m(task_num, prompt_strat, prompt, max_tokens, temp, model_num)\u001b[0m\n\u001b[1;32m      8\u001b[0m   ]\n\u001b[1;32m      9\u001b[0m \u001b[0;34m\u001b[0m\u001b[0m\n\u001b[0;32m---> 10\u001b[0;31m   response = client.chat.completions.create(\n\u001b[0m\u001b[1;32m     11\u001b[0m       \u001b[0mmodel\u001b[0m \u001b[0;34m=\u001b[0m \u001b[0mmodel\u001b[0m\u001b[0;34m,\u001b[0m\u001b[0;34m\u001b[0m\u001b[0;34m\u001b[0m\u001b[0m\n\u001b[1;32m     12\u001b[0m       \u001b[0mmessages\u001b[0m\u001b[0;34m=\u001b[0m\u001b[0mmessages\u001b[0m\u001b[0;34m,\u001b[0m\u001b[0;34m\u001b[0m\u001b[0;34m\u001b[0m\u001b[0m\n",
            "\u001b[0;32m/usr/local/lib/python3.11/dist-packages/openai/_utils/_utils.py\u001b[0m in \u001b[0;36mwrapper\u001b[0;34m(*args, **kwargs)\u001b[0m\n\u001b[1;32m    277\u001b[0m                         \u001b[0mmsg\u001b[0m \u001b[0;34m=\u001b[0m \u001b[0;34mf\"Missing required argument: {quote(missing[0])}\"\u001b[0m\u001b[0;34m\u001b[0m\u001b[0;34m\u001b[0m\u001b[0m\n\u001b[1;32m    278\u001b[0m                 \u001b[0;32mraise\u001b[0m \u001b[0mTypeError\u001b[0m\u001b[0;34m(\u001b[0m\u001b[0mmsg\u001b[0m\u001b[0;34m)\u001b[0m\u001b[0;34m\u001b[0m\u001b[0;34m\u001b[0m\u001b[0m\n\u001b[0;32m--> 279\u001b[0;31m             \u001b[0;32mreturn\u001b[0m \u001b[0mfunc\u001b[0m\u001b[0;34m(\u001b[0m\u001b[0;34m*\u001b[0m\u001b[0margs\u001b[0m\u001b[0;34m,\u001b[0m \u001b[0;34m**\u001b[0m\u001b[0mkwargs\u001b[0m\u001b[0;34m)\u001b[0m\u001b[0;34m\u001b[0m\u001b[0;34m\u001b[0m\u001b[0m\n\u001b[0m\u001b[1;32m    280\u001b[0m \u001b[0;34m\u001b[0m\u001b[0m\n\u001b[1;32m    281\u001b[0m         \u001b[0;32mreturn\u001b[0m \u001b[0mwrapper\u001b[0m  \u001b[0;31m# type: ignore\u001b[0m\u001b[0;34m\u001b[0m\u001b[0;34m\u001b[0m\u001b[0m\n",
            "\u001b[0;32m/usr/local/lib/python3.11/dist-packages/openai/resources/chat/completions/completions.py\u001b[0m in \u001b[0;36mcreate\u001b[0;34m(self, messages, model, audio, frequency_penalty, function_call, functions, logit_bias, logprobs, max_completion_tokens, max_tokens, metadata, modalities, n, parallel_tool_calls, prediction, presence_penalty, reasoning_effort, response_format, seed, service_tier, stop, store, stream, stream_options, temperature, tool_choice, tools, top_logprobs, top_p, user, web_search_options, extra_headers, extra_query, extra_body, timeout)\u001b[0m\n\u001b[1;32m    927\u001b[0m     ) -> ChatCompletion | Stream[ChatCompletionChunk]:\n\u001b[1;32m    928\u001b[0m         \u001b[0mvalidate_response_format\u001b[0m\u001b[0;34m(\u001b[0m\u001b[0mresponse_format\u001b[0m\u001b[0;34m)\u001b[0m\u001b[0;34m\u001b[0m\u001b[0;34m\u001b[0m\u001b[0m\n\u001b[0;32m--> 929\u001b[0;31m         return self._post(\n\u001b[0m\u001b[1;32m    930\u001b[0m             \u001b[0;34m\"/chat/completions\"\u001b[0m\u001b[0;34m,\u001b[0m\u001b[0;34m\u001b[0m\u001b[0;34m\u001b[0m\u001b[0m\n\u001b[1;32m    931\u001b[0m             body=maybe_transform(\n",
            "\u001b[0;32m/usr/local/lib/python3.11/dist-packages/openai/_base_client.py\u001b[0m in \u001b[0;36mpost\u001b[0;34m(self, path, cast_to, body, options, files, stream, stream_cls)\u001b[0m\n\u001b[1;32m   1274\u001b[0m             \u001b[0mmethod\u001b[0m\u001b[0;34m=\u001b[0m\u001b[0;34m\"post\"\u001b[0m\u001b[0;34m,\u001b[0m \u001b[0murl\u001b[0m\u001b[0;34m=\u001b[0m\u001b[0mpath\u001b[0m\u001b[0;34m,\u001b[0m \u001b[0mjson_data\u001b[0m\u001b[0;34m=\u001b[0m\u001b[0mbody\u001b[0m\u001b[0;34m,\u001b[0m \u001b[0mfiles\u001b[0m\u001b[0;34m=\u001b[0m\u001b[0mto_httpx_files\u001b[0m\u001b[0;34m(\u001b[0m\u001b[0mfiles\u001b[0m\u001b[0;34m)\u001b[0m\u001b[0;34m,\u001b[0m \u001b[0;34m**\u001b[0m\u001b[0moptions\u001b[0m\u001b[0;34m\u001b[0m\u001b[0;34m\u001b[0m\u001b[0m\n\u001b[1;32m   1275\u001b[0m         )\n\u001b[0;32m-> 1276\u001b[0;31m         \u001b[0;32mreturn\u001b[0m \u001b[0mcast\u001b[0m\u001b[0;34m(\u001b[0m\u001b[0mResponseT\u001b[0m\u001b[0;34m,\u001b[0m \u001b[0mself\u001b[0m\u001b[0;34m.\u001b[0m\u001b[0mrequest\u001b[0m\u001b[0;34m(\u001b[0m\u001b[0mcast_to\u001b[0m\u001b[0;34m,\u001b[0m \u001b[0mopts\u001b[0m\u001b[0;34m,\u001b[0m \u001b[0mstream\u001b[0m\u001b[0;34m=\u001b[0m\u001b[0mstream\u001b[0m\u001b[0;34m,\u001b[0m \u001b[0mstream_cls\u001b[0m\u001b[0;34m=\u001b[0m\u001b[0mstream_cls\u001b[0m\u001b[0;34m)\u001b[0m\u001b[0;34m)\u001b[0m\u001b[0;34m\u001b[0m\u001b[0;34m\u001b[0m\u001b[0m\n\u001b[0m\u001b[1;32m   1277\u001b[0m \u001b[0;34m\u001b[0m\u001b[0m\n\u001b[1;32m   1278\u001b[0m     def patch(\n",
            "\u001b[0;32m/usr/local/lib/python3.11/dist-packages/openai/_base_client.py\u001b[0m in \u001b[0;36mrequest\u001b[0;34m(self, cast_to, options, remaining_retries, stream, stream_cls)\u001b[0m\n\u001b[1;32m    947\u001b[0m             \u001b[0mretries_taken\u001b[0m \u001b[0;34m=\u001b[0m \u001b[0;36m0\u001b[0m\u001b[0;34m\u001b[0m\u001b[0;34m\u001b[0m\u001b[0m\n\u001b[1;32m    948\u001b[0m \u001b[0;34m\u001b[0m\u001b[0m\n\u001b[0;32m--> 949\u001b[0;31m         return self._request(\n\u001b[0m\u001b[1;32m    950\u001b[0m             \u001b[0mcast_to\u001b[0m\u001b[0;34m=\u001b[0m\u001b[0mcast_to\u001b[0m\u001b[0;34m,\u001b[0m\u001b[0;34m\u001b[0m\u001b[0;34m\u001b[0m\u001b[0m\n\u001b[1;32m    951\u001b[0m             \u001b[0moptions\u001b[0m\u001b[0;34m=\u001b[0m\u001b[0moptions\u001b[0m\u001b[0;34m,\u001b[0m\u001b[0;34m\u001b[0m\u001b[0;34m\u001b[0m\u001b[0m\n",
            "\u001b[0;32m/usr/local/lib/python3.11/dist-packages/openai/_base_client.py\u001b[0m in \u001b[0;36m_request\u001b[0;34m(self, cast_to, options, retries_taken, stream, stream_cls)\u001b[0m\n\u001b[1;32m   1040\u001b[0m             \u001b[0;32mif\u001b[0m \u001b[0mremaining_retries\u001b[0m \u001b[0;34m>\u001b[0m \u001b[0;36m0\u001b[0m \u001b[0;32mand\u001b[0m \u001b[0mself\u001b[0m\u001b[0;34m.\u001b[0m\u001b[0m_should_retry\u001b[0m\u001b[0;34m(\u001b[0m\u001b[0merr\u001b[0m\u001b[0;34m.\u001b[0m\u001b[0mresponse\u001b[0m\u001b[0;34m)\u001b[0m\u001b[0;34m:\u001b[0m\u001b[0;34m\u001b[0m\u001b[0;34m\u001b[0m\u001b[0m\n\u001b[1;32m   1041\u001b[0m                 \u001b[0merr\u001b[0m\u001b[0;34m.\u001b[0m\u001b[0mresponse\u001b[0m\u001b[0;34m.\u001b[0m\u001b[0mclose\u001b[0m\u001b[0;34m(\u001b[0m\u001b[0;34m)\u001b[0m\u001b[0;34m\u001b[0m\u001b[0;34m\u001b[0m\u001b[0m\n\u001b[0;32m-> 1042\u001b[0;31m                 return self._retry_request(\n\u001b[0m\u001b[1;32m   1043\u001b[0m                     \u001b[0minput_options\u001b[0m\u001b[0;34m,\u001b[0m\u001b[0;34m\u001b[0m\u001b[0;34m\u001b[0m\u001b[0m\n\u001b[1;32m   1044\u001b[0m                     \u001b[0mcast_to\u001b[0m\u001b[0;34m,\u001b[0m\u001b[0;34m\u001b[0m\u001b[0;34m\u001b[0m\u001b[0m\n",
            "\u001b[0;32m/usr/local/lib/python3.11/dist-packages/openai/_base_client.py\u001b[0m in \u001b[0;36m_retry_request\u001b[0;34m(self, options, cast_to, retries_taken, response_headers, stream, stream_cls)\u001b[0m\n\u001b[1;32m   1089\u001b[0m         \u001b[0mtime\u001b[0m\u001b[0;34m.\u001b[0m\u001b[0msleep\u001b[0m\u001b[0;34m(\u001b[0m\u001b[0mtimeout\u001b[0m\u001b[0;34m)\u001b[0m\u001b[0;34m\u001b[0m\u001b[0;34m\u001b[0m\u001b[0m\n\u001b[1;32m   1090\u001b[0m \u001b[0;34m\u001b[0m\u001b[0m\n\u001b[0;32m-> 1091\u001b[0;31m         return self._request(\n\u001b[0m\u001b[1;32m   1092\u001b[0m             \u001b[0moptions\u001b[0m\u001b[0;34m=\u001b[0m\u001b[0moptions\u001b[0m\u001b[0;34m,\u001b[0m\u001b[0;34m\u001b[0m\u001b[0;34m\u001b[0m\u001b[0m\n\u001b[1;32m   1093\u001b[0m             \u001b[0mcast_to\u001b[0m\u001b[0;34m=\u001b[0m\u001b[0mcast_to\u001b[0m\u001b[0;34m,\u001b[0m\u001b[0;34m\u001b[0m\u001b[0;34m\u001b[0m\u001b[0m\n",
            "\u001b[0;32m/usr/local/lib/python3.11/dist-packages/openai/_base_client.py\u001b[0m in \u001b[0;36m_request\u001b[0;34m(self, cast_to, options, retries_taken, stream, stream_cls)\u001b[0m\n\u001b[1;32m   1040\u001b[0m             \u001b[0;32mif\u001b[0m \u001b[0mremaining_retries\u001b[0m \u001b[0;34m>\u001b[0m \u001b[0;36m0\u001b[0m \u001b[0;32mand\u001b[0m \u001b[0mself\u001b[0m\u001b[0;34m.\u001b[0m\u001b[0m_should_retry\u001b[0m\u001b[0;34m(\u001b[0m\u001b[0merr\u001b[0m\u001b[0;34m.\u001b[0m\u001b[0mresponse\u001b[0m\u001b[0;34m)\u001b[0m\u001b[0;34m:\u001b[0m\u001b[0;34m\u001b[0m\u001b[0;34m\u001b[0m\u001b[0m\n\u001b[1;32m   1041\u001b[0m                 \u001b[0merr\u001b[0m\u001b[0;34m.\u001b[0m\u001b[0mresponse\u001b[0m\u001b[0;34m.\u001b[0m\u001b[0mclose\u001b[0m\u001b[0;34m(\u001b[0m\u001b[0;34m)\u001b[0m\u001b[0;34m\u001b[0m\u001b[0;34m\u001b[0m\u001b[0m\n\u001b[0;32m-> 1042\u001b[0;31m                 return self._retry_request(\n\u001b[0m\u001b[1;32m   1043\u001b[0m                     \u001b[0minput_options\u001b[0m\u001b[0;34m,\u001b[0m\u001b[0;34m\u001b[0m\u001b[0;34m\u001b[0m\u001b[0m\n\u001b[1;32m   1044\u001b[0m                     \u001b[0mcast_to\u001b[0m\u001b[0;34m,\u001b[0m\u001b[0;34m\u001b[0m\u001b[0;34m\u001b[0m\u001b[0m\n",
            "\u001b[0;32m/usr/local/lib/python3.11/dist-packages/openai/_base_client.py\u001b[0m in \u001b[0;36m_retry_request\u001b[0;34m(self, options, cast_to, retries_taken, response_headers, stream, stream_cls)\u001b[0m\n\u001b[1;32m   1089\u001b[0m         \u001b[0mtime\u001b[0m\u001b[0;34m.\u001b[0m\u001b[0msleep\u001b[0m\u001b[0;34m(\u001b[0m\u001b[0mtimeout\u001b[0m\u001b[0;34m)\u001b[0m\u001b[0;34m\u001b[0m\u001b[0;34m\u001b[0m\u001b[0m\n\u001b[1;32m   1090\u001b[0m \u001b[0;34m\u001b[0m\u001b[0m\n\u001b[0;32m-> 1091\u001b[0;31m         return self._request(\n\u001b[0m\u001b[1;32m   1092\u001b[0m             \u001b[0moptions\u001b[0m\u001b[0;34m=\u001b[0m\u001b[0moptions\u001b[0m\u001b[0;34m,\u001b[0m\u001b[0;34m\u001b[0m\u001b[0;34m\u001b[0m\u001b[0m\n\u001b[1;32m   1093\u001b[0m             \u001b[0mcast_to\u001b[0m\u001b[0;34m=\u001b[0m\u001b[0mcast_to\u001b[0m\u001b[0;34m,\u001b[0m\u001b[0;34m\u001b[0m\u001b[0;34m\u001b[0m\u001b[0m\n",
            "\u001b[0;32m/usr/local/lib/python3.11/dist-packages/openai/_base_client.py\u001b[0m in \u001b[0;36m_request\u001b[0;34m(self, cast_to, options, retries_taken, stream, stream_cls)\u001b[0m\n\u001b[1;32m   1055\u001b[0m \u001b[0;34m\u001b[0m\u001b[0m\n\u001b[1;32m   1056\u001b[0m             \u001b[0mlog\u001b[0m\u001b[0;34m.\u001b[0m\u001b[0mdebug\u001b[0m\u001b[0;34m(\u001b[0m\u001b[0;34m\"Re-raising status error\"\u001b[0m\u001b[0;34m)\u001b[0m\u001b[0;34m\u001b[0m\u001b[0;34m\u001b[0m\u001b[0m\n\u001b[0;32m-> 1057\u001b[0;31m             \u001b[0;32mraise\u001b[0m \u001b[0mself\u001b[0m\u001b[0;34m.\u001b[0m\u001b[0m_make_status_error_from_response\u001b[0m\u001b[0;34m(\u001b[0m\u001b[0merr\u001b[0m\u001b[0;34m.\u001b[0m\u001b[0mresponse\u001b[0m\u001b[0;34m)\u001b[0m \u001b[0;32mfrom\u001b[0m \u001b[0;32mNone\u001b[0m\u001b[0;34m\u001b[0m\u001b[0;34m\u001b[0m\u001b[0m\n\u001b[0m\u001b[1;32m   1058\u001b[0m \u001b[0;34m\u001b[0m\u001b[0m\n\u001b[1;32m   1059\u001b[0m         return self._process_response(\n",
            "\u001b[0;31mRateLimitError\u001b[0m: Error code: 429 - {'error': {'code': 'RateLimitReached', 'message': 'Rate limit of 150 per 86400s exceeded for UserByModelByDay. Please wait 72800 seconds before retrying.', 'details': 'Rate limit of 150 per 86400s exceeded for UserByModelByDay. Please wait 72800 seconds before retrying.'}}"
          ]
        }
      ]
    },
    {
      "cell_type": "markdown",
      "source": [
        "## Prompting Strategy 2: Few Shot"
      ],
      "metadata": {
        "id": "I_Q_YolhJE-P"
      }
    },
    {
      "cell_type": "code",
      "source": [
        "prompt = f\"\"\"\n",
        "Example 1:\n",
        "```python\n",
        "class Book:\n",
        "    def __init__(self, title, author, year):\n",
        "        self.title = title\n",
        "        self.author = author\n",
        "        self.year = year\n",
        "```\n",
        "\n",
        "\n",
        "Example 2:\n",
        "```python\n",
        "class Car:\n",
        "    def __init__(self, make, model, year):\n",
        "        self.make = make\n",
        "        self.model = model\n",
        "        self.year = year\n",
        "```\n",
        "\n",
        "\n",
        "Example 3:\n",
        "```python\n",
        "class Rectangle:\n",
        "    def __init__(self, width=1, height=1):\n",
        "        self.width = width\n",
        "        self.height = height\n",
        "```\n",
        "\n",
        "Complete the following class constructor:\\n{code}\\nReply with only the completed code.\n",
        "\"\"\"\n",
        "for i in range(2):\n",
        "  run_info = run_prompt(15, \"few shot\", prompt, 768, 0.7, i)\n",
        "  runs.append(run_info)\n",
        "  print(run_info[\"model\"])\n",
        "  print(run_info[\"output\"])\n",
        "  print(\"\\n\")"
      ],
      "metadata": {
        "colab": {
          "base_uri": "https://localhost:8080/"
        },
        "id": "g45ncHfnKzUh",
        "outputId": "9acdbb90-df8b-4d0e-9caf-b818eb84a3d2"
      },
      "execution_count": null,
      "outputs": [
        {
          "output_type": "stream",
          "name": "stdout",
          "text": [
            "gpt-4o-mini\n",
            "```python\n",
            "class Person:\n",
            "    def __init__(self, name, age, email=None):\n",
            "        self.name = name\n",
            "        self.age = age\n",
            "        self.email = email\n",
            "```\n",
            "\n",
            "\n",
            "Codestral-2501\n",
            "```python\n",
            "class Person :\n",
            "  def __init__ ( self , name , age , email=None) :\n",
            "    self.name = name\n",
            "    self.age = age\n",
            "    self.email = email\n",
            "```\n",
            "\n",
            "\n"
          ]
        }
      ]
    },
    {
      "cell_type": "markdown",
      "source": [
        "# **Task 16: Binary Search Completion (Java)**"
      ],
      "metadata": {
        "id": "BENpcER7HGKe"
      }
    },
    {
      "cell_type": "code",
      "source": [
        "code = \"\"\"\n",
        "```java\n",
        "public int binarySearch ( int [] arr , int target ) {\n",
        "  int left = 0 , right = arr . length - 1;\n",
        "  while ( left <= right ) {\n",
        "    int mid = ( left + right ) / 2;\n",
        "    // TODO : Compare and adjust bounds\n",
        "  }\n",
        "  return -1;\n",
        "}\n",
        "```\n",
        "\"\"\""
      ],
      "metadata": {
        "id": "InEKvWNHLBdG"
      },
      "execution_count": null,
      "outputs": []
    },
    {
      "cell_type": "markdown",
      "source": [
        "## Prompting Strategy 1: Zero Shot"
      ],
      "metadata": {
        "id": "C9XyKrdgI8Re"
      }
    },
    {
      "cell_type": "code",
      "source": [
        "prompt = f\"Complete the binary search Java implementation:\\n{code}\"\n",
        "print(prompt)"
      ],
      "metadata": {
        "colab": {
          "base_uri": "https://localhost:8080/"
        },
        "id": "4-50dvzp_-Fi",
        "outputId": "307e9719-1f2a-49db-8a70-fd709785dd90"
      },
      "execution_count": null,
      "outputs": [
        {
          "output_type": "stream",
          "name": "stdout",
          "text": [
            "Complete the binary search Java implementation:\n",
            "\n",
            "```java\n",
            "public int binarySearch ( int [] arr , int target ) {\n",
            "  int left = 0 , right = arr . length - 1;\n",
            "  while ( left <= right ) {\n",
            "    int mid = ( left + right ) / 2;\n",
            "    // TODO : Compare and adjust bounds\n",
            "  }\n",
            "  return -1;\n",
            "}\n",
            "```\n",
            "\n"
          ]
        }
      ]
    },
    {
      "cell_type": "code",
      "source": [
        "for i in range(2):\n",
        "  run_info = run_prompt(16, \"zero shot\", prompt, 768, 0.7, i)\n",
        "  runs.append(run_info)\n",
        "  print(run_info[\"model\"])\n",
        "  print(run_info[\"output\"])\n",
        "  print(\"\\n\")"
      ],
      "metadata": {
        "colab": {
          "base_uri": "https://localhost:8080/"
        },
        "id": "FcBCEHApLQE_",
        "outputId": "366fecc7-0998-477e-bf32-bbcc49b049a2"
      },
      "execution_count": null,
      "outputs": [
        {
          "output_type": "stream",
          "name": "stdout",
          "text": [
            "gpt-4o-mini\n",
            "Sure! Below is the completed implementation of the binary search algorithm in Java, including the comparison and adjustment of bounds.\n",
            "\n",
            "```java\n",
            "public int binarySearch(int[] arr, int target) {\n",
            "    int left = 0, right = arr.length - 1;\n",
            "    while (left <= right) {\n",
            "        int mid = (left + right) / 2;\n",
            "        \n",
            "        // Compare the middle element with the target\n",
            "        if (arr[mid] == target) {\n",
            "            return mid;  // Target found, return the index\n",
            "        } else if (arr[mid] < target) {\n",
            "            left = mid + 1;  // Target is in the right half\n",
            "        } else {\n",
            "            right = mid - 1; // Target is in the left half\n",
            "        }\n",
            "    }\n",
            "    \n",
            "    return -1; // Target not found\n",
            "}\n",
            "```\n",
            "\n",
            "### Explanation:\n",
            "1. **Initialization**: The `left` pointer is set to the start of the array, and the `right` pointer is set to the end of the array.\n",
            "2. **Loop**: As long as `left` is less than or equal to `right`, the loop continues.\n",
            "3. **Mid Calculation**: The middle index `mid` is calculated.\n",
            "4. **Comparison**:\n",
            "   - If the middle element (`arr[mid]`) is equal to the `target`, the index `mid` is returned.\n",
            "   - If the middle element is less than the `target`, it means the target must be in the right half of the array, so we adjust `left` to `mid + 1`.\n",
            "   - If the middle element is greater than the `target`, it means the target must be in the left half of the array, so we adjust `right` to `mid - 1`.\n",
            "5. **Completion**: If the loop exits without finding the target, `-1` is returned to indicate that the target is not present in the array. \n",
            "\n",
            "This implementation assumes that the input array `arr` is sorted in ascending order, which is a requirement for binary search to work correctly.\n",
            "\n",
            "\n",
            "Codestral-2501\n",
            "To complete the binary search implementation, you need to compare the middle element of the array with the target and adjust the bounds (`left` and `right`) accordingly. If the middle element is equal to the target, you return the middle index. If the target is less than the middle element, you adjust the right bound; otherwise, you adjust the left bound. Here's the completed implementation:\n",
            "\n",
            "```java\n",
            "public int binarySearch(int[] arr, int target) {\n",
            "    int left = 0, right = arr.length - 1;\n",
            "\n",
            "    while (left <= right) {\n",
            "        int mid = left + (right - left) / 2;  // To avoid potential overflow\n",
            "\n",
            "        // Check if the target is present at mid\n",
            "        if (arr[mid] == target) {\n",
            "            return mid;\n",
            "        }\n",
            "\n",
            "        // If target is greater, ignore the left half\n",
            "        if (arr[mid] < target) {\n",
            "            left = mid + 1;\n",
            "        }\n",
            "        // If target is smaller, ignore the right half\n",
            "        else {\n",
            "            right = mid - 1;\n",
            "        }\n",
            "    }\n",
            "\n",
            "    // Target was not found in the array\n",
            "    return -1;\n",
            "}\n",
            "```\n",
            "\n",
            "### Explanation:\n",
            "1. **Initialization**: `left` is set to the start of the array, and `right` is set to the end of the array.\n",
            "2. **Mid Calculation**: `int mid = left + (right - left) / 2;` is used to calculate the middle index to avoid potential overflow issues that can occur with `(left + right) / 2` when `left` and `right` are large.\n",
            "3. **Comparison**:\n",
            "   - If `arr[mid]` is equal to `target`, the function returns `mid`.\n",
            "   - If `target` is greater than `arr[mid]`, it means the target must be in the right half of the array, so `left` is updated to `mid + 1`.\n",
            "   - If `target` is less than `arr[mid]`, it means the target must be in the left half of the array, so `right` is updated to `mid - 1`.\n",
            "4. **Termination**: If `left` exceeds `right`, it means the target is not in the array, and the function returns `-1`.\n",
            "\n",
            "This implementation ensures that the binary search algorithm efficiently finds the target in a sorted array.\n",
            "\n",
            "\n"
          ]
        }
      ]
    },
    {
      "cell_type": "markdown",
      "source": [
        "## Prompting Strategy 2: Chain of Thought"
      ],
      "metadata": {
        "id": "xo3ye7txJFTf"
      }
    },
    {
      "cell_type": "code",
      "source": [
        "prompt = f\"Complete the binary search Java implementation. Think step-by-step:\\n{code}\"\n",
        "print(prompt)"
      ],
      "metadata": {
        "colab": {
          "base_uri": "https://localhost:8080/"
        },
        "id": "PkkIMxIJpoU8",
        "outputId": "467b2aec-a2b4-46cb-a6c9-cef40e67d7f4"
      },
      "execution_count": null,
      "outputs": [
        {
          "output_type": "stream",
          "name": "stdout",
          "text": [
            "Complete the binary search Java implementation. Think step-by-step:\n",
            "\n",
            "```java\n",
            "public int binarySearch ( int [] arr , int target ) {\n",
            "  int left = 0 , right = arr . length - 1;\n",
            "  while ( left <= right ) {\n",
            "    int mid = ( left + right ) / 2;\n",
            "    // TODO : Compare and adjust bounds\n",
            "  }\n",
            "  return -1;\n",
            "}\n",
            "```\n",
            "\n"
          ]
        }
      ]
    },
    {
      "cell_type": "code",
      "source": [
        "for i in range(2):\n",
        "  run_info = run_prompt(16, \"chain of thought\", prompt, 768, 0.7, i)\n",
        "  runs.append(run_info)\n",
        "  print(run_info[\"model\"])\n",
        "  print(run_info[\"output\"])\n",
        "  print(\"\\n\")"
      ],
      "metadata": {
        "colab": {
          "base_uri": "https://localhost:8080/"
        },
        "id": "4Z1_1uvnLjOp",
        "outputId": "98ac3070-a888-4e83-8b26-fef89f94fe46"
      },
      "execution_count": null,
      "outputs": [
        {
          "output_type": "stream",
          "name": "stdout",
          "text": [
            "gpt-4o-mini\n",
            "Sure! Let's complete the binary search implementation step-by-step. In a binary search, you need to compare the target value with the middle element of the current search range (defined by `left` and `right`). Depending on the comparison result, you will either find the target, or you will adjust the bounds to continue the search.\n",
            "\n",
            "Here’s the full implementation:\n",
            "\n",
            "```java\n",
            "public int binarySearch(int[] arr, int target) {\n",
            "    int left = 0, right = arr.length - 1;\n",
            "    \n",
            "    while (left <= right) {\n",
            "        int mid = (left + right) / 2;\n",
            "\n",
            "        // Compare the middle element with the target\n",
            "        if (arr[mid] == target) {\n",
            "            return mid; // Target found, return the index\n",
            "        } else if (arr[mid] < target) {\n",
            "            left = mid + 1; // Target is in the right half\n",
            "        } else {\n",
            "            right = mid - 1; // Target is in the left half\n",
            "        }\n",
            "    }\n",
            "    \n",
            "    return -1; // Target not found\n",
            "}\n",
            "```\n",
            "\n",
            "### Explanation of the Code:\n",
            "\n",
            "1. **Initialization**: \n",
            "   - `left` is initialized to the start of the array (index 0).\n",
            "   - `right` is initialized to the end of the array (index `arr.length - 1`).\n",
            "\n",
            "2. **While Loop**: \n",
            "   - The loop continues as long as `left` is less than or equal to `right`, which means there are still elements in the search range.\n",
            "\n",
            "3. **Finding the Middle Index**:\n",
            "   - The middle index `mid` is calculated by averaging `left` and `right`.\n",
            "\n",
            "4. **Comparison**:\n",
            "   - If the element at the middle index (`arr[mid]`) is equal to the target, we return `mid` as the index where the target is found.\n",
            "   - If `arr[mid]` is less than the target, it means the target must be in the right half of the array (so we adjust `left` to `mid + 1`).\n",
            "   - If `arr[mid]` is greater than the target, it means the target must be in the left half of the array (so we adjust `right` to `mid - 1`).\n",
            "\n",
            "5. **Return Statement**:\n",
            "   - If the loop ends without finding the target, we return `-1` to indicate that the target is not present in the array. \n",
            "\n",
            "This complete code will work correctly for a sorted array.\n",
            "\n",
            "\n",
            "Codestral-2501\n",
            "To complete the binary search implementation, we need to add the logic to compare the middle element with the target and adjust the bounds of the search accordingly.\n",
            "\n",
            "Here's the step-by-step completion:\n",
            "\n",
            "1. **Initialize the bounds**: We start with `left` at the beginning of the array and `right` at the end.\n",
            "2. **Calculate the middle index**: `mid` is calculated as the average of `left` and `right`.\n",
            "3. **Compare the middle element with the target**:\n",
            "   - If the middle element is equal to the target, return the `mid` index.\n",
            "   - If the middle element is less than the target, move the `left` bound to `mid + 1` (since the target must be in the right half).\n",
            "   - If the middle element is greater than the target, move the `right` bound to `mid - 1` (since the target must be in the left half).\n",
            "4. **Repeat until the bounds cross each other**: The loop continues until `left` is greater than `right`.\n",
            "5. **Return -1 if the target is not found**: If the bounds cross each other and the target is not found, return `-1`.\n",
            "\n",
            "Here's the complete implementation:\n",
            "\n",
            "```java\n",
            "public int binarySearch(int[] arr, int target) {\n",
            "  int left = 0, right = arr.length - 1;\n",
            "\n",
            "  while (left <= right) {\n",
            "    int mid = left + (right - left) / 2; // This avoids potential overflow\n",
            "\n",
            "    // Check if the target is present at mid\n",
            "    if (arr[mid] == target) {\n",
            "      return mid;\n",
            "    }\n",
            "\n",
            "    // If the target is greater, ignore the left half\n",
            "    if (arr[mid] < target) {\n",
            "      left = mid + 1;\n",
            "    }\n",
            "    // If the target is smaller, ignore the right half\n",
            "    else {\n",
            "      right = mid - 1;\n",
            "    }\n",
            "  }\n",
            "\n",
            "  // Target was not found in the array\n",
            "  return -1;\n",
            "}\n",
            "```\n",
            "\n",
            "### Explanation of the Code:\n",
            "- **Initialization**: `left` starts at the beginning of the array, and `right` starts at the end.\n",
            "- **Mid Calculation**: `int mid = left + (right - left) / 2;` avoids overflow that can occur with `(left + right) / 2` for large arrays.\n",
            "- **Comparison and Adjustment**:\n",
            "  - If `arr[mid] == target`, the target is found, and `mid` is returned.\n",
            "  - If `arr[mid] < target`, it means the target is in the right half, so `left` is updated to `mid + 1`.\n",
            "  - If `arr[mid] > target`, it means the target is in the left half, so `right` is updated to `mid - 1`.\n",
            "- **Loop Termination**: The loop continues until `left` is greater than `right`.\n",
            "- **Return -1**: If the loop terminates and the target is not found, `-1` is returned.\n",
            "\n",
            "This implementation ensures that the binary search runs in \\(O(\\log n)\\) time, making it efficient for large datasets.\n",
            "\n",
            "\n"
          ]
        }
      ]
    },
    {
      "cell_type": "markdown",
      "source": [
        "# **Task 17: Self-Consistency Bug Fixing (C++)**"
      ],
      "metadata": {
        "id": "5-3quhMKHXKp"
      }
    },
    {
      "cell_type": "code",
      "source": [
        "code = \"\"\"\n",
        "```cpp\n",
        "// Supposed to return true if x is even\n",
        "bool isOdd (int x ) {\n",
        "  return x % 2 == 0;\n",
        "}\n",
        "```\n",
        "\"\"\""
      ],
      "metadata": {
        "id": "2FRJtbB-L4fW"
      },
      "execution_count": 49,
      "outputs": []
    },
    {
      "cell_type": "markdown",
      "source": [
        "## Prompting Strategy 1: Zero Shot"
      ],
      "metadata": {
        "id": "MA8kQsssI8uF"
      }
    },
    {
      "cell_type": "code",
      "source": [
        "prompt = f\"Resolve the inconsistency between the function name and logic such that the function works for its original intent:\\n{code}\\nOnly include the solution(s)\"\n",
        "print(prompt)"
      ],
      "metadata": {
        "colab": {
          "base_uri": "https://localhost:8080/"
        },
        "id": "3yp2vmlQqB-C",
        "outputId": "0271519f-57a1-4634-b343-1e078ea389a0"
      },
      "execution_count": null,
      "outputs": [
        {
          "output_type": "stream",
          "name": "stdout",
          "text": [
            "Resolve the inconsistency between the function name and logic such that the function works for its original intent:\n",
            "\n",
            "```cpp\n",
            "// Supposed to return true if x is even\n",
            "bool isOdd (int x ) {\n",
            "  return x % 2 == 0;\n",
            "}\n",
            "```\n",
            "\n",
            "Only include the solution(s)\n"
          ]
        }
      ]
    },
    {
      "cell_type": "code",
      "source": [
        "for i in range(2):\n",
        "  run_info = run_prompt(17, \"zero shot\", prompt, 768, 0.7, i)\n",
        "  runs.append(run_info)\n",
        "  print(run_info[\"model\"])\n",
        "  print(run_info[\"output\"])\n",
        "  print(\"\\n\")"
      ],
      "metadata": {
        "colab": {
          "base_uri": "https://localhost:8080/"
        },
        "id": "DeOAnGGUMGKN",
        "outputId": "27d10b4e-1527-4f67-b086-f50763f96106"
      },
      "execution_count": null,
      "outputs": [
        {
          "output_type": "stream",
          "name": "stdout",
          "text": [
            "gpt-4o-mini\n",
            "```cpp\n",
            "// Corrected function to return true if x is odd\n",
            "bool isOdd(int x) {\n",
            "  return x % 2 != 0;\n",
            "}\n",
            "```\n",
            "\n",
            "\n",
            "Codestral-2501\n",
            "To resolve the inconsistency between the function name and its logic, you need to update the function logic such that it correctly returns `true` if `x` is even. The current logic returns `true` if `x` is even, which aligns with the function name \"isOdd.\" However, the comment suggests that the function should return `true` if `x` is even, which requires the name to be changed to reflect the correct intent.\n",
            "\n",
            "Here's the corrected function:\n",
            "\n",
            "```cpp\n",
            "// Returns true if x is even\n",
            "bool isEven(int x) {\n",
            "  return x % 2 == 0;\n",
            "}\n",
            "```\n",
            "\n",
            "Explanation:\n",
            "- The function name is changed to `isEven` to reflect that it returns `true` if `x` is even.\n",
            "- The logic `x % 2 == 0` correctly checks if `x` is even.\n",
            "\n",
            "\n"
          ]
        }
      ]
    },
    {
      "cell_type": "markdown",
      "source": [
        "## Prompting Strategy 2: Prompt Chaining"
      ],
      "metadata": {
        "id": "fDC-oK3hJFm8"
      }
    },
    {
      "cell_type": "code",
      "source": [
        "models_task17 = [1,3]"
      ],
      "metadata": {
        "id": "U6eXWAJtpaxn"
      },
      "execution_count": 50,
      "outputs": []
    },
    {
      "cell_type": "code",
      "execution_count": 51,
      "metadata": {
        "colab": {
          "base_uri": "https://localhost:8080/"
        },
        "outputId": "ac17778d-9191-4300-b4e6-c7e339f42431",
        "id": "byfoCBZndmnn"
      },
      "outputs": [
        {
          "output_type": "stream",
          "name": "stdout",
          "text": [
            "Codestral-2501\n",
            "PROMPT 1:\n",
            "Identify the logical inconsistency and intent of the function in the following code in a maximum of two sentences:\n",
            "\n",
            "```cpp\n",
            "// Supposed to return true if x is even\n",
            "bool isOdd (int x ) {\n",
            "  return x % 2 == 0;\n",
            "}\n",
            "```\n",
            "\n",
            "\n",
            "RESPONSE 1:\n",
            "The function is logically inconsistent because it returns `true` if `x` is even, which contradicts its intended purpose of returning `true` if `x` is odd. The intent is to determine if the number `x` is odd.\n",
            "\n",
            "PROMPT 2:\n",
            "Fix the function based on the intent identified above. Only return the solution.\n",
            "\n",
            "RESPONSE 2:\n",
            "```cpp\n",
            "bool isOdd(int x){\n",
            "  return x % 2 != 0;\n",
            "}\n",
            "```\n",
            "\n",
            "\n",
            "gpt-4.1-mini\n",
            "PROMPT 1:\n",
            "Identify the logical inconsistency and intent of the function in the following code in a maximum of two sentences:\n",
            "\n",
            "```cpp\n",
            "// Supposed to return true if x is even\n",
            "bool isOdd (int x ) {\n",
            "  return x % 2 == 0;\n",
            "}\n",
            "```\n",
            "\n",
            "\n",
            "RESPONSE 1:\n",
            "The function named `isOdd` returns `true` when `x` is even, which contradicts its intended purpose. The logic should check `x % 2 != 0` to correctly identify odd numbers.\n",
            "\n",
            "PROMPT 2:\n",
            "Fix the function based on the intent identified above. Only return the solution.\n",
            "\n",
            "RESPONSE 2:\n",
            "```cpp\n",
            "bool isOdd(int x) {\n",
            "  return x % 2 != 0;\n",
            "}\n",
            "```\n",
            "\n",
            "\n"
          ]
        }
      ],
      "source": [
        "for i in models_task17:\n",
        "  run_info = {\"task_num\": 17,\n",
        "            \"model\": \"\",\n",
        "            \"prompt strategy\": \"prompt chaining\",\n",
        "            \"prompt\": {\"step 1 prompt\": \"\", \"step 2 prompt\": \"\"},\n",
        "            \"output\": {\"response 1\": \"\", \"response 2\": \"\"}}\n",
        "\n",
        "  run_info[\"model\"] = model_choices[i]\n",
        "  prompt1 = f\"Identify the logical inconsistency and intent of the function in the following code in a maximum of two sentences:\\n{code}\"\n",
        "  run_info[\"prompt\"][\"step 1 prompt\"] = prompt1\n",
        "\n",
        "  # Set up conversation history\n",
        "  messages = [\n",
        "      {\"role\": \"user\",\n",
        "      \"content\": prompt1}\n",
        "  ]\n",
        "\n",
        "  # Call the model\n",
        "  response = client.chat.completions.create(\n",
        "      model=model_choices[i], # Choose the model you want to use\n",
        "      max_tokens=768,\n",
        "      temperature=0.7,\n",
        "      messages=messages\n",
        "  )\n",
        "\n",
        "  # Add response to the conversation\n",
        "  reply = response.choices[0].message.content\n",
        "  messages.append({\"role\": \"assistant\", \"content\": reply})\n",
        "  response1 = reply\n",
        "  run_info[\"output\"][\"response 1\"] = response1\n",
        "\n",
        "  # User follows up\n",
        "  followup = f\"Fix the function based on the intent identified above. Only return the solution.\"\n",
        "  run_info[\"prompt\"][\"step 2 prompt\"] = followup\n",
        "\n",
        "  # Add user message\n",
        "  messages.append({\"role\": \"user\", \"content\": followup})\n",
        "\n",
        "  # Call again with updated history\n",
        "  response = client.chat.completions.create(\n",
        "      model=model_choices[i],\n",
        "      max_tokens=768,\n",
        "      temperature=0.7,\n",
        "      messages=messages\n",
        "  )\n",
        "\n",
        "  # Add response to the conversation\n",
        "  reply = response.choices[0].message.content\n",
        "  run_info[\"output\"][\"response 2\"] = reply\n",
        "  runs.append(run_info)\n",
        "\n",
        "  print(run_info[\"model\"])\n",
        "  print(\"PROMPT 1:\")\n",
        "  print(run_info[\"prompt\"][\"step 1 prompt\"]+\"\\n\")\n",
        "  print(\"RESPONSE 1:\")\n",
        "  print(run_info[\"output\"][\"response 1\"]+\"\\n\")\n",
        "  print(\"PROMPT 2:\")\n",
        "  print(run_info[\"prompt\"][\"step 2 prompt\"]+\"\\n\")\n",
        "  print(\"RESPONSE 2:\")\n",
        "  print(run_info[\"output\"][\"response 2\"])\n",
        "  print(\"\\n\")\n"
      ]
    },
    {
      "cell_type": "markdown",
      "source": [
        "# **Task 18: Prompt Chaining: Bug Identification → Fix (JavaScript)**"
      ],
      "metadata": {
        "id": "-Mr1Uc2RIJ7Z"
      }
    },
    {
      "cell_type": "code",
      "source": [
        "code = \"\"\"\n",
        "```js\n",
        "function isEven ( n ) {\n",
        "  return n % 2;\n",
        "}\n",
        "```\n",
        "\"\"\""
      ],
      "metadata": {
        "id": "iIdvp_uPfpOr"
      },
      "execution_count": 98,
      "outputs": []
    },
    {
      "cell_type": "markdown",
      "source": [
        "## Prompting Strategy 1: Zero Shot"
      ],
      "metadata": {
        "id": "5B-b9gRyI9XJ"
      }
    },
    {
      "cell_type": "code",
      "source": [
        "prompt = f\"Identify and fix the bug in the following JavaScript function:\\n{code}\\nDo not provide examples on how to test the function.\"\n",
        "print(prompt)"
      ],
      "metadata": {
        "id": "aWKYgiSqhQ-b",
        "colab": {
          "base_uri": "https://localhost:8080/"
        },
        "outputId": "2039c9d2-3c3e-455c-dbbd-e924f699c1f5"
      },
      "execution_count": 2,
      "outputs": [
        {
          "output_type": "stream",
          "name": "stdout",
          "text": [
            "Identify and fix the bug in the following JavaScript function:\n",
            "\n",
            "```js\n",
            "function isEven ( n ) {\n",
            "  return n % 2;\n",
            "}\n",
            "```\n",
            "\n",
            "Do not provide examples on how to test the function.\n"
          ]
        }
      ]
    },
    {
      "cell_type": "code",
      "source": [
        "for i in range(2):\n",
        "  run_info = run_prompt(18, \"zero shot\", prompt, 768, 0.7, i)\n",
        "  runs.append(run_info)\n",
        "  print(run_info[\"model\"])\n",
        "  print(run_info[\"output\"])\n",
        "  print(\"\\n\")"
      ],
      "metadata": {
        "colab": {
          "base_uri": "https://localhost:8080/"
        },
        "id": "Y8-A-oqshdh-",
        "outputId": "3b6103fa-124f-40f0-fdcf-ce8869a61bde"
      },
      "execution_count": null,
      "outputs": [
        {
          "output_type": "stream",
          "name": "stdout",
          "text": [
            "gpt-4o-mini\n",
            "The bug in the function `isEven` is that it returns the result of `n % 2`, which will be `0` for even numbers and `1` for odd numbers. However, to properly indicate whether a number is even, the function should return `true` for even numbers and `false` for odd numbers.\n",
            "\n",
            "Here is the corrected version of the function:\n",
            "\n",
            "```js\n",
            "function isEven(n) {\n",
            "  return n % 2 === 0; \n",
            "}\n",
            "``` \n",
            "\n",
            "This way, the function correctly returns `true` for even numbers and `false` for odd numbers.\n",
            "\n",
            "\n",
            "Codestral-2501\n",
            "The bug in the `isEven` function is that it does not correctly determine whether a number is even or odd. The expression `n % 2` returns `0` for even numbers and a non-zero value for odd numbers. However, the function should return `true` for even numbers and `false` for odd numbers.\n",
            "\n",
            "To fix the bug, you should compare the result of `n % 2` to `0`. Here is the corrected function:\n",
            "\n",
            "```js\n",
            "function isEven(n) {\n",
            "  return n % 2 === 0;\n",
            "}\n",
            "```\n",
            "\n",
            "This ensures that the function returns `true` if `n` is even and `false` if `n` is odd.\n",
            "\n",
            "\n"
          ]
        }
      ]
    },
    {
      "cell_type": "markdown",
      "source": [
        "## Prompting Strategy 2: Prompt Chaining"
      ],
      "metadata": {
        "id": "wn4ibiI3JGGo"
      }
    },
    {
      "cell_type": "code",
      "source": [
        "models_task18 = [1,3]"
      ],
      "metadata": {
        "id": "AB4vIg6TquXt"
      },
      "execution_count": 100,
      "outputs": []
    },
    {
      "cell_type": "code",
      "source": [
        "for i in models_task18:\n",
        "  run_info = {\"task_num\": 18,\n",
        "            \"model\": \"\",\n",
        "            \"prompt strategy\": \"prompt chaining\",\n",
        "            \"prompt\": {\"step 1 prompt\": \"\", \"step 2 prompt\": \"\"},\n",
        "            \"output\": {\"response 1\": \"\", \"response 2\": \"\"}}\n",
        "\n",
        "  run_info[\"model\"] = model_choices[i]\n",
        "  prompt1 = f\"Identify the bug in the following JavaScript function in at most two sentences:\\n{code}\"\n",
        "  run_info[\"prompt\"][\"step 1 prompt\"] = prompt1\n",
        "\n",
        "  # Set up conversation history\n",
        "  messages = [\n",
        "      {\"role\": \"user\",\n",
        "      \"content\": prompt1}\n",
        "  ]\n",
        "\n",
        "  # Call the model\n",
        "  response = client.chat.completions.create(\n",
        "      model=model_choices[i], # Choose the model you want to use\n",
        "      max_tokens=768,\n",
        "      temperature=0.7,\n",
        "      messages=messages\n",
        "  )\n",
        "\n",
        "  # Add response to the conversation\n",
        "  reply = response.choices[0].message.content\n",
        "  messages.append({\"role\": \"assistant\", \"content\": reply})\n",
        "  response1 = reply\n",
        "  run_info[\"output\"][\"response 1\"] = response1\n",
        "\n",
        "  # User follows up\n",
        "  followup = f\"Fix the above JavaScript function. Do not provide examples on how to test the function.\"\n",
        "  run_info[\"prompt\"][\"step 2 prompt\"] = followup\n",
        "\n",
        "  # Add user message\n",
        "  messages.append({\"role\": \"user\", \"content\": followup})\n",
        "\n",
        "  # Call again with updated history\n",
        "  response = client.chat.completions.create(\n",
        "      model=model_choices[i],\n",
        "      max_tokens=768,\n",
        "      temperature=0.7,\n",
        "      messages=messages\n",
        "  )\n",
        "\n",
        "  # Add response to the conversation\n",
        "  reply = response.choices[0].message.content\n",
        "  run_info[\"output\"][\"response 2\"] = reply\n",
        "  runs.append(run_info)\n",
        "\n",
        "  print(run_info[\"model\"])\n",
        "  print(\"PROMPT 1:\")\n",
        "  print(run_info[\"prompt\"][\"step 1 prompt\"]+\"\\n\")\n",
        "  print(\"RESPONSE 1:\")\n",
        "  print(run_info[\"output\"][\"response 1\"]+\"\\n\")\n",
        "  print(\"PROMPT 2:\")\n",
        "  print(run_info[\"prompt\"][\"step 2 prompt\"]+\"\\n\")\n",
        "  print(\"RESPONSE 2:\")\n",
        "  print(run_info[\"output\"][\"response 2\"])\n",
        "  print(\"\\n\")"
      ],
      "metadata": {
        "colab": {
          "base_uri": "https://localhost:8080/"
        },
        "id": "GS1bx_7PhnEN",
        "outputId": "fbfa1e4d-ee66-4a60-e59a-fe4b9c3a5278"
      },
      "execution_count": 101,
      "outputs": [
        {
          "output_type": "stream",
          "name": "stdout",
          "text": [
            "Codestral-2501\n",
            "PROMPT 1:\n",
            "Identify the bug in the following JavaScript function in at most two sentences:\n",
            "\n",
            "```js\n",
            "function isEven ( n ) {\n",
            "  return n % 2;\n",
            "}\n",
            "```\n",
            "\n",
            "\n",
            "RESPONSE 1:\n",
            "The function `isEven` returns `n % 2`, which is `0` for even numbers and a non-zero value for odd numbers. This is the opposite of what the function name suggests. The function should return `true` for even numbers and `false` for odd numbers.\n",
            "\n",
            "PROMPT 2:\n",
            "Fix the above JavaScript function. Do not provide examples on how to test the function.\n",
            "\n",
            "RESPONSE 2:\n",
            "```js\n",
            "function isEven(n) {\n",
            "  return n % 2 === 0;\n",
            "}\n",
            "```\n",
            "\n",
            "\n",
            "gpt-4.1-mini\n",
            "PROMPT 1:\n",
            "Identify the bug in the following JavaScript function in at most two sentences:\n",
            "\n",
            "```js\n",
            "function isEven ( n ) {\n",
            "  return n % 2;\n",
            "}\n",
            "```\n",
            "\n",
            "\n",
            "RESPONSE 1:\n",
            "The function returns the remainder of `n % 2`, which is `0` for even numbers and `1` for odd numbers, but since `0` is falsy and `1` is truthy in JavaScript, it incorrectly treats even numbers as `false`. To fix it, the function should return `n % 2 === 0` to explicitly return a boolean indicating evenness.\n",
            "\n",
            "PROMPT 2:\n",
            "Fix the above JavaScript function. Do not provide examples on how to test the function.\n",
            "\n",
            "RESPONSE 2:\n",
            "```js\n",
            "function isEven(n) {\n",
            "  return n % 2 === 0;\n",
            "}\n",
            "```\n",
            "\n",
            "\n"
          ]
        }
      ]
    },
    {
      "cell_type": "markdown",
      "source": [
        "# **Task 19: Summary Decomposition (C++)**"
      ],
      "metadata": {
        "id": "W72KioJYIQZA"
      }
    },
    {
      "cell_type": "code",
      "source": [
        "code = \"\"\"\n",
        "```cpp\n",
        "// Function that validates an input , calculates square , and returns result\n",
        "int process (int x ) {\n",
        "  if ( x < 0) return -1;\n",
        "    return x * x ;\n",
        "}\n",
        "```\n",
        "\"\"\""
      ],
      "metadata": {
        "id": "gSvwnERHieqy"
      },
      "execution_count": 3,
      "outputs": []
    },
    {
      "cell_type": "markdown",
      "source": [
        "## Prompting Strategy 1: Zero Shot"
      ],
      "metadata": {
        "id": "MFmrMoKBI9yX"
      }
    },
    {
      "cell_type": "code",
      "source": [
        "prompt = f\"Decompose the high-level comment/summary into logical steps:\\n{code}\"\n",
        "print(prompt)"
      ],
      "metadata": {
        "id": "Q3J874lvir5l",
        "colab": {
          "base_uri": "https://localhost:8080/"
        },
        "outputId": "10fc6149-0b5e-45f6-bccb-c8da34a756e8"
      },
      "execution_count": 4,
      "outputs": [
        {
          "output_type": "stream",
          "name": "stdout",
          "text": [
            "Decompose the high-level comment/summary into logical steps:\n",
            "\n",
            "```cpp\n",
            "// Function that validates an input , calculates square , and returns result\n",
            "int process (int x ) {\n",
            "  if ( x < 0) return -1;\n",
            "    return x * x ;\n",
            "}\n",
            "```\n",
            "\n"
          ]
        }
      ]
    },
    {
      "cell_type": "code",
      "source": [
        "for i in range(2):\n",
        "  run_info = run_prompt(19, \"zero shot\", prompt, 768, 0.7, i)\n",
        "  runs.append(run_info)\n",
        "  print(run_info[\"model\"])\n",
        "  print(run_info[\"output\"])\n",
        "  print(\"\\n\")"
      ],
      "metadata": {
        "colab": {
          "base_uri": "https://localhost:8080/"
        },
        "id": "G_8Yo_Ubi8l6",
        "outputId": "412a4b99-10e4-42e1-a743-d20ed2d03c34"
      },
      "execution_count": null,
      "outputs": [
        {
          "output_type": "stream",
          "name": "stdout",
          "text": [
            "gpt-4o-mini\n",
            "To decompose the high-level comment/summary into logical steps based on the provided C++ function, we can break it down as follows:\n",
            "\n",
            "1. **Input Validation**:\n",
            "   - Check if the input value `x` is less than 0.\n",
            "   - If `x` is less than 0, return -1 to indicate invalid input.\n",
            "\n",
            "2. **Calculation**:\n",
            "   - If the input is valid (i.e., `x` is 0 or greater), calculate the square of `x` by multiplying `x` by itself.\n",
            "\n",
            "3. **Return Result**:\n",
            "   - Return the calculated square of `x` as the output of the function.\n",
            "\n",
            "To summarize, the steps are:\n",
            "1. Check if `x` is negative:\n",
            "   - If yes, return -1.\n",
            "2. If `x` is non-negative, compute `x * x`.\n",
            "3. Return the result of the calculation.\n",
            "\n",
            "\n",
            "Codestral-2501\n",
            "To decompose the high-level comment/summary into logical steps for the given C++ function, we can break it down as follows:\n",
            "\n",
            "1. **Input Validation:**\n",
            "   - Check if the input `x` is less than 0.\n",
            "   - If `x` is less than 0, return -1 to indicate an invalid input.\n",
            "\n",
            "2. **Calculation:**\n",
            "   - If the input `x` is valid (i.e., not less than 0), calculate the square of `x`.\n",
            "\n",
            "3. **Return Result:**\n",
            "   - Return the calculated square of `x`.\n",
            "\n",
            "Here is the function with these steps explicitly outlined:\n",
            "\n",
            "```cpp\n",
            "int process(int x) {\n",
            "    // Step 1: Input Validation\n",
            "    if (x < 0) {\n",
            "        return -1; // Invalid input, return -1\n",
            "    }\n",
            "\n",
            "    // Step 2: Calculation\n",
            "    int result = x * x; // Calculate the square of x\n",
            "\n",
            "    // Step 3: Return Result\n",
            "    return result; // Return the calculated square\n",
            "}\n",
            "```\n",
            "\n",
            "This structure ensures that the function first checks for valid input, performs the necessary calculation if the input is valid, and then returns the result.\n",
            "\n",
            "\n"
          ]
        }
      ]
    },
    {
      "cell_type": "markdown",
      "source": [
        "## Prompting Strategy 2: Chain of Thought"
      ],
      "metadata": {
        "id": "Kh7QqxekJGah"
      }
    },
    {
      "cell_type": "code",
      "source": [
        "prompt = f\"Decompose the high-level comment/summary into logical steps. Think step-by-step:\\n{code}\""
      ],
      "metadata": {
        "id": "bUCI48QEjIFm"
      },
      "execution_count": null,
      "outputs": []
    },
    {
      "cell_type": "code",
      "source": [
        "for i in range(2):\n",
        "  run_info = run_prompt(19, \"chain of thought\", prompt, 768, 0.7, i)\n",
        "  runs.append(run_info)\n",
        "  print(run_info[\"model\"])\n",
        "  print(run_info[\"output\"])\n",
        "  print(\"\\n\")"
      ],
      "metadata": {
        "colab": {
          "base_uri": "https://localhost:8080/"
        },
        "id": "6Vz6XwCHjKxe",
        "outputId": "61a363d4-2c00-4d96-d754-1828d1732146"
      },
      "execution_count": null,
      "outputs": [
        {
          "output_type": "stream",
          "name": "stdout",
          "text": [
            "gpt-4o-mini\n",
            "To decompose the high-level comment/summary into logical steps, we can break it down as follows:\n",
            "\n",
            "1. **Function Definition**: Define a function named `process` that takes a single integer parameter `x`.\n",
            "\n",
            "2. **Input Validation**: \n",
            "   - Check if the input `x` is less than 0.\n",
            "   - If `x` is less than 0, return -1. This indicates that the input is invalid.\n",
            "\n",
            "3. **Calculate Square**: \n",
            "   - If the input `x` is valid (i.e., non-negative), calculate the square of `x` by multiplying `x` by itself.\n",
            "\n",
            "4. **Return Result**: \n",
            "   - Return the calculated square of `x` as the result of the function.\n",
            "\n",
            "In summary, the steps outline the process of validating the input, computing the square if valid, and returning the appropriate result based on the input value.\n",
            "\n",
            "\n",
            "Codestral-2501\n",
            "To break down the high-level comment/summary of the `process` function into logical steps, we need to follow the steps explicitly mentioned in the comment:\n",
            "\n",
            "1. **Validate the Input:**\n",
            "   - Check if the input `x` is less than 0.\n",
            "   - If `x` is less than 0, return `-1`.\n",
            "\n",
            "2. **Calculate the Square:**\n",
            "   - If `x` is not less than 0, calculate the square of `x`.\n",
            "\n",
            "3. **Return the Result:**\n",
            "   - Return the calculated square of `x`.\n",
            "\n",
            "Here's the step-by-step breakdown of the code:\n",
            "\n",
            "```cpp\n",
            "int process(int x) {\n",
            "  // Step 1: Validate the input\n",
            "  if (x < 0) {\n",
            "    return -1; // Return -1 if x is less than 0\n",
            "  }\n",
            "\n",
            "  // Step 2: Calculate the square\n",
            "  int result = x * x;\n",
            "\n",
            "  // Step 3: Return the result\n",
            "  return result;\n",
            "}\n",
            "```\n",
            "\n",
            "Let's go through the steps in more detail:\n",
            "\n",
            "1. **Input Validation:**\n",
            "   ```cpp\n",
            "   if (x < 0) {\n",
            "     return -1;\n",
            "   }\n",
            "   ```\n",
            "   - This condition checks if `x` is negative.\n",
            "   - If `x` is negative, the function immediately returns `-1`, ending further execution.\n",
            "\n",
            "2. **Square Calculation:**\n",
            "   ```cpp\n",
            "   int result = x * x;\n",
            "   ```\n",
            "   - If the input `x` is not negative, the function proceeds to calculate the square of `x`.\n",
            "   - The result of `x * x` is stored in the variable `result`.\n",
            "\n",
            "3. **Return the Result:**\n",
            "   ```cpp\n",
            "   return result;\n",
            "   ```\n",
            "   - Finally, the function returns the calculated square of `x`.\n",
            "\n",
            "By following these steps, the function `process` validates the input, calculates the square if the input is valid, and returns the appropriate result.\n",
            "\n",
            "\n"
          ]
        }
      ]
    },
    {
      "cell_type": "markdown",
      "source": [
        "# **Task 20: Purpose Inference → Completion (Python)**"
      ],
      "metadata": {
        "id": "mxTgYmzEIWeW"
      }
    },
    {
      "cell_type": "code",
      "source": [
        "code = \"\"\"\n",
        "```python\n",
        "def calculate_average ( scores ) :\n",
        "  total = 0\n",
        "  # TODO : Complete to return average\n",
        "  pass\n",
        "```\n",
        "\"\"\""
      ],
      "metadata": {
        "id": "mbSq1GaIjN6L"
      },
      "execution_count": 58,
      "outputs": []
    },
    {
      "cell_type": "markdown",
      "source": [
        "## Prompting Strategy 1: Zero Shot"
      ],
      "metadata": {
        "id": "AkubgvucI-TT"
      }
    },
    {
      "cell_type": "code",
      "source": [
        "prompt = f\"Complete the function based on intent:\\n{code}\\nRespond with only the completed function.\""
      ],
      "metadata": {
        "id": "T2YTEDcvj2mX"
      },
      "execution_count": null,
      "outputs": []
    },
    {
      "cell_type": "code",
      "source": [
        "for i in range(2):\n",
        "  run_info = run_prompt(20, \"zero shot\", prompt, 768, 0.7, i)\n",
        "  runs.append(run_info)\n",
        "  print(run_info[\"model\"])\n",
        "  print(run_info[\"output\"])\n",
        "  print(\"\\n\")"
      ],
      "metadata": {
        "colab": {
          "base_uri": "https://localhost:8080/"
        },
        "id": "0kXf_xOekE4Q",
        "outputId": "962b99f6-b24a-4c87-f051-056c64540302"
      },
      "execution_count": null,
      "outputs": [
        {
          "output_type": "stream",
          "name": "stdout",
          "text": [
            "gpt-4o-mini\n",
            "```python\n",
            "def calculate_average(scores):\n",
            "    total = sum(scores)\n",
            "    return total / len(scores) if scores else 0\n",
            "```\n",
            "\n",
            "\n",
            "Codestral-2501\n",
            "```python\n",
            "def calculate_average(scores):\n",
            "    total = 0\n",
            "    for score in scores:\n",
            "        total += score\n",
            "    return total / len(scores)\n",
            "```\n",
            "\n",
            "\n"
          ]
        }
      ]
    },
    {
      "cell_type": "markdown",
      "source": [
        "## Prompting Strategy 2: Prompt Chaining"
      ],
      "metadata": {
        "id": "sd-2w9RrJGwS"
      }
    },
    {
      "cell_type": "code",
      "source": [
        "models_task20 = [1,3]"
      ],
      "metadata": {
        "id": "fYBw9IX0rSM_"
      },
      "execution_count": 59,
      "outputs": []
    },
    {
      "cell_type": "code",
      "source": [
        "for i in models_task20:\n",
        "  run_info = {\"task_num\": 20,\n",
        "            \"model\": \"\",\n",
        "            \"prompt strategy\": \"prompt chaining\",\n",
        "            \"prompt\": {\"step 1 prompt\": \"\", \"step 2 prompt\": \"\"},\n",
        "            \"output\": {\"response 1\": \"\", \"response 2\": \"\"}}\n",
        "\n",
        "  run_info[\"model\"] = model_choices[i]\n",
        "  prompt1 = f\"Identify the intended purpose of the following function in one sentence:\\n{code}\"\n",
        "  run_info[\"prompt\"][\"step 1 prompt\"] = prompt1\n",
        "\n",
        "  # Set up conversation history\n",
        "  messages = [\n",
        "      {\"role\": \"user\",\n",
        "      \"content\": prompt1}\n",
        "  ]\n",
        "\n",
        "  # Call the model\n",
        "  response = client.chat.completions.create(\n",
        "      model=model_choices[i], # Choose the model you want to use\n",
        "      max_tokens=768,\n",
        "      temperature=0.7,\n",
        "      messages=messages\n",
        "  )\n",
        "\n",
        "  # Add response to the conversation\n",
        "  reply = response.choices[0].message.content\n",
        "  messages.append({\"role\": \"assistant\", \"content\": reply})\n",
        "  response1 = reply\n",
        "  run_info[\"output\"][\"response 1\"] = response1\n",
        "\n",
        "  # User follows up\n",
        "  followup = f\"Complete the function based on the intent identified above. Respond with only the completed function.\"\n",
        "  run_info[\"prompt\"][\"step 2 prompt\"] = followup\n",
        "\n",
        "  # Add user message\n",
        "  messages.append({\"role\": \"user\", \"content\": followup})\n",
        "\n",
        "  # Call again with updated history\n",
        "  response = client.chat.completions.create(\n",
        "      model=model_choices[i],\n",
        "      max_tokens=768,\n",
        "      temperature=0.7,\n",
        "      messages=messages\n",
        "  )\n",
        "\n",
        "  # Add response to the conversation\n",
        "  reply = response.choices[0].message.content\n",
        "  run_info[\"output\"][\"response 2\"] = reply\n",
        "  runs.append(run_info)\n",
        "\n",
        "  print(run_info[\"model\"])\n",
        "  print(\"PROMPT 1:\")\n",
        "  print(run_info[\"prompt\"][\"step 1 prompt\"]+\"\\n\")\n",
        "  print(\"RESPONSE 1:\")\n",
        "  print(run_info[\"output\"][\"response 1\"]+\"\\n\")\n",
        "  print(\"PROMPT 2:\")\n",
        "  print(run_info[\"prompt\"][\"step 2 prompt\"]+\"\\n\")\n",
        "  print(\"RESPONSE 2:\")\n",
        "  print(run_info[\"output\"][\"response 2\"])\n",
        "  print(\"\\n\")"
      ],
      "metadata": {
        "colab": {
          "base_uri": "https://localhost:8080/"
        },
        "id": "rLktlWKFkQkd",
        "outputId": "196baf28-d6c3-47f2-ded6-8b229115e895"
      },
      "execution_count": 60,
      "outputs": [
        {
          "output_type": "stream",
          "name": "stdout",
          "text": [
            "Codestral-2501\n",
            "PROMPT 1:\n",
            "Identify the intended purpose of the following function in one sentence:\n",
            "\n",
            "```python\n",
            "def calculate_average ( scores ) :\n",
            "  total = 0\n",
            "  # TODO : Complete to return average\n",
            "  pass\n",
            "```\n",
            "\n",
            "\n",
            "RESPONSE 1:\n",
            "The intended purpose of the function is to calculate and return the average of a list of scores.\n",
            "\n",
            "PROMPT 2:\n",
            "Complete the function based on the intent identified above. Respond with only the completed function.\n",
            "\n",
            "RESPONSE 2:\n",
            "```python\n",
            "def calculate_average ( scores ) :\n",
            "  total = 0\n",
            "  for score in scores:\n",
            "    total += score\n",
            "  return total / len(scores)\n",
            "```\n",
            "\n",
            "\n",
            "gpt-4.1-mini\n",
            "PROMPT 1:\n",
            "Identify the intended purpose of the following function in one sentence:\n",
            "\n",
            "```python\n",
            "def calculate_average ( scores ) :\n",
            "  total = 0\n",
            "  # TODO : Complete to return average\n",
            "  pass\n",
            "```\n",
            "\n",
            "\n",
            "RESPONSE 1:\n",
            "The function is intended to calculate and return the average of the numerical values in the `scores` list.\n",
            "\n",
            "PROMPT 2:\n",
            "Complete the function based on the intent identified above. Respond with only the completed function.\n",
            "\n",
            "RESPONSE 2:\n",
            "```python\n",
            "def calculate_average(scores):\n",
            "    total = sum(scores)\n",
            "    return total / len(scores) if scores else 0\n",
            "```\n",
            "\n",
            "\n"
          ]
        }
      ]
    },
    {
      "cell_type": "markdown",
      "source": [
        "# **Task 21: Full-File Bug Detection and Refactoring (Python)**"
      ],
      "metadata": {
        "id": "Cc3-dQ9pIdMB"
      }
    },
    {
      "cell_type": "code",
      "source": [
        "code = \"\"\"\n",
        "```python\n",
        "# utils .py - Script to parse and summarize numeric CSV files\n",
        "\n",
        "import csv\n",
        "\n",
        "def read_csv ( filepath ) :\n",
        "  with open ( filepath , ’r’) as f :\n",
        "    return [ row for row in csv . reader ( f ) ]\n",
        "\n",
        "def summarize_column ( data , index ) :\n",
        "  values = [ float ( row [ index ]) for row in data [1:]] # skip header\n",
        "  total = sum( values )\n",
        "  avg = total / len ( values )\n",
        "  return total , avg\n",
        "\n",
        "def main () :\n",
        "  filepath = ’data .csv ’\n",
        "  data = read_csv ( filepath )\n",
        "  total , avg = summarize_column ( data , 1)\n",
        "  print (\" Total :\", total )\n",
        "  print (\" Average :\", avg )\n",
        "\n",
        "if __name__ == ’__main__ ’:\n",
        "  main ()\n",
        "```\n",
        "\"\"\""
      ],
      "metadata": {
        "id": "WLX1_4lDkyDW"
      },
      "execution_count": 103,
      "outputs": []
    },
    {
      "cell_type": "markdown",
      "source": [
        "## Prompting Strategy 1: Zero Shot"
      ],
      "metadata": {
        "id": "xzkSXCN1I-vI"
      }
    },
    {
      "cell_type": "code",
      "source": [
        "prompt = f\"Analyze the following utility script:\\n{code}\\nIdentify any potential logic issues or design flaws. Then, refactor it for better readability, correctness, and safety.\""
      ],
      "metadata": {
        "id": "6ikpWP2ykxf3"
      },
      "execution_count": 66,
      "outputs": []
    },
    {
      "cell_type": "code",
      "source": [
        "models_task21 = [1,3]"
      ],
      "metadata": {
        "id": "o-ZRptjmzJZP"
      },
      "execution_count": 68,
      "outputs": []
    },
    {
      "cell_type": "code",
      "source": [
        "for i in models_task21:\n",
        "  run_info = run_prompt(21, \"zero shot\", prompt, 1024, 0.7, i)\n",
        "  runs.append(run_info)\n",
        "  print(run_info[\"model\"])\n",
        "  print(run_info[\"output\"])\n",
        "  print(\"\\n\")"
      ],
      "metadata": {
        "colab": {
          "base_uri": "https://localhost:8080/"
        },
        "id": "uih9aoaqlWo0",
        "outputId": "4842bc34-ab75-4e2c-9f77-f6b3ac85aa1e"
      },
      "execution_count": 69,
      "outputs": [
        {
          "output_type": "stream",
          "name": "stdout",
          "text": [
            "Codestral-2501\n",
            "Let's analyze the utility script for potential issues and design flaws:\n",
            "\n",
            "### Potential Logic Issues and Design Flaws:\n",
            "\n",
            "1. **Character Encoding Issues**:\n",
            "   - The script uses non-standard single quotes (`’`) instead of standard single quotes (`'`). This will cause a `SyntaxError`.\n",
            "\n",
            "2. **File Handling**:\n",
            "   - The script does not handle exceptions that may arise from file operations, such as file not found or permission issues.\n",
            "\n",
            "3. **Data Validation**:\n",
            "   - There is no validation to ensure that the file is a valid CSV and that the specified column index exists in the data.\n",
            "\n",
            "4. **Type Errors**:\n",
            "   - The script does not handle cases where the values in the specified column cannot be converted to floats.\n",
            "\n",
            "5. **Magic Strings**:\n",
            "   - The filename `data.csv` is hardcoded, which reduces flexibility and testability.\n",
            "\n",
            "6. **Lack of Documentation**:\n",
            "   - There are no docstrings or comments explaining the purpose of the functions.\n",
            "\n",
            "7. **Column Indexing**:\n",
            "   - The script assumes that the column index is valid and that the data is numeric. There is no validation for these assumptions.\n",
            "\n",
            "### Refactored Script:\n",
            "\n",
            "```python\n",
            "# utils.py - Script to parse and summarize numeric CSV files\n",
            "\n",
            "import csv\n",
            "import sys\n",
            "\n",
            "def read_csv(filepath):\n",
            "    \"\"\"\n",
            "    Reads a CSV file and returns its content as a list of rows.\n",
            "\n",
            "    :param filepath: Path to the CSV file.\n",
            "    :return: List of rows from the CSV file.\n",
            "    \"\"\"\n",
            "    try:\n",
            "        with open(filepath, 'r') as f:\n",
            "            return list(csv.reader(f))\n",
            "    except FileNotFoundError:\n",
            "        print(f\"Error: The file {filepath} was not found.\")\n",
            "        sys.exit(1)\n",
            "    except Exception as e:\n",
            "        print(f\"Error reading file: {e}\")\n",
            "        sys.exit(1)\n",
            "\n",
            "def summarize_column(data, index):\n",
            "    \"\"\"\n",
            "    Summarizes a column in the CSV data by calculating the total and average of its numeric values.\n",
            "\n",
            "    :param data: List of rows from the CSV file.\n",
            "    :param index: Index of the column to summarize.\n",
            "    :return: Tuple containing the total and average of the column values.\n",
            "    \"\"\"\n",
            "    if not data:\n",
            "        return 0, 0\n",
            "\n",
            "    try:\n",
            "        values = [float(row[index]) for row in data[1:]]  # skip header\n",
            "    except (ValueError, IndexError) as e:\n",
            "        print(f\"Error processing column {index}: {e}\")\n",
            "        sys.exit(1)\n",
            "\n",
            "    total = sum(values)\n",
            "    avg = total / len(values) if values else 0\n",
            "    return total, avg\n",
            "\n",
            "def main():\n",
            "    \"\"\"\n",
            "    Main function to execute the script.\n",
            "    \"\"\"\n",
            "    filepath = 'data.csv'\n",
            "    data = read_csv(filepath)\n",
            "\n",
            "    if len(data) < 2:\n",
            "        print(\"Error: The CSV file is too short to contain data rows.\")\n",
            "        sys.exit(1)\n",
            "\n",
            "    try:\n",
            "        total, avg = summarize_column(data, 1)\n",
            "        print(\"Total:\", total)\n",
            "        print(\"Average:\", avg)\n",
            "    except Exception as e:\n",
            "        print(f\"Error summarizing column: {e}\")\n",
            "        sys.exit(1)\n",
            "\n",
            "if __name__ == '__main__':\n",
            "    main()\n",
            "```\n",
            "\n",
            "### Improvements Made:\n",
            "\n",
            "1. **Character Encoding Issues**:\n",
            "   - Replaced non-standard single quotes with standard single quotes.\n",
            "\n",
            "2. **File Handling**:\n",
            "   - Added exception handling for file operations.\n",
            "\n",
            "3. **Data Validation**:\n",
            "   - Added checks to ensure the file is a valid CSV and that the column index exists.\n",
            "\n",
            "4. **Type Errors**:\n",
            "   - Added exception handling for converting column values to floats.\n",
            "\n",
            "5. **Magic Strings**:\n",
            "   - The filename `data.csv` is now a variable, making it easier to change for different files.\n",
            "\n",
            "6. **Documentation**:\n",
            "   - Added docstrings to explain the purpose of each function.\n",
            "\n",
            "7. **Column Indexing**:\n",
            "   - Added validation to ensure the column index is valid and the data is numeric.\n",
            "\n",
            "8. **Error Messages**:\n",
            "   - Improved error messages to provide more context.\n",
            "\n",
            "By making these improvements, the script is more robust, readable, and easier to maintain.\n",
            "\n",
            "\n",
            "gpt-4.1-mini\n",
            "Let's analyze the provided script first, then identify issues, and finally refactor it.\n",
            "\n",
            "---\n",
            "\n",
            "## Original Script Analysis\n",
            "\n",
            "```python\n",
            "# utils .py - Script to parse and summarize numeric CSV files\n",
            "\n",
            "import csv\n",
            "\n",
            "def read_csv ( filepath ) :\n",
            "  with open ( filepath , ’r’)as f :\n",
            "    return [ row for row in csv . reader ( f ) ]\n",
            "\n",
            "def summarize_column ( data , index ) :\n",
            "  values = [ float ( row [ index ]) for row in data [1:]] # skip header\n",
            "  total = sum( values )\n",
            "  avg = total / len ( values )\n",
            "  return total , avg\n",
            "\n",
            "def main () :\n",
            "  filepath = ’data .csv ’\n",
            "  data = read_csv ( filepath )\n",
            "  total , avg = summarize_column ( data , 1)\n",
            "  print (\" Total :\", total )\n",
            "  print (\" Average :\", avg )\n",
            "\n",
            "if __name__ == ’__main__ ’:\n",
            "  main ()\n",
            "```\n",
            "\n",
            "### Issues and potential improvements\n",
            "\n",
            "1. **Syntax/Formatting Issues:**\n",
            "\n",
            "   - The code uses non-standard whitespace: spaces inside parentheses, e.g. `read_csv ( filepath )` instead of `read_csv(filepath)`.\n",
            "   - The script has inconsistent spacing and indentation style.\n",
            "   - Quotes are inconsistent and sometimes incorrect:\n",
            "     - The script uses `’` (right single quotation mark) instead of `'` (ASCII single quote).\n",
            "     - This will cause syntax errors.\n",
            "   - The filename `'data .csv '` has extra spaces.\n",
            "   - The `if __name__ == '__main__':` line has extra spaces and wrong quote characters.\n",
            "\n",
            "2. **Error Handling:**\n",
            "\n",
            "   - No error handling when opening the file or parsing floats.\n",
            "   - If the CSV file is missing, or if non-numeric data appears in the target column, the script will crash.\n",
            "\n",
            "3. **Assumptions:**\n",
            "\n",
            "   - Assumes the first row is a header; skips it.\n",
            "   - Assumes the specified column index exists.\n",
            "   - Assumes all rows have enough columns.\n",
            "   - Assumes all values in the column are convertible to float.\n",
            "\n",
            "4. **Design Flaws:**\n",
            "\n",
            "   - `read_csv` returns a list of rows without any structure.\n",
            "   - No flexibility in choosing which column to summarize — hardcoded to index 1.\n",
            "   - The script could use `csv.DictReader` to improve readability and safety by using column names.\n",
            "   - No command-line arguments support — file path and column index are hardcoded.\n",
            "   - No documentation or docstrings.\n",
            "\n",
            "5. **Miscellaneous:**\n",
            "\n",
            "   - The script name `utils.py` is generic and might cause import conflicts.\n",
            "   - The script prints results but does not return values or allow reuse of functions.\n",
            "\n",
            "---\n",
            "\n",
            "## Refactored Version\n",
            "\n",
            "Below is a refactored version that addresses these issues:\n",
            "\n",
            "- Fixes syntax and formatting.\n",
            "- Adds error handling.\n",
            "- Uses `csv.DictReader` for clarity.\n",
            "- Supports command-line arguments for filename and column name/index.\n",
            "- Adds docstrings and comments.\n",
            "- Uses logging for better error reporting (simple print statements used here for brevity).\n",
            "- Uses a main guard properly.\n",
            "- Improved readability and PEP8 compliance.\n",
            "\n",
            "```python\n",
            "import csv\n",
            "import sys\n",
            "\n",
            "def read_csv(filepath):\n",
            "    \"\"\"\n",
            "    Reads a CSV file and returns a list of rows as dictionaries.\n",
            "    \n",
            "    Args:\n",
            "        filepath (str): Path to the CSV file.\n",
            "        \n",
            "    Returns:\n",
            "        list of dict: List of rows with column names as keys.\n",
            "        \n",
            "    Raises:\n",
            "        FileNotFoundError: If file does not exist.\n",
            "        csv.Error: If CSV parsing error occurs.\n",
            "    \"\"\"\n",
            "    with open(filepath, 'r', newline='') as f:\n",
            "        reader = csv.DictReader(f)\n",
            "        return list(reader)\n",
            "\n",
            "def summarize_column(data, column):\n",
            "    \"\"\"\n",
            "    Summarizes a numeric column from CSV data.\n",
            "    \n",
            "    Args:\n",
            "        data (list of dict): CSV data rows.\n",
            "        column (str): Column name to summarize.\n",
            "        \n",
            "    Returns:\n",
            "        tuple: (total, average) of the column values.\n",
            "        \n",
            "    Raises:\n",
            "        ValueError: If column values are not convertible to float or column missing.\n",
            "    \"\"\"\n",
            "    values = []\n",
            "    for i, row in enumerate(data, start=1):\n",
            "        try:\n",
            "            value = float(row[column])\n",
            "            values.append(value)\n",
            "        except KeyError:\n",
            "            raise KeyError(f\"Column '{column}' not found in row {i}.\")\n",
            "        except ValueError:\n",
            "            raise ValueError(f\"Non-numeric value in column '{column}' at row {i}: {row[column]}\")\n",
            "    \n",
            "    if not values:\n",
            "        raise ValueError(f\"No data found in column '{column}'.\")\n",
            "    \n",
            "    total = sum(values)\n",
            "    average = total / len(values)\n",
            "    return total, average\n",
            "\n",
            "def main():\n",
            "    if len(sys.argv) != 3:\n",
            "        print(\"Usage: python utils.py <csv_file> <column_name>\")\n",
            "        sys.exit(1)\n",
            "    \n",
            "    filepath = sys.argv[1]\n",
            "    column =\n",
            "\n",
            "\n"
          ]
        }
      ]
    },
    {
      "cell_type": "markdown",
      "source": [
        "## Prompting Strategy 2: Prompt Chaining"
      ],
      "metadata": {
        "id": "3-XuEY3zJHEE"
      }
    },
    {
      "cell_type": "code",
      "source": [
        "for i in models_task21:\n",
        "  run_info = {\"task_num\": 21,\n",
        "            \"model\": \"\",\n",
        "            \"prompt strategy\": \"prompt chaining\",\n",
        "            \"prompt\": {\"step 1 prompt\": \"\", \"step 2 prompt\": \"\", \"step 3 prompt\": \"\"},\n",
        "            \"output\": {\"response 1\": \"\", \"response 2\": \"\", \"response 3\": \"\"}}\n",
        "\n",
        "  run_info[\"model\"] = model_choices[i]\n",
        "  prompt1 = f\"Identify any potential logic issues or design flaws in the following:\\n{code}\\nPlease format the response as a list. Do no provide solutions.\"\n",
        "  run_info[\"prompt\"][\"step 1 prompt\"] = prompt1\n",
        "\n",
        "  # Set up conversation history\n",
        "  messages = [\n",
        "      {\"role\": \"user\",\n",
        "      \"content\": prompt1}\n",
        "  ]\n",
        "\n",
        "  # Call the model\n",
        "  response = client.chat.completions.create(\n",
        "      model=model_choices[i], # Choose the model you want to use\n",
        "      max_tokens=1024,\n",
        "      temperature=0.7,\n",
        "      messages=messages\n",
        "  )\n",
        "\n",
        "  # Add response to the conversation\n",
        "  reply = response.choices[0].message.content\n",
        "  messages.append({\"role\": \"assistant\", \"content\": reply})\n",
        "  response1 = reply\n",
        "  run_info[\"output\"][\"response 1\"] = response1\n",
        "\n",
        "  # User follows up\n",
        "  followup = f\"Fix the issues identified above\"\n",
        "  run_info[\"prompt\"][\"step 2 prompt\"] = followup\n",
        "\n",
        "  # Add user message\n",
        "  messages.append({\"role\": \"user\", \"content\": followup})\n",
        "\n",
        "  # Call again with updated history\n",
        "  response = client.chat.completions.create(\n",
        "      model=model_choices[i],\n",
        "      max_tokens=1024,\n",
        "      temperature=0.7,\n",
        "      messages=messages\n",
        "  )\n",
        "\n",
        "  # Add response to the conversation\n",
        "  reply = response.choices[0].message.content\n",
        "  messages.append({\"role\": \"assistant\", \"content\": reply})\n",
        "  response2 = reply\n",
        "  run_info[\"output\"][\"response 2\"] = reply\n",
        "\n",
        "  # User follows up\n",
        "  followup = f\"Refactor the script for better readability, correctness, and safety.\"\n",
        "  run_info[\"prompt\"][\"step 3 prompt\"] = followup\n",
        "\n",
        "  # Add user message\n",
        "  messages.append({\"role\": \"user\", \"content\": followup})\n",
        "\n",
        "  # Call again with updated history\n",
        "  response = client.chat.completions.create(\n",
        "      model=model_choices[i], # Choose the model you want to use\n",
        "      max_tokens=1024,\n",
        "      temperature=0.7,\n",
        "      messages=messages\n",
        "  )\n",
        "\n",
        "  reply = response.choices[0].message.content\n",
        "  run_info[\"output\"][\"response 3\"] = reply\n",
        "  runs.append(run_info)\n",
        "\n",
        "\n",
        "\n",
        "  print(run_info[\"model\"])\n",
        "  print(\"PROMPT 1:\")\n",
        "  print(run_info[\"prompt\"][\"step 1 prompt\"]+\"\\n\")\n",
        "  print(\"RESPONSE 1:\")\n",
        "  print(run_info[\"output\"][\"response 1\"]+\"\\n\")\n",
        "  print(\"PROMPT 2:\")\n",
        "  print(run_info[\"prompt\"][\"step 2 prompt\"]+\"\\n\")\n",
        "  print(\"RESPONSE 2:\")\n",
        "  print(run_info[\"output\"][\"response 2\"])\n",
        "  print(\"PROMPT 3:\")\n",
        "  print(run_info[\"prompt\"][\"step 3 prompt\"]+\"\\n\")\n",
        "  print(\"RESPONSE 3:\")\n",
        "  print(run_info[\"output\"][\"response 3\"])\n",
        "  print(\"\\n\")"
      ],
      "metadata": {
        "colab": {
          "base_uri": "https://localhost:8080/"
        },
        "id": "kiuLYFbQkULS",
        "outputId": "9d3624d9-431a-48f4-bbba-89ef32f561bb"
      },
      "execution_count": 108,
      "outputs": [
        {
          "output_type": "stream",
          "name": "stdout",
          "text": [
            "Codestral-2501\n",
            "PROMPT 1:\n",
            "Identify any potential logic issues or design flaws in the following:\n",
            "\n",
            "```python\n",
            "# utils .py - Script to parse and summarize numeric CSV files\n",
            "\n",
            "import csv\n",
            "\n",
            "def read_csv ( filepath ) :\n",
            "  with open ( filepath , ’r’) as f :\n",
            "    return [ row for row in csv . reader ( f ) ]\n",
            "\n",
            "def summarize_column ( data , index ) :\n",
            "  values = [ float ( row [ index ]) for row in data [1:]] # skip header\n",
            "  total = sum( values )\n",
            "  avg = total / len ( values )\n",
            "  return total , avg\n",
            "\n",
            "def main () :\n",
            "  filepath = ’data .csv ’\n",
            "  data = read_csv ( filepath )\n",
            "  total , avg = summarize_column ( data , 1)\n",
            "  print (\" Total :\", total )\n",
            "  print (\" Average :\", avg )\n",
            "\n",
            "if __name__ == ’__main__ ’:\n",
            "  main ()\n",
            "```\n",
            "\n",
            "Please format the response as a list. Do no provide solutions.\n",
            "\n",
            "RESPONSE 1:\n",
            "1. **Syntax Errors**: The code contains syntax errors due to incorrect usage of single quotes (`‘` and `’`) instead of regular single quotes (`'`).\n",
            "\n",
            "2. **File Path Hardcoding**: The file path `data.csv` is hardcoded in the `main` function, which makes the script less flexible and reusable for different file paths.\n",
            "\n",
            "3. **Error Handling**: There is no error handling for file operations or CSV parsing. If the file does not exist or is not accessible, the script will raise an exception.\n",
            "\n",
            "4. **CSV Format Assumptions**: The script assumes that the CSV file has a header row and that the specified column index (in this case, `1`) contains numeric data. There is no validation to check if these assumptions are true.\n",
            "\n",
            "5. **Empty Column Handling**: If the specified column contains no data (i.e., all rows have empty values in that column), the script will raise a `ZeroDivisionError` when trying to calculate the average.\n",
            "\n",
            "6. **Column Index Validation**: There is no validation to check if the provided column index is within the bounds of the data. If the index is out of range, the script will raise an `IndexError`.\n",
            "\n",
            "7. **Magic Numbers**: The script uses magic numbers, such as `1` for the column index, which makes the code less readable and maintainable.\n",
            "\n",
            "8. **Missing Docstrings and Comments**: The script lacks docstrings and comments, making it difficult to understand the purpose and functionality of the functions and the overall script.\n",
            "\n",
            "9. **Code Formatting**: The code formatting is inconsistent, with extra spaces and inconsistent indentation, which can make the code harder to read and maintain.\n",
            "\n",
            "10. **Data Type Checking**: The script assumes that the values in the specified column are numeric. There is no type checking or conversion to ensure that the values are indeed numbers, which can lead to runtime errors if the data contains non-numeric values.\n",
            "\n",
            "11. **Skipping Header Row**: The script skips the header row implicitly by starting the iteration from the second row. This assumes that the header is always present and does not provide a way to handle cases where the header is missing or needs to be included in the summary.\n",
            "\n",
            "PROMPT 2:\n",
            "Fix the issues identified above\n",
            "\n",
            "RESPONSE 2:\n",
            "Here is the revised version of the script with the identified issues addressed:\n",
            "\n",
            "```python\n",
            "# utils.py - Script to parse and summarize numeric CSV files\n",
            "\n",
            "import csv\n",
            "\n",
            "def read_csv(filepath):\n",
            "    \"\"\"Reads a CSV file and returns its content as a list of rows.\"\"\"\n",
            "    try:\n",
            "        with open(filepath, 'r') as f:\n",
            "            return [row for row in csv.reader(f)]\n",
            "    except FileNotFoundError:\n",
            "        print(f\"Error: The file {filepath} does not exist.\")\n",
            "        return None\n",
            "    except Exception as e:\n",
            "        print(f\"Error: An unexpected error occurred while reading the file {filepath}.\\n{e}\")\n",
            "        return None\n",
            "\n",
            "def summarize_column(data, index):\n",
            "    \"\"\"Summarizes a column in the CSV data by calculating the total and average.\"\"\"\n",
            "    if not data:\n",
            "        print(\"Error: No data to summarize.\")\n",
            "        return None, None\n",
            "\n",
            "    if index < 0 or index >= len(data[0]):\n",
            "        print(f\"Error: Column index {index} is out of bounds.\")\n",
            "        return None, None\n",
            "\n",
            "    try:\n",
            "        values = [float(row[index]) for row in data[1:]]  # skip header\n",
            "        total = sum(values)\n",
            "        avg = total / len(values)\n",
            "        return total, avg\n",
            "    except ValueError:\n",
            "        print(f\"Error: Non-numeric data found in column {index}.\")\n",
            "        return None, None\n",
            "    except ZeroDivisionError:\n",
            "        print(f\"Error: Column {index} is empty.\")\n",
            "        return None, None\n",
            "\n",
            "def main(filepath, column_index):\n",
            "    \"\"\"Main function to read CSV and summarize a column.\"\"\"\n",
            "    data = read_csv(filepath)\n",
            "    if data is None:\n",
            "        return\n",
            "\n",
            "    total, avg = summarize_column(data, column_index)\n",
            "    if total is not None and avg is not None:\n",
            "        print(f\"Total: {total}\")\n",
            "        print(f\"Average: {avg}\")\n",
            "\n",
            "if __name__ == '__main__':\n",
            "    import sys\n",
            "    if len(sys.argv) != 3:\n",
            "        print(\"Usage: python utils.py <filepath> <column_index>\")\n",
            "    else:\n",
            "        filepath = sys.argv[1]\n",
            "        column_index = int(sys.argv[2])\n",
            "        main(filepath, column_index)\n",
            "```\n",
            "\n",
            "### Changes Made:\n",
            "\n",
            "1. **Syntax Errors**: Corrected the use of single quotes.\n",
            "2. **File Path Hardcoding**: Removed hardcoding and used command-line arguments to specify the file path and column index.\n",
            "3. **Error Handling**: Added error handling for file operations and CSV parsing.\n",
            "4. **CSV Format Assumptions**: Added validation to check if the file is empty and if the column index is within bounds.\n",
            "5. **Empty Column Handling**: Added error handling for empty columns.\n",
            "6. **Column Index Validation**: Added validation to ensure the column index is within the bounds of the data.\n",
            "7. **Magic Numbers**: Removed magic numbers by using command-line arguments.\n",
            "8. **Docstrings and Comments**: Added docstrings to explain the purpose of functions.\n",
            "9. **Code Formatting**: Improved code formatting for consistency.\n",
            "10. **Data Type Checking**: Added type checking and error handling for non-numeric data.\n",
            "11. **Skipping Header Row**: Ensured the header row is skipped and provided a way to handle cases where the header is missing.\n",
            "PROMPT 3:\n",
            "Refactor the script for better readability, correctness, and safety.\n",
            "\n",
            "RESPONSE 3:\n",
            "Certainly! Here is a refactored version of the script with improved readability, correctness, and safety:\n",
            "\n",
            "```python\n",
            "# utils.py - Script to parse and summarize numeric CSV files\n",
            "\n",
            "import csv\n",
            "import sys\n",
            "\n",
            "def read_csv(filepath):\n",
            "    \"\"\"\n",
            "    Reads a CSV file and returns its content as a list of rows.\n",
            "\n",
            "    :param filepath: Path to the CSV file.\n",
            "    :return: List of rows from the CSV file or None if an error occurs.\n",
            "    \"\"\"\n",
            "    try:\n",
            "        with open(filepath, mode='r', newline='') as file:\n",
            "            reader = csv.reader(file)\n",
            "            return list(reader)\n",
            "    except FileNotFoundError:\n",
            "        print(f\"Error: The file {filepath} does not exist.\")\n",
            "    except Exception as e:\n",
            "        print(f\"Error: An unexpected error occurred while reading the file {filepath}.\\n{e}\")\n",
            "    return None\n",
            "\n",
            "def summarize_column(data, index):\n",
            "    \"\"\"\n",
            "    Summarizes a column in the CSV data by calculating the total and average.\n",
            "\n",
            "    :param data: List of rows from the CSV file.\n",
            "    :param index: Index of the column to summarize.\n",
            "    :return: Tuple (total, average) or (None, None) if an error occurs.\n",
            "    \"\"\"\n",
            "    if not data:\n",
            "        print(\"Error: No data to summarize.\")\n",
            "        return None, None\n",
            "\n",
            "    if index < 0 or index >= len(data[0]):\n",
            "        print(f\"Error: Column index {index} is out of bounds.\")\n",
            "        return None, None\n",
            "\n",
            "    try:\n",
            "        values = [float(row[index]) for row in data[1:]]  # skip header\n",
            "        total = sum(values)\n",
            "        avg = total / len(values)\n",
            "        return total, avg\n",
            "    except ValueError:\n",
            "        print(f\"Error: Non-numeric data found in column {index}.\")\n",
            "    except ZeroDivisionError:\n",
            "        print(f\"Error: Column {index} is empty.\")\n",
            "    return None, None\n",
            "\n",
            "def main():\n",
            "    \"\"\"\n",
            "    Main function to read CSV and summarize a column.\n",
            "    \"\"\"\n",
            "    if len(sys.argv) != 3:\n",
            "        print(\"Usage: python utils.py <filepath> <column_index>\")\n",
            "        return\n",
            "\n",
            "    filepath = sys.argv[1]\n",
            "    try:\n",
            "        column_index = int(sys.argv[2])\n",
            "    except ValueError:\n",
            "        print(\"Error: Column index must be an integer.\")\n",
            "        return\n",
            "\n",
            "    data = read_csv(filepath)\n",
            "    if data is None:\n",
            "        return\n",
            "\n",
            "    total, avg = summarize_column(data, column_index)\n",
            "    if total is not None and avg is not None:\n",
            "        print(f\"Total: {total}\")\n",
            "        print(f\"Average: {avg}\")\n",
            "\n",
            "if __name__ == '__main__':\n",
            "    main()\n",
            "```\n",
            "\n",
            "### Changes Made:\n",
            "\n",
            "1. **Error Handling**: Enhanced error handling to provide clearer error messages.\n",
            "2. **Function Documentation**: Added docstrings to all functions to explain their purpose and parameters.\n",
            "3. **Code Structure**: Improved the structure of the script for better readability.\n",
            "4. **Input Validation**: Added input validation for the file path and column index.\n",
            "5. **Magic Numbers**: Removed magic numbers and used command-line arguments effectively.\n",
            "6. **Code Formatting**: Ensured consistent code formatting for better readability.\n",
            "7. **CSV Reader**: Enhanced the CSV reader to handle different newline formats gracefully.\n",
            "8. **Command-Line Interface**: Improved the command-line interface for better user experience.\n",
            "\n",
            "This refactored script should be more robust, readable, and maintainable.\n",
            "\n",
            "\n",
            "gpt-4.1-mini\n",
            "PROMPT 1:\n",
            "Identify any potential logic issues or design flaws in the following:\n",
            "\n",
            "```python\n",
            "# utils .py - Script to parse and summarize numeric CSV files\n",
            "\n",
            "import csv\n",
            "\n",
            "def read_csv ( filepath ) :\n",
            "  with open ( filepath , ’r’) as f :\n",
            "    return [ row for row in csv . reader ( f ) ]\n",
            "\n",
            "def summarize_column ( data , index ) :\n",
            "  values = [ float ( row [ index ]) for row in data [1:]] # skip header\n",
            "  total = sum( values )\n",
            "  avg = total / len ( values )\n",
            "  return total , avg\n",
            "\n",
            "def main () :\n",
            "  filepath = ’data .csv ’\n",
            "  data = read_csv ( filepath )\n",
            "  total , avg = summarize_column ( data , 1)\n",
            "  print (\" Total :\", total )\n",
            "  print (\" Average :\", avg )\n",
            "\n",
            "if __name__ == ’__main__ ’:\n",
            "  main ()\n",
            "```\n",
            "\n",
            "Please format the response as a list. Do no provide solutions.\n",
            "\n",
            "RESPONSE 1:\n",
            "1. Inconsistent and incorrect use of quotation marks (e.g., use of smart quotes ’ ’ instead of standard single quotes ' ').\n",
            "2. Extra spaces inside function calls and definitions that reduce code readability (e.g., `read_csv ( filepath )` instead of `read_csv(filepath)`).\n",
            "3. Hardcoded filepath with spaces (`’data .csv ’`) which may cause file not found errors.\n",
            "4. No error handling for file operations or CSV parsing.\n",
            "5. Assumes all rows have a valid numeric value at the specified index without validation.\n",
            "6. No handling for empty data or empty columns which may cause division by zero in average calculation.\n",
            "7. Assumes the CSV file has a header and skips the first row without verifying.\n",
            "8. No checks for the index being within the range of the columns in rows.\n",
            "9. The script reads the entire CSV into memory which may be inefficient for large files.\n",
            "10. Function and variable naming is generic and may not clearly convey their purpose.\n",
            "11. The script does not support command-line arguments for file input, reducing flexibility.\n",
            "12. No documentation or comments explaining function behaviors or parameters.\n",
            "13. The `main` function calls `summarize_column` with a hardcoded column index (`1`) without validation.\n",
            "14. The print statements include inconsistent spacing in output strings.\n",
            "\n",
            "PROMPT 2:\n",
            "Fix the issues identified above\n",
            "\n",
            "RESPONSE 2:\n",
            "```python\n",
            "# utils.py - Script to parse and summarize numeric CSV files\n",
            "\n",
            "import csv\n",
            "import sys\n",
            "\n",
            "def read_csv(filepath):\n",
            "    \"\"\"\n",
            "    Reads a CSV file and returns its content as a list of rows.\n",
            "    Each row is a list of strings.\n",
            "    \"\"\"\n",
            "    try:\n",
            "        with open(filepath, 'r', newline='', encoding='utf-8') as f:\n",
            "            return [row for row in csv.reader(f)]\n",
            "    except FileNotFoundError:\n",
            "        print(f\"Error: File '{filepath}' not found.\")\n",
            "        return None\n",
            "    except Exception as e:\n",
            "        print(f\"Error reading '{filepath}': {e}\")\n",
            "        return None\n",
            "\n",
            "def summarize_column(data, index):\n",
            "    \"\"\"\n",
            "    Calculates the total and average of numeric values in a specified column index.\n",
            "    Skips the header row and rows with invalid numeric data.\n",
            "    Returns a tuple (total, average) or None if no valid data is found.\n",
            "    \"\"\"\n",
            "    if not data or len(data) < 2:\n",
            "        print(\"Error: CSV data is empty or missing rows.\")\n",
            "        return None\n",
            "\n",
            "    if index < 0 or index >= len(data[0]):\n",
            "        print(f\"Error: Column index {index} is out of range.\")\n",
            "        return None\n",
            "\n",
            "    values = []\n",
            "    for row_num, row in enumerate(data[1:], start=2):  # start=2 for user-friendly row number\n",
            "        if len(row) <= index:\n",
            "            print(f\"Warning: Row {row_num} does not have column index {index}. Skipping.\")\n",
            "            continue\n",
            "        try:\n",
            "            value = float(row[index])\n",
            "            values.append(value)\n",
            "        except ValueError:\n",
            "            print(f\"Warning: Non-numeric value '{row[index]}' at row {row_num}, column {index}. Skipping.\")\n",
            "\n",
            "    if not values:\n",
            "        print(\"Error: No valid numeric data found in the specified column.\")\n",
            "        return None\n",
            "\n",
            "    total = sum(values)\n",
            "    avg = total / len(values)\n",
            "    return total, avg\n",
            "\n",
            "def main():\n",
            "    if len(sys.argv) < 2:\n",
            "        print(\"Usage: python utils.py <csv_filepath> [column_index]\")\n",
            "        sys.exit(1)\n",
            "\n",
            "    filepath = sys.argv[1]\n",
            "    column_index = 1  # default column index\n",
            "\n",
            "    if len(sys.argv) >= 3:\n",
            "        try:\n",
            "            column_index = int(sys.argv[2])\n",
            "        except ValueError:\n",
            "            print(\"Error: Column index must be an integer.\")\n",
            "            sys.exit(1)\n",
            "\n",
            "    data = read_csv(filepath)\n",
            "    if data is None:\n",
            "        sys.exit(1)\n",
            "\n",
            "    result = summarize_column(data, column_index)\n",
            "    if result is None:\n",
            "        sys.exit(1)\n",
            "\n",
            "    total, avg = result\n",
            "    print(f\"Total: {total}\")\n",
            "    print(f\"Average: {avg}\")\n",
            "\n",
            "if __name__ == '__main__':\n",
            "    main()\n",
            "```\n",
            "PROMPT 3:\n",
            "Refactor the script for better readability, correctness, and safety.\n",
            "\n",
            "RESPONSE 3:\n",
            "```python\n",
            "\"\"\"\n",
            "utils.py - Script to parse and summarize numeric CSV files.\n",
            "\n",
            "Usage:\n",
            "    python utils.py <csv_filepath> [column_index]\n",
            "\n",
            "Description:\n",
            "    Reads a CSV file, extracts numeric values from a specified column,\n",
            "    and computes the total and average of those values.\n",
            "\"\"\"\n",
            "\n",
            "import csv\n",
            "import sys\n",
            "\n",
            "\n",
            "def read_csv(filepath):\n",
            "    \"\"\"\n",
            "    Reads a CSV file and returns its content as a list of rows.\n",
            "\n",
            "    Args:\n",
            "        filepath (str): Path to the CSV file.\n",
            "\n",
            "    Returns:\n",
            "        list[list[str]]: List of rows, where each row is a list of strings.\n",
            "        None if file cannot be read.\n",
            "    \"\"\"\n",
            "    try:\n",
            "        with open(filepath, 'r', newline='', encoding='utf-8') as file:\n",
            "            return list(csv.reader(file))\n",
            "    except FileNotFoundError:\n",
            "        print(f\"Error: File '{filepath}' not found.\")\n",
            "    except Exception as error:\n",
            "        print(f\"Error reading file '{filepath}': {error}\")\n",
            "    return None\n",
            "\n",
            "\n",
            "def parse_numeric_column(data, column_index):\n",
            "    \"\"\"\n",
            "    Parses numeric values from a specified column in CSV data, skipping the header.\n",
            "\n",
            "    Args:\n",
            "        data (list[list[str]]): CSV data as a list of rows.\n",
            "        column_index (int): Index of the column to parse.\n",
            "\n",
            "    Returns:\n",
            "        list[float]: List of parsed numeric values.\n",
            "    \"\"\"\n",
            "    values = []\n",
            "\n",
            "    for row_num, row in enumerate(data[1:], start=2):  # Skip header, start counting rows at 2 for user clarity\n",
            "        if len(row) <= column_index:\n",
            "            print(f\"Warning: Row {row_num} missing column {column_index}. Skipping.\")\n",
            "            continue\n",
            "\n",
            "        cell = row[column_index].strip()\n",
            "        if not cell:\n",
            "            print(f\"Warning: Empty cell at row {row_num}, column {column_index}. Skipping.\")\n",
            "            continue\n",
            "\n",
            "        try:\n",
            "            value = float(cell)\n",
            "            values.append(value)\n",
            "        except ValueError:\n",
            "            print(f\"Warning: Non-numeric value '{cell}' at row {row_num}, column {column_index}. Skipping.\")\n",
            "\n",
            "    return values\n",
            "\n",
            "\n",
            "def summarize(values):\n",
            "    \"\"\"\n",
            "    Calculates the total and average of a list of numeric values.\n",
            "\n",
            "    Args:\n",
            "        values (list[float]): List of numeric values.\n",
            "\n",
            "    Returns:\n",
            "        tuple[float, float]: Total and average of the values.\n",
            "    \"\"\"\n",
            "    if not values:\n",
            "        return None, None\n",
            "\n",
            "    total = sum(values)\n",
            "    average = total / len(values)\n",
            "    return total, average\n",
            "\n",
            "\n",
            "def main():\n",
            "    if len(sys.argv) < 2:\n",
            "        print(\"Usage: python utils.py <csv_filepath> [column_index]\")\n",
            "        sys.exit(1)\n",
            "\n",
            "    filepath = sys.argv[1]\n",
            "\n",
            "    # Default column index to 1 if not provided\n",
            "    column_index = 1\n",
            "    if len(sys.argv) >= 3:\n",
            "        try:\n",
            "            column_index = int(sys.argv[2])\n",
            "            if column_index < 0:\n",
            "                raise ValueError()\n",
            "        except ValueError:\n",
            "            print(\"Error: Column index must be a non-negative integer.\")\n",
            "            sys.exit(1)\n",
            "\n",
            "    data = read_csv(filepath)\n",
            "    if data is None:\n",
            "        sys.exit(1)\n",
            "\n",
            "    if len(data) < 2:\n",
            "        print(\"Error: CSV file must contain a header and at least one data row.\")\n",
            "        sys.exit(1)\n",
            "\n",
            "    if column_index >= len(data[0]):\n",
            "        print(f\"Error: Column index {column_index} out of range. CSV has {len(data[0])} columns.\")\n",
            "        sys.exit(1)\n",
            "\n",
            "    values = parse_numeric_column(data, column_index)\n",
            "    if not values:\n",
            "        print(\"Error: No valid numeric data found in the specified column.\")\n",
            "        sys.exit(1)\n",
            "\n",
            "    total, average = summarize(values)\n",
            "    print(f\"Total: {total}\")\n",
            "    print(f\"Average: {average}\")\n",
            "\n",
            "\n",
            "if __name__ == \"__main__\":\n",
            "    main()\n",
            "```\n",
            "\n",
            "\n"
          ]
        }
      ]
    },
    {
      "cell_type": "markdown",
      "source": [
        "# **Task 22: Code Completion and Robustness Enhancement (Python)**"
      ],
      "metadata": {
        "id": "3OmPrugdIjwB"
      }
    },
    {
      "cell_type": "code",
      "source": [
        "code = \"\"\"\n",
        "```python\n",
        "# file_processor .py - Incomplete script for processing text files\n",
        "\n",
        "import string\n",
        "\n",
        "def load_file ( filepath ) :\n",
        "  with open ( filepath , ’r’) as f :\n",
        "    return f . readlines ()\n",
        "\n",
        "def clean_line ( line ) :\n",
        "  # TODO : Remove punctuation and make lowercase\n",
        "  pass\n",
        "def count_words ( lines ) :\n",
        "  word_counts = {}\n",
        "  for line in lines :\n",
        "  clean = clean_line ( line )\n",
        "  for word in clean . split () :\n",
        "    word_counts [ word ] = word_counts . get ( word , 0) + 1\n",
        "  return word_counts\n",
        "\n",
        "def main () :\n",
        "  filepath = ’input .txt ’\n",
        "  lines = load_file ( filepath )\n",
        "  counts = count_words ( lines )\n",
        "  for word , count in sorted ( counts . items () ) :\n",
        "    print ( f\"{ word }: { count }\")\n",
        "\n",
        "if __name__ == ’__main__ ’:\n",
        "main ()\n",
        "```\n",
        "\"\"\""
      ],
      "metadata": {
        "id": "AVSm96PhmW4E"
      },
      "execution_count": 73,
      "outputs": []
    },
    {
      "cell_type": "markdown",
      "source": [
        "## Prompting Strategy 1: Zero Shot"
      ],
      "metadata": {
        "id": "mekE9ysBI_G4"
      }
    },
    {
      "cell_type": "code",
      "source": [
        "models_task22 = [1,3]"
      ],
      "metadata": {
        "id": "gFFbl2Gg6pqC"
      },
      "execution_count": 75,
      "outputs": []
    },
    {
      "cell_type": "code",
      "source": [
        "prompt = f\"Complete the following file-processing script:\\n{code}.\\nThe goal is to clean each line (by removing punctuation and making the line lowercase) and count word frequencies\""
      ],
      "metadata": {
        "id": "Vy3ko5RDoAn5"
      },
      "execution_count": 76,
      "outputs": []
    },
    {
      "cell_type": "code",
      "source": [
        "for i in models_task22:\n",
        "  run_info = run_prompt(22, \"zero shot\", prompt, 1024, 0.7, i)\n",
        "  runs.append(run_info)\n",
        "  print(run_info[\"model\"])\n",
        "  print(run_info[\"output\"])"
      ],
      "metadata": {
        "colab": {
          "base_uri": "https://localhost:8080/"
        },
        "id": "GRb5epiwoiaP",
        "outputId": "7ddb86b2-7764-4a33-9c60-ab9dce75e69b"
      },
      "execution_count": 77,
      "outputs": [
        {
          "output_type": "stream",
          "name": "stdout",
          "text": [
            "Codestral-2501\n",
            "Sure! Let's complete the script by implementing the `clean_line` function and correcting any syntax issues. Here is the complete and functional script:\n",
            "\n",
            "```python\n",
            "# file_processor.py - Complete script for processing text files\n",
            "\n",
            "import string\n",
            "\n",
            "def load_file(filepath):\n",
            "    with open(filepath, 'r') as f:\n",
            "        return f.readlines()\n",
            "\n",
            "def clean_line(line):\n",
            "    # Remove punctuation and make lowercase\n",
            "    translator = str.maketrans('', '', string.punctuation)\n",
            "    cleaned_line = line.translate(translator).lower()\n",
            "    return cleaned_line\n",
            "\n",
            "def count_words(lines):\n",
            "    word_counts = {}\n",
            "    for line in lines:\n",
            "        clean = clean_line(line)\n",
            "        for word in clean.split():\n",
            "            word_counts[word] = word_counts.get(word, 0) + 1\n",
            "    return word_counts\n",
            "\n",
            "def main():\n",
            "    filepath = 'input.txt'\n",
            "    lines = load_file(filepath)\n",
            "    counts = count_words(lines)\n",
            "    for word, count in sorted(counts.items()):\n",
            "        print(f\"{word}: {count}\")\n",
            "\n",
            "if __name__ == '__main__':\n",
            "    main()\n",
            "```\n",
            "\n",
            "### Explanation:\n",
            "\n",
            "1. **`load_file` Function**: Reads the file and returns a list of lines.\n",
            "2. **`clean_line` Function**:\n",
            "   - Removes punctuation using `str.maketrans` and `translate`.\n",
            "   - Converts the line to lowercase using `lower()`.\n",
            "3. **`count_words` Function**:\n",
            "   - Initializes an empty dictionary to store word counts.\n",
            "   - Iterates through each line, cleans it, splits it into words, and updates the word count in the dictionary.\n",
            "4. **`main` Function**:\n",
            "   - Specifies the file path.\n",
            "   - Loads the file.\n",
            "   - Counts the words.\n",
            "   - Prints the word counts in sorted order.\n",
            "\n",
            "### Usage:\n",
            "- Ensure you have an `input.txt` file in the same directory as the script.\n",
            "- Run the script using Python: `python file_processor.py`.\n",
            "\n",
            "This will process the text file, count the frequency of each word, and print the results.\n",
            "gpt-4.1-mini\n",
            "Here is the completed script with the `clean_line` function implemented properly, and some formatting fixes for consistent Python style and syntax errors (like quotes and indentation):\n",
            "\n",
            "```python\n",
            "# file_processor.py - Completed script for processing text files\n",
            "\n",
            "import string\n",
            "\n",
            "def load_file(filepath):\n",
            "    with open(filepath, 'r') as f:\n",
            "        return f.readlines()\n",
            "\n",
            "def clean_line(line):\n",
            "    # Remove punctuation and make lowercase\n",
            "    translator = str.maketrans('', '', string.punctuation)\n",
            "    return line.translate(translator).lower()\n",
            "\n",
            "def count_words(lines):\n",
            "    word_counts = {}\n",
            "    for line in lines:\n",
            "        clean = clean_line(line)\n",
            "        for word in clean.split():\n",
            "            word_counts[word] = word_counts.get(word, 0) + 1\n",
            "    return word_counts\n",
            "\n",
            "def main():\n",
            "    filepath = 'input.txt'\n",
            "    lines = load_file(filepath)\n",
            "    counts = count_words(lines)\n",
            "    for word, count in sorted(counts.items()):\n",
            "        print(f\"{word}: {count}\")\n",
            "\n",
            "if __name__ == '__main__':\n",
            "    main()\n",
            "```\n",
            "\n",
            "### Explanation of the fix:\n",
            "- `clean_line` uses `str.translate` with a translation table that removes all punctuation characters from the line.\n",
            "- Converts the line to lowercase using `.lower()`.\n",
            "- Fixed indentation and quote characters (use straight quotes `'` instead of curly ones).\n",
            "- Fixed the indentation for the `count_words` function and the `main` function call under `if __name__ == '__main__':`.\n",
            "\n",
            "This script will now properly read the file, clean each line, count the words, and print the word frequencies sorted alphabetically.\n"
          ]
        }
      ]
    },
    {
      "cell_type": "code",
      "source": [
        "runs"
      ],
      "metadata": {
        "colab": {
          "base_uri": "https://localhost:8080/"
        },
        "id": "cM_kV1sN7d-u",
        "outputId": "3a55edf4-0a64-4b29-a338-442b99d3a1d2"
      },
      "execution_count": 78,
      "outputs": [
        {
          "output_type": "execute_result",
          "data": {
            "text/plain": [
              "[{'task_num': 22,\n",
              "  'model': 'Codestral-2501',\n",
              "  'prompt strategy': 'zero shot',\n",
              "  'prompt': 'Complete the following file-processing script:\\n\\n```python\\n# file_processor .py - Incomplete script for processing text files\\n\\nimport string\\n\\ndef load_file ( filepath ) :\\n  with open ( filepath , ’r’) as f :\\n    return f . readlines ()\\n\\ndef clean_line ( line ) :\\n  # TODO : Remove punctuation and make lowercase\\n  pass\\ndef count_words ( lines ) :\\n  word_counts = {}\\n  for line in lines :\\n  clean = clean_line ( line )\\n  for word in clean . split () :\\n    word_counts [ word ] = word_counts . get ( word , 0) + 1\\n  return word_counts\\n\\ndef main () :\\n  filepath = ’input .txt ’\\n  lines = load_file ( filepath )\\n  counts = count_words ( lines )\\n  for word , count in sorted ( counts . items () ) :\\n    print ( f\"{ word }: { count }\")\\n\\nif __name__ == ’__main__ ’:\\nmain ()\\n```\\n.\\nThe goal is to clean each line (by removing punctuation and making the line lowercase) and count word frequencies',\n",
              "  'output': 'Sure! Let\\'s complete the script by implementing the `clean_line` function and correcting any syntax issues. Here is the complete and functional script:\\n\\n```python\\n# file_processor.py - Complete script for processing text files\\n\\nimport string\\n\\ndef load_file(filepath):\\n    with open(filepath, \\'r\\') as f:\\n        return f.readlines()\\n\\ndef clean_line(line):\\n    # Remove punctuation and make lowercase\\n    translator = str.maketrans(\\'\\', \\'\\', string.punctuation)\\n    cleaned_line = line.translate(translator).lower()\\n    return cleaned_line\\n\\ndef count_words(lines):\\n    word_counts = {}\\n    for line in lines:\\n        clean = clean_line(line)\\n        for word in clean.split():\\n            word_counts[word] = word_counts.get(word, 0) + 1\\n    return word_counts\\n\\ndef main():\\n    filepath = \\'input.txt\\'\\n    lines = load_file(filepath)\\n    counts = count_words(lines)\\n    for word, count in sorted(counts.items()):\\n        print(f\"{word}: {count}\")\\n\\nif __name__ == \\'__main__\\':\\n    main()\\n```\\n\\n### Explanation:\\n\\n1. **`load_file` Function**: Reads the file and returns a list of lines.\\n2. **`clean_line` Function**:\\n   - Removes punctuation using `str.maketrans` and `translate`.\\n   - Converts the line to lowercase using `lower()`.\\n3. **`count_words` Function**:\\n   - Initializes an empty dictionary to store word counts.\\n   - Iterates through each line, cleans it, splits it into words, and updates the word count in the dictionary.\\n4. **`main` Function**:\\n   - Specifies the file path.\\n   - Loads the file.\\n   - Counts the words.\\n   - Prints the word counts in sorted order.\\n\\n### Usage:\\n- Ensure you have an `input.txt` file in the same directory as the script.\\n- Run the script using Python: `python file_processor.py`.\\n\\nThis will process the text file, count the frequency of each word, and print the results.'},\n",
              " {'task_num': 22,\n",
              "  'model': 'gpt-4.1-mini',\n",
              "  'prompt strategy': 'zero shot',\n",
              "  'prompt': 'Complete the following file-processing script:\\n\\n```python\\n# file_processor .py - Incomplete script for processing text files\\n\\nimport string\\n\\ndef load_file ( filepath ) :\\n  with open ( filepath , ’r’) as f :\\n    return f . readlines ()\\n\\ndef clean_line ( line ) :\\n  # TODO : Remove punctuation and make lowercase\\n  pass\\ndef count_words ( lines ) :\\n  word_counts = {}\\n  for line in lines :\\n  clean = clean_line ( line )\\n  for word in clean . split () :\\n    word_counts [ word ] = word_counts . get ( word , 0) + 1\\n  return word_counts\\n\\ndef main () :\\n  filepath = ’input .txt ’\\n  lines = load_file ( filepath )\\n  counts = count_words ( lines )\\n  for word , count in sorted ( counts . items () ) :\\n    print ( f\"{ word }: { count }\")\\n\\nif __name__ == ’__main__ ’:\\nmain ()\\n```\\n.\\nThe goal is to clean each line (by removing punctuation and making the line lowercase) and count word frequencies',\n",
              "  'output': 'Here is the completed script with the `clean_line` function implemented properly, and some formatting fixes for consistent Python style and syntax errors (like quotes and indentation):\\n\\n```python\\n# file_processor.py - Completed script for processing text files\\n\\nimport string\\n\\ndef load_file(filepath):\\n    with open(filepath, \\'r\\') as f:\\n        return f.readlines()\\n\\ndef clean_line(line):\\n    # Remove punctuation and make lowercase\\n    translator = str.maketrans(\\'\\', \\'\\', string.punctuation)\\n    return line.translate(translator).lower()\\n\\ndef count_words(lines):\\n    word_counts = {}\\n    for line in lines:\\n        clean = clean_line(line)\\n        for word in clean.split():\\n            word_counts[word] = word_counts.get(word, 0) + 1\\n    return word_counts\\n\\ndef main():\\n    filepath = \\'input.txt\\'\\n    lines = load_file(filepath)\\n    counts = count_words(lines)\\n    for word, count in sorted(counts.items()):\\n        print(f\"{word}: {count}\")\\n\\nif __name__ == \\'__main__\\':\\n    main()\\n```\\n\\n### Explanation of the fix:\\n- `clean_line` uses `str.translate` with a translation table that removes all punctuation characters from the line.\\n- Converts the line to lowercase using `.lower()`.\\n- Fixed indentation and quote characters (use straight quotes `\\'` instead of curly ones).\\n- Fixed the indentation for the `count_words` function and the `main` function call under `if __name__ == \\'__main__\\':`.\\n\\nThis script will now properly read the file, clean each line, count the words, and print the word frequencies sorted alphabetically.'}]"
            ]
          },
          "metadata": {},
          "execution_count": 78
        }
      ]
    },
    {
      "cell_type": "markdown",
      "source": [
        "## Prompting Strategy 2: Chain of Thought"
      ],
      "metadata": {
        "id": "p7XfxbT2JHYV"
      }
    },
    {
      "cell_type": "code",
      "source": [
        "prompt = f\"Complete the following file-processing script:\\n{code}.\\nThe goal is to clean each line (by removing punctuation and making the line lowercase) and count word frequencies. Think step-by-step.\""
      ],
      "metadata": {
        "id": "WwzI8o047wHa"
      },
      "execution_count": 79,
      "outputs": []
    },
    {
      "cell_type": "code",
      "source": [
        "for i in models_task22:\n",
        "  run_info = run_prompt(22, \"chain of thought\", prompt, 1024, 0.7, i)\n",
        "  runs.append(run_info)"
      ],
      "metadata": {
        "id": "Hn2inqu58Bsr"
      },
      "execution_count": 80,
      "outputs": []
    },
    {
      "cell_type": "code",
      "source": [
        "# save all the runs into a json file\n",
        "import json\n",
        "with open(\"raw_prompts_and_outputs.json\", \"w\") as f:\n",
        "    json.dump(runs, f, indent=4)"
      ],
      "metadata": {
        "id": "JsHyie8aG9Jf"
      },
      "execution_count": null,
      "outputs": []
    },
    {
      "cell_type": "code",
      "source": [],
      "metadata": {
        "id": "qATVF7NxxjvI"
      },
      "execution_count": null,
      "outputs": []
    }
  ],
  "metadata": {
    "kernelspec": {
      "display_name": "Python 3",
      "name": "python3"
    },
    "language_info": {
      "codemirror_mode": {
        "name": "ipython",
        "version": 3
      },
      "file_extension": ".py",
      "mimetype": "text/x-python",
      "name": "python",
      "nbconvert_exporter": "python",
      "pygments_lexer": "ipython3",
      "version": "3.11.4"
    },
    "colab": {
      "provenance": [],
      "gpuType": "T4",
      "collapsed_sections": [
        "zq4cFBu-BLhW",
        "LLHGU96AMkXV",
        "BlA4xO3AobD7",
        "CKzgLaxwqFNK",
        "HP7fW9v3jdRl",
        "F8QTaEAajtIO",
        "eV0GsXf9JPWQ",
        "PCMIAfRQJzKP",
        "K9aqczw5SADN",
        "Pl1rANS_kOMh",
        "2kOIG4JNGywb",
        "lflqxKc-G-MU",
        "BENpcER7HGKe",
        "C9XyKrdgI8Re",
        "MA8kQsssI8uF",
        "5B-b9gRyI9XJ",
        "xzkSXCN1I-vI",
        "3OmPrugdIjwB"
      ]
    }
  },
  "nbformat": 4,
  "nbformat_minor": 0
}